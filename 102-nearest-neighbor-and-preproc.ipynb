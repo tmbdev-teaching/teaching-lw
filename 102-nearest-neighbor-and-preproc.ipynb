{
 "cells": [
  {
   "cell_type": "markdown",
   "id": "fe5d43b3",
   "metadata": {},
   "source": [
    "Title: Nearest Neighbor Classification\n",
    "Author: Thomas Breuel\n",
    "Institution: UniKL"
   ]
  },
  {
   "cell_type": "markdown",
   "id": "bd1ce176",
   "metadata": {},
   "source": [
    "Nearest Neighbor Classification on MNIST Data\n",
    "============================================="
   ]
  },
  {
   "cell_type": "code",
   "execution_count": 2,
   "id": "4411e069",
   "metadata": {
    "collapsed": true
   },
   "outputs": [
    {
     "name": "stdout",
     "output_type": "stream",
     "text": [
      "\n"
     ]
    }
   ],
   "source": [
    "\n",
    "from pylab import *\n",
    "from scipy.spatial import distance\n",
    "import tables\n",
    "import random as pyrandom"
   ]
  },
  {
   "cell_type": "markdown",
   "id": "44e63b6d",
   "metadata": {},
   "source": [
    "We start off by loading some data. These are images of handwritten digits. This is a fairly typical pattern classification task.\n",
    "\n"
   ]
  },
  {
   "cell_type": "code",
   "execution_count": 3,
   "id": "7d7a4187",
   "metadata": {
    "collapsed": true
   },
   "outputs": [],
   "source": [
    "mnist = tables.openFile(\"mnist.h5\",\"r\")"
   ]
  },
  {
   "cell_type": "markdown",
   "id": "f331332b",
   "metadata": {},
   "source": [
    "The data is stored in an HDF5 file, an easy way of storing and accessing array data.\n",
    "\n"
   ]
  },
  {
   "cell_type": "code",
   "execution_count": 4,
   "id": "5cff6afd",
   "metadata": {
    "collapsed": false
   },
   "outputs": [
    {
     "data": {
      "text/plain": [
       "File(filename=mnist.h5, title='', mode='r', rootUEP='/', filters=Filters(complevel=0, shuffle=False, fletcher32=False))\n",
       "/ (RootGroup) ''\n",
       "/deskewed (EArray(60000, 28, 28), shuffle, zlib(9)) ''\n",
       "  atom := Float32Atom(shape=(), dflt=0.0)\n",
       "  maindim := 0\n",
       "  flavor := 'numpy'\n",
       "  byteorder := 'little'\n",
       "  chunkshape := (20, 28, 28)\n",
       "/images (CArray(60000, 28, 28), shuffle, zlib(9)) ''\n",
       "  atom := Float32Atom(shape=(), dflt=0.0)\n",
       "  maindim := 0\n",
       "  flavor := 'numpy'\n",
       "  byteorder := 'little'\n",
       "  chunkshape := (83, 28, 28)\n",
       "/labels (CArray(60000,), shuffle, zlib(9)) ''\n",
       "  atom := Int32Atom(shape=(), dflt=0)\n",
       "  maindim := 0\n",
       "  flavor := 'numpy'\n",
       "  byteorder := 'little'\n",
       "  chunkshape := (16384,)\n",
       "/test_deskewed (EArray(10000, 28, 28), shuffle, zlib(9)) ''\n",
       "  atom := Float32Atom(shape=(), dflt=0.0)\n",
       "  maindim := 0\n",
       "  flavor := 'numpy'\n",
       "  byteorder := 'little'\n",
       "  chunkshape := (20, 28, 28)\n",
       "/test_images (CArray(10000, 28, 28), shuffle, zlib(9)) ''\n",
       "  atom := Float32Atom(shape=(), dflt=0.0)\n",
       "  maindim := 0\n",
       "  flavor := 'numpy'\n",
       "  byteorder := 'little'\n",
       "  chunkshape := (41, 28, 28)\n",
       "/test_labels (CArray(10000,), shuffle, zlib(9)) ''\n",
       "  atom := Int32Atom(shape=(), dflt=0)\n",
       "  maindim := 0\n",
       "  flavor := 'numpy'\n",
       "  byteorder := 'little'\n",
       "  chunkshape := (16384,)\n"
      ]
     },
     "execution_count": 4,
     "metadata": {},
     "output_type": "execute_result"
    }
   ],
   "source": [
    "mnist"
   ]
  },
  {
   "cell_type": "markdown",
   "id": "4700d0d6",
   "metadata": {},
   "source": [
    "We can access this on-disk data like arrays in memory.\n",
    "\n"
   ]
  },
  {
   "cell_type": "code",
   "execution_count": 5,
   "id": "fe38608a",
   "metadata": {
    "collapsed": false
   },
   "outputs": [
    {
     "data": {
      "text/plain": [
       "<matplotlib.image.AxesImage at 0x348e7d0>"
      ]
     },
     "execution_count": 5,
     "metadata": {},
     "output_type": "execute_result"
    },
    {
     "data": {
      "image/png": "[encoded data removed]"
     },
     "metadata": {},
     "output_type": "display_data"
    }
   ],
   "source": [
    "imshow(mnist.root.images[0],cmap=cm.gray,interpolation='nearest')"
   ]
  },
  {
   "cell_type": "markdown",
   "id": "7dc01461",
   "metadata": {},
   "source": [
    "Access to on-disk data is slower, and it's easier to just copy everything into memory.\n",
    "\n"
   ]
  },
  {
   "cell_type": "code",
   "execution_count": 6,
   "id": "26760561",
   "metadata": {
    "collapsed": true
   },
   "outputs": [],
   "source": [
    "images = array(mnist.root.images,'f')\n",
    "labels = array(mnist.root.labels,'i')"
   ]
  },
  {
   "cell_type": "markdown",
   "id": "15fb5abc",
   "metadata": {},
   "source": [
    "There is a separate _test set_.\n",
    "\n"
   ]
  },
  {
   "cell_type": "code",
   "execution_count": 7,
   "id": "4d87472e",
   "metadata": {
    "collapsed": true
   },
   "outputs": [],
   "source": [
    "test_images = array(mnist.root.test_images,'f')\n",
    "test_labels = array(mnist.root.test_labels,'i')"
   ]
  },
  {
   "cell_type": "markdown",
   "id": "a26a218a",
   "metadata": {},
   "source": [
    "Let's look at some more samples.\n",
    "\n"
   ]
  },
  {
   "cell_type": "code",
   "execution_count": 8,
   "id": "6f6d88b5",
   "metadata": {
    "collapsed": false
   },
   "outputs": [
    {
     "name": "stdout",
     "output_type": "stream",
     "text": [
      "[5 0 4 1 9 2 1 3 1 4]\n"
     ]
    },
    {
     "data": {
      "image/png": "[encoded data removed]"
     },
     "metadata": {},
     "output_type": "display_data"
    }
   ],
   "source": [
    "print labels[:10]\n",
    "for i in range(25):\n",
    "    subplot(5,5,i+1)\n",
    "    gray()\n",
    "    imshow(images[i])"
   ]
  },
  {
   "cell_type": "markdown",
   "id": "2c7d4a2f",
   "metadata": {},
   "source": [
    "Let's use the first 1000 samples as our training set.\n",
    "\n"
   ]
  },
  {
   "cell_type": "code",
   "execution_count": 9,
   "id": "c24356ce",
   "metadata": {
    "collapsed": true
   },
   "outputs": [],
   "source": [
    "images1k = images[:1000].reshape(1000,28*28)\n",
    "labels1k = labels[:1000]"
   ]
  },
  {
   "cell_type": "markdown",
   "id": "56896700",
   "metadata": {},
   "source": [
    "Now we define a character recognizer by nearest neighbor classification:\n",
    "\n",
    "- compute all the distances between the unknown image and the training samples\n",
    "- return the class associated with the sample at the smallest distance.\n",
    "\n"
   ]
  },
  {
   "cell_type": "code",
   "execution_count": 10,
   "id": "557870dc",
   "metadata": {
    "collapsed": true
   },
   "outputs": [],
   "source": [
    "def ocr(image):\n",
    "    ds = distance.cdist(array([image.ravel()]),images1k)\n",
    "    md = argmin(ds[0])\n",
    "    return labels1k[md]"
   ]
  },
  {
   "cell_type": "markdown",
   "id": "b5187655",
   "metadata": {},
   "source": [
    "(Mathematical Formulation)\n",
    "\n",
    "If the training set is:\n",
    "\n",
    "$$ T = \\\\{(x_1,c_1) ... (x_N,c_N)\\\\} $$\n",
    "\n",
    "Mathematically, we write this as:\n",
    "\n",
    "$$ D(x) = c_{\\arg\\min_i ||x-x_i||} $$"
   ]
  },
  {
   "cell_type": "markdown",
   "id": "e5df5140",
   "metadata": {},
   "source": [
    "(Norms and Distances)\n",
    "\n",
    "Note that we can formulate this in terms of a distance function:\n",
    "\n",
    "$$ d(x,y) = || x - y || $$\n",
    "\n",
    "The distance function is here defined in terms of a metric $|| \\cdot ||$.\n",
    "\n",
    "Usually, this is the Euclidean metric:\n",
    "\n",
    "$$ ||x||^2 = \\sum x_i^2 $$"
   ]
  },
  {
   "cell_type": "markdown",
   "id": "791d9677",
   "metadata": {},
   "source": [
    "Let's try it out.\n",
    "\n"
   ]
  },
  {
   "cell_type": "code",
   "execution_count": 10,
   "id": "c7aad33b",
   "metadata": {
    "collapsed": false
   },
   "outputs": [
    {
     "data": {
      "text/plain": [
       "5"
      ]
     },
     "execution_count": 10,
     "metadata": {},
     "output_type": "execute_result"
    }
   ],
   "source": [
    "ocr(images1k[0])"
   ]
  },
  {
   "cell_type": "markdown",
   "id": "583d97c3",
   "metadata": {},
   "source": [
    "Now let's compute error rates for the test set.\n",
    "\n"
   ]
  },
  {
   "cell_type": "code",
   "execution_count": 11,
   "id": "4e82a2c2",
   "metadata": {
    "collapsed": true
   },
   "outputs": [
    {
     "name": "stdout",
     "output_type": "stream",
     "text": [
      "0.172\n"
     ]
    }
   ],
   "source": [
    "predictions = [ocr(test_images[i]) for i in range(1000)]\n",
    "print sum(array(predictions)!=array(test_labels[:1000]))/1000.0"
   ]
  },
  {
   "cell_type": "markdown",
   "id": "ec2b969a",
   "metadata": {},
   "source": [
    "# Test and Training Set Size"
   ]
  },
  {
   "cell_type": "markdown",
   "id": "0e6d41a9",
   "metadata": {},
   "source": [
    "Before continuing, let's put our data in a standard form.\n",
    "Usually, we represent data sets as a large 2D array, where the rows correspond to a sample.\n",
    "\n",
    "Since our original data is rank 3 (or maybe higher rank), we need to reshape.\n",
    "\n"
   ]
  },
  {
   "cell_type": "code",
   "execution_count": 11,
   "id": "235fdff2",
   "metadata": {
    "collapsed": true
   },
   "outputs": [],
   "source": [
    "def make2d(a):\n",
    "    return a.reshape(len(a),prod(a.shape[1:]))"
   ]
  },
  {
   "cell_type": "markdown",
   "id": "cd8415bd",
   "metadata": {},
   "source": [
    "This wraps up nearest neighbor evaluation; all you do is give it a training set and a test set, and it returns the resulting error rate.\n",
    "\n"
   ]
  },
  {
   "cell_type": "code",
   "execution_count": 12,
   "id": "023f295e",
   "metadata": {
    "collapsed": true
   },
   "outputs": [],
   "source": [
    "def nneval(training,ltraining,testing,ltesting,**kw):\n",
    "    ds = distance.cdist(make2d(testing),make2d(training),**kw)\n",
    "    closest = argmin(ds,axis=1)\n",
    "    predictions = [ltraining[i] for i in closest]\n",
    "    errors = sum(array(predictions)!=array(ltesting))\n",
    "    return errors*1.0/len(testing)"
   ]
  },
  {
   "cell_type": "markdown",
   "id": "967f6322",
   "metadata": {},
   "source": [
    "Here is the nearest neighbor experiment we just ran.\n",
    "\n"
   ]
  },
  {
   "cell_type": "code",
   "execution_count": 14,
   "id": "89b48f53",
   "metadata": {
    "collapsed": false
   },
   "outputs": [
    {
     "data": {
      "text/plain": [
       "0.17199999999999999"
      ]
     },
     "execution_count": 14,
     "metadata": {},
     "output_type": "execute_result"
    }
   ],
   "source": [
    "nneval(images[:1000],labels[:1000],test_images[:1000],test_labels[:1000])"
   ]
  },
  {
   "cell_type": "markdown",
   "id": "8bc2bd7d",
   "metadata": {},
   "source": [
    "Note that it is important that we use different test and training sets, otherwise we get incorrect estimates of performance. This is particularly pronounced with nearest neighbor classifiers (why?), but also happens with other classifiers.\n",
    "\n"
   ]
  },
  {
   "cell_type": "code",
   "execution_count": 15,
   "id": "59cb82bf",
   "metadata": {
    "collapsed": false
   },
   "outputs": [
    {
     "data": {
      "text/plain": [
       "0.0"
      ]
     },
     "execution_count": 15,
     "metadata": {},
     "output_type": "execute_result"
    }
   ],
   "source": [
    "nneval(images[:1000],labels[:1000],images[:1000],labels[:1000])"
   ]
  },
  {
   "cell_type": "markdown",
   "id": "acbd7ce3",
   "metadata": {},
   "source": [
    "# Margin of Error"
   ]
  },
  {
   "cell_type": "markdown",
   "id": "7f50d6dc",
   "metadata": {},
   "source": [
    "Let's try different randomly chosen test sets. Note that we don't get the same error estimate every time.\n",
    "\n"
   ]
  },
  {
   "cell_type": "code",
   "execution_count": 16,
   "id": "064d5ed6",
   "metadata": {
    "collapsed": false
   },
   "outputs": [
    {
     "name": "stdout",
     "output_type": "stream",
     "text": [
      "0.147\n",
      "0.143\n",
      "0.124\n",
      "0.154\n",
      "0.147\n",
      "0.128\n",
      "0.115\n",
      "0.135\n",
      "0.144\n",
      "0.129\n",
      "mean 0.1366\n",
      "sd 0.0117234807118\n"
     ]
    }
   ],
   "source": [
    "errs = []\n",
    "for i in range(10):\n",
    "    S = array(pyrandom.sample(xrange(len(test_images)),1000),'i')\n",
    "    e = nneval(images[:1000],labels[:1000],test_images[S],test_labels[S])\n",
    "    print e\n",
    "    errs.append(e)\n",
    "print \"mean\",mean(errs)\n",
    "print \"sd\",var(errs)**.5"
   ]
  },
  {
   "cell_type": "markdown",
   "id": "ffc91d28",
   "metadata": {},
   "source": [
    "(Binomial Distributions)\n",
    "\n",
    "Each of these estimates of the error rate is a random sample.\n",
    "This is similar to presidential polling.\n",
    "\n",
    "We're taking $n$ samples, and each sample is randomly true or false with the probability of error $p$.\n",
    "It is determined by a binomial distribution.\n",
    "\n",
    "The variance of a binomial distribution with probability $p$ and sample size $n$ is:\n",
    "\n",
    "$$ v = n p (1-p) $$\n",
    "\n",
    "We want to know the variance of the estimate of $p$, which is:\n",
    "\n",
    "$$ \\hat{p} = \\frac{k}{n} $$\n",
    "\n",
    "$$ \\sigma_{\\hat{p}} = \\sqrt{\\frac{v}{n^2}} = \\sqrt{\\frac{p(1-p)}{n}} $$"
   ]
  },
  {
   "cell_type": "markdown",
   "id": "0f16807d",
   "metadata": {},
   "source": [
    "(Margin of Error)\n",
    "\n",
    "We want to have a high confidence that our estimate of the probability of error is close to the true error rate. If we want that confidence to be 95 percent, then we need to choose a margin of error of $\\pm 2\\sigma$.\n",
    "\n",
    "Note that the standard deviation we calculate from the error rate is pretty close to the one we actually observe.\n",
    "\n",
    "\n"
   ]
  },
  {
   "cell_type": "code",
   "execution_count": 66,
   "id": "ebc7f8f1",
   "metadata": {
    "collapsed": false
   },
   "outputs": [
    {
     "name": "stdout",
     "output_type": "stream",
     "text": [
      "0.00948683298051\n"
     ]
    }
   ],
   "source": [
    "sd = ((0.1*(1-0.1))/1000.0)**.5\n",
    "print sd"
   ]
  },
  {
   "cell_type": "markdown",
   "id": "7eba7c50",
   "metadata": {},
   "source": [
    "(Comparing Classifiers)\n",
    "\n",
    "Often we want to be able to say: \"classifer 1 is better than classifier 2 because it gets a lower error rate\".\n",
    "\n",
    "When making such comparisons, it is essential to take into account the _margin of error_.\n",
    "\n",
    "If the error rate estimates of two classifiers are within the margin of error within each other, we cannot reliably determine which classifier is \"better\".\n",
    "\n",
    "In that case, we need more training/test data."
   ]
  },
  {
   "cell_type": "markdown",
   "id": "5d305b81",
   "metadata": {},
   "source": [
    "(Publications)\n",
    "\n",
    "You *must* give the margin of error for any classifier error rate estimates in your reports / publications.\n",
    "\n",
    "In simple cases, it is sufficient to give the number of samples used for evaluation.\n",
    "\n",
    "In complex cases, you may want to use other kinds of _significance tests_."
   ]
  },
  {
   "cell_type": "markdown",
   "id": "4185b1be",
   "metadata": {},
   "source": [
    "# Preprocessing and Feature Extraction"
   ]
  },
  {
   "cell_type": "markdown",
   "id": "d33791a6",
   "metadata": {},
   "source": [
    "Classifier performance can often be improved with preprocessing and feature extraction.\n",
    "This can be as simple as blurring.\n",
    "\n"
   ]
  },
  {
   "cell_type": "code",
   "execution_count": 16,
   "id": "6f2dd84d",
   "metadata": {
    "collapsed": true
   },
   "outputs": [
    {
     "name": "stdout",
     "output_type": "stream",
     "text": [
      "\n"
     ]
    }
   ],
   "source": [
    "from scipy.ndimage import filters\n",
    "def f(x):\n",
    "    return filters.gaussian_filter(x,1.0)"
   ]
  },
  {
   "cell_type": "code",
   "execution_count": 20,
   "id": "100a558f",
   "metadata": {
    "collapsed": false
   },
   "outputs": [
    {
     "data": {
      "text/plain": [
       "<matplotlib.image.AxesImage at 0x62ace50>"
      ]
     },
     "execution_count": 20,
     "metadata": {},
     "output_type": "execute_result"
    },
    {
     "data": {
      "image/png": "[encoded data removed]"
     },
     "metadata": {},
     "output_type": "display_data"
    }
   ],
   "source": [
    "gray(); imshow(f(images[0]))"
   ]
  },
  {
   "cell_type": "markdown",
   "id": "95c3a193",
   "metadata": {},
   "source": [
    "Note the improved performance relative to the original classifier.\n",
    "\n"
   ]
  },
  {
   "cell_type": "code",
   "execution_count": 21,
   "id": "6501ac6c",
   "metadata": {
    "collapsed": false
   },
   "outputs": [
    {
     "data": {
      "text/plain": [
       "0.114"
      ]
     },
     "execution_count": 21,
     "metadata": {},
     "output_type": "execute_result"
    }
   ],
   "source": [
    "nneval(amap(f,images[:1000]),labels[:1000],amap(f,test_images),test_labels)"
   ]
  },
  {
   "cell_type": "markdown",
   "id": "512ed45f",
   "metadata": {},
   "source": [
    "It's useful to try different parameters for feature extractors. Note that we evaluate using the saem test set; this generally helps reduce the variance of our error estimates greatly.\n",
    "\n"
   ]
  },
  {
   "cell_type": "code",
   "execution_count": 22,
   "id": "f6017c0a",
   "metadata": {
    "collapsed": false
   },
   "outputs": [
    {
     "name": "stdout",
     "output_type": "stream",
     "text": [
      "0.0 0.131\n",
      "0.5 0.1234\n",
      "1.0 0.114\n",
      "2.0 0.1506\n",
      "3.0 0.2256\n"
     ]
    }
   ],
   "source": [
    "for sigma in [0.0,0.5,1.0,2.0,3.0]:\n",
    "    def f(x):\n",
    "        return filters.gaussian_filter(x,sigma)\n",
    "    print sigma,nneval(amap(f,images[:1000]),labels[:1000],amap(f,test_images),test_labels)"
   ]
  },
  {
   "cell_type": "markdown",
   "id": "f6fbbbb2",
   "metadata": {},
   "source": [
    "You can experiment with other preprocessing methods.\n",
    "\n"
   ]
  },
  {
   "cell_type": "code",
   "execution_count": 23,
   "id": "9501ccb1",
   "metadata": {
    "collapsed": false
   },
   "outputs": [
    {
     "data": {
      "text/plain": [
       "<matplotlib.image.AxesImage at 0x62b57d0>"
      ]
     },
     "execution_count": 23,
     "metadata": {},
     "output_type": "execute_result"
    },
    {
     "data": {
      "image/png": "[encoded data removed]"
     },
     "metadata": {},
     "output_type": "display_data"
    }
   ],
   "source": [
    "imshow(filters.gaussian_laplace(images[0],2.0))"
   ]
  },
  {
   "cell_type": "markdown",
   "id": "f76c6e25",
   "metadata": {},
   "source": [
    "Again, you need to evaluate your preprocessing.\n",
    "\n"
   ]
  },
  {
   "cell_type": "code",
   "execution_count": 24,
   "id": "6994da6e",
   "metadata": {
    "collapsed": false
   },
   "outputs": [
    {
     "name": "stdout",
     "output_type": "stream",
     "text": [
      "0.5 0.256\n",
      "1.0 0.2013\n",
      "2.0 0.1123\n",
      "3.0 0.1235\n",
      "4.0 0.171\n"
     ]
    }
   ],
   "source": [
    "for sigma in [0.5,1.0,2.0,3.0,4.0]:\n",
    "    def f(x):\n",
    "        return filters.gaussian_laplace(x,sigma)\n",
    "    print sigma,nneval(amap(f,images[:1000]),labels[:1000],amap(f,test_images),test_labels)"
   ]
  },
  {
   "cell_type": "markdown",
   "id": "1cda628b",
   "metadata": {},
   "source": [
    "A common feature extraction method is gradient filtering. This is motivated by biological vision systems, but also has some theoretical justifications.\n",
    "\n"
   ]
  },
  {
   "cell_type": "code",
   "execution_count": 25,
   "id": "61deba1a",
   "metadata": {
    "collapsed": true
   },
   "outputs": [],
   "source": [
    "from scipy.ndimage import interpolation\n",
    "def gf(x,sigma=1.0,power=1,zoom=1):\n",
    "    d0 = filters.gaussian_filter(x,sigma,order=(1,0))\n",
    "    d1 = filters.gaussian_filter(x,sigma,order=(0,1))\n",
    "    if power!=1:\n",
    "        d0 = d0**power\n",
    "        d1 = d1**power\n",
    "    result = hstack([d0,d1])\n",
    "    if zoom!=1:\n",
    "        result = interpolation.zoom(result,zoom)\n",
    "    return result"
   ]
  },
  {
   "cell_type": "code",
   "execution_count": 26,
   "id": "92a1af95",
   "metadata": {
    "collapsed": false
   },
   "outputs": [
    {
     "data": {
      "text/plain": [
       "<matplotlib.image.AxesImage at 0x5eb3fd0>"
      ]
     },
     "execution_count": 26,
     "metadata": {},
     "output_type": "execute_result"
    },
    {
     "data": {
      "image/png": "[encoded data removed]"
     },
     "metadata": {},
     "output_type": "display_data"
    }
   ],
   "source": [
    "imshow(gf(images[0]))"
   ]
  },
  {
   "cell_type": "markdown",
   "id": "05abd1b6",
   "metadata": {},
   "source": [
    "Note that we are getting slightly better performance than with blurring.\n",
    "\n"
   ]
  },
  {
   "cell_type": "code",
   "execution_count": 27,
   "id": "08d186a6",
   "metadata": {
    "collapsed": false
   },
   "outputs": [
    {
     "name": "stdout",
     "output_type": "stream",
     "text": [
      "0.5 0.1817\n",
      "1.0 0.1349\n",
      "1.5 0.1078\n",
      "2.0 0.1088\n",
      "2.5 0.1241\n",
      "3.0 0.1496\n",
      "4.0 0.216\n"
     ]
    }
   ],
   "source": [
    "for sigma in [0.5,1.0,1.5,2.0,2.5,3.0,4.0]:\n",
    "    def f(x):\n",
    "        return gf(x,sigma=sigma)\n",
    "    print sigma,nneval(amap(f,images[:1000]),labels[:1000],amap(f,test_images),test_labels)"
   ]
  },
  {
   "cell_type": "markdown",
   "id": "8143aa26",
   "metadata": {},
   "source": [
    "Normalization and Metrics\n",
    "=========================="
   ]
  },
  {
   "cell_type": "markdown",
   "id": "e67803db",
   "metadata": {},
   "source": [
    "(Nearest Neighbor Classification)\n",
    "\n",
    "If the training set is:\n",
    "\n",
    "$$ T = \\\\{(x_1,c_1) ... (x_N,c_N)\\\\} $$\n",
    "\n",
    "Mathematically, we write this as:\n",
    "\n",
    "$$ D(x) = c_\\{\\arg\\min_i ||x-x_i||\\} $$\n",
    "\n",
    "Here, we used a _norm_, written as the function $||\\cdot ||$."
   ]
  },
  {
   "cell_type": "markdown",
   "id": "67be8da9",
   "metadata": {},
   "source": [
    "(Norms)\n",
    "\n",
    "There are many different kinds of norms:\n",
    "\n",
    "$$ || x ||_2 = \\left( \\sum x_i^2 \\right) ^ {1/2} $$\n",
    "\n",
    "$$ || x ||_1 = \\left( \\sum |x_i| \\right) $$\n",
    "\n",
    "$$ || x ||_d = \\left( \\sum |x_i|^d \\right)^ {1/d} $$\n",
    "\n",
    "$$ || x ||_\\infty = \\max |x_i| = \\lim_{d\\rightarrow\\infty} ||x||_d $$"
   ]
  },
  {
   "cell_type": "markdown",
   "id": "fbc2a115",
   "metadata": {},
   "source": [
    "(Norm Axioms)\n",
    "\n",
    "A norm captures the idea of a _length_ of a vector. It must satisfy:\n",
    "\n",
    "$$ ||\\cdot|| : {\\mathbb R}^n \\rightarrow {\\mathbb R} $$\n",
    "$$ ||x||>0 \\hbox{ if } x\\neq 0 $$\n",
    "$$ ||\\alpha x|| = |\\alpha|\\,||x|| $$\n",
    "\n",
    "Triangle inequality:\n",
    "$$ ||x + y|| \\leq ||x|| + ||y|| $$"
   ]
  },
  {
   "cell_type": "markdown",
   "id": "4bcd59b8",
   "metadata": {},
   "source": [
    "(Metrics)\n",
    "\n",
    "A _metric_ is a way of measuring _distance_ in a space. In vector spaces, it is closely related to norms.\n",
    "\n",
    "$$ d(x,y) = ||x - y|| $$\n",
    "\n",
    "Abstractly, norms are required to have the following properties:\n",
    "\n",
    "$$d(x,y)\\geq 0$$\n",
    "$$d(x,y)=0 \\hbox{ iff } x=y$$\n",
    "$$d(x,y) = d(y,x) \\hbox{ (symmetry)}$$\n",
    "$$d(x,z) \\leq d(x,y) + d(y,z) \\hbox{ (triangle inequality)}$$"
   ]
  },
  {
   "cell_type": "markdown",
   "id": "92bb8486",
   "metadata": {},
   "source": [
    "(Similarity / Dissimilarity Functions)\n",
    "\n",
    "There is no strict requirement that we use norms or metrics for \"nearest neighbor\" classification.\n",
    "\n",
    "Often, we can use dissimilarity functions. Generally, we prefer dissimilarity functions that satisfy:\n",
    "\n",
    "$$d(x,y)\\geq 0$$\n",
    "$$d(x,y)=0 \\hbox{ iff } x=y$$\n",
    "$$d(x,y) = d(y,x) \\hbox{ (symmetry)}$$\n",
    "\n",
    "However, none of those are necessary for good performance of a nearest neighbor classifier.\n",
    "\n",
    "For a _dissimilarity function_, generally, the value of the function should increase with increasing dissimilarity."
   ]
  },
  {
   "cell_type": "code",
   "execution_count": 18,
   "id": "dbe2c45f",
   "metadata": {
    "collapsed": false
   },
   "outputs": [
    {
     "name": "stdout",
     "output_type": "stream",
     "text": [
      " 1 0.159\n",
      "2 0.147\n",
      "3 0.143\n",
      "4 0.152\n"
     ]
    }
   ],
   "source": [
    "for p in [1,2,3,4]:\n",
    "    def f(x):\n",
    "        v = filters.gaussian_filter(x,sigma=1.5)\n",
    "        return v\n",
    "    print p,nneval(amap(f,images[:1000]),labels[:1000],amap(f,test_images[:1000]),test_labels[:1000],metric='minkowski',p=p)"
   ]
  },
  {
   "cell_type": "markdown",
   "id": "8b2f555c",
   "metadata": {},
   "source": [
    "(Normalization)\n",
    "\n",
    "A second important concept is that of _normalization_.\n",
    "Often, an input vector is known only up to a scale factor.\n",
    "\n",
    "That is, $x$ and $\\alpha x$ really represent the same sample.\n",
    "\n",
    "We can remove this influence by transforming the data as in\n",
    "\n",
    "$$ x \\rightarrow \\frac{x}{||x||} $$\n",
    "\n",
    "Note that any norm will do, but they will yield different results for classification."
   ]
  },
  {
   "cell_type": "code",
   "execution_count": 29,
   "id": "31327694",
   "metadata": {
    "collapsed": false
   },
   "outputs": [
    {
     "name": "stdout",
     "output_type": "stream",
     "text": [
      "0.5 0.1517\n",
      "1.0 0.1187\n",
      "2.0 0.0921\n",
      "3.0 0.1276\n",
      "4.0 0.1734\n"
     ]
    }
   ],
   "source": [
    "for sigma in [0.5,1.0,2.0,3.0,4.0]:\n",
    "    def f(x):\n",
    "        v = gf(x,sigma=sigma)\n",
    "        v = v*1.0/norm(v.ravel())\n",
    "        return v\n",
    "    print sigma,nneval(amap(f,images[:1000]),labels[:1000],amap(f,test_images),test_labels)"
   ]
  },
  {
   "cell_type": "markdown",
   "id": "c2055097",
   "metadata": {},
   "source": [
    "An analogous way of computing this is to use the _consine dissimilarity_:\n",
    "\n",
    "$$ d(x,y) = 1 - \\frac{x \\cdot y}{||x|| ~ ||y||} $$"
   ]
  },
  {
   "cell_type": "code",
   "execution_count": 47,
   "id": "b73cd987",
   "metadata": {
    "collapsed": true
   },
   "outputs": [
    {
     "name": "stdout",
     "output_type": "stream",
     "text": [
      "0.5 0.1517\n",
      "1.0 0.1187\n",
      "2.0 0.0921\n",
      "3.0 0.1276\n",
      "4.0 0.1734\n"
     ]
    }
   ],
   "source": [
    "# cosine dissimilarity\n",
    "for sigma in [0.5,1.0,2.0,3.0,4.0]:\n",
    "    def f(x):\n",
    "        v = gf(x,sigma=sigma)\n",
    "        v = v*1.0/norm(v.ravel())\n",
    "        return v\n",
    "    print sigma,nneval(amap(f,images[:1000]),labels[:1000],\n",
    "                       amap(f,test_images),test_labels,\n",
    "                       metric='cosine')"
   ]
  },
  {
   "cell_type": "markdown",
   "id": "9bae7894",
   "metadata": {},
   "source": [
    "(Note)\n",
    "\n",
    "Note that a combination of normalization and feature extraction gives us the best recognition performance so far.\n",
    "\n",
    "You need to experiment to find good combinations.\n",
    "\n",
    "The best preprocessing for one classifier isn't necessarily the best preprocessing for another classifier."
   ]
  },
  {
   "cell_type": "markdown",
   "id": "02e03dee",
   "metadata": {},
   "source": [
    "Deskewing and Canonicalization\n",
    "=============================="
   ]
  },
  {
   "cell_type": "markdown",
   "id": "832e92c8",
   "metadata": {},
   "source": [
    "There are other kinds of preprocessing that we can perform that greatly improve recognition.\n",
    "\n",
    "Generally, these are aimed at making recognition _invariant_ under transformation.\n",
    "\n",
    "We've already seen a couple of examples of this:\n",
    "\n",
    "$$ x\\rightarrow \\alpha x ~~\\hbox{ canonicalize by }~~ x \\rightarrow \\frac{x}{|| x ||} $$\n",
    "\n",
    "$$ x\\rightarrow x + c ~~\\hbox{ canonicalize by }~~ x \\rightarrow x - \\bar{x} $$"
   ]
  },
  {
   "cell_type": "markdown",
   "id": "6ff3d0ab",
   "metadata": {},
   "source": [
    "(Canonical Elements)\n",
    "\n",
    "Formally, we say that the set of all feature vectors is divided into subsets, where each subset contains vectors that are equivalent from the point of view of recognition.\n",
    "\n",
    "For each subset, we pick a _canonical element_ via a canonicalization function.\n",
    "\n",
    "So, assume that some $x_r$ has class $c_r$.\n",
    "\n",
    "Then $S_r = \\\\{x | x = x_r + \\alpha \\\\}$ all is in the same class as $c_r$.\n",
    "\n",
    "The canonical element is found by the function:\n",
    "\n",
    "$$ f(x) = x - \\bar{x} $$\n",
    "\n",
    "$$ S_r = \\\\{ x | f(x) = f(x_r) \\\\} $$\n",
    "\n",
    "Note that this does not work perfectly in the presence of errors."
   ]
  },
  {
   "cell_type": "markdown",
   "id": "db66972f",
   "metadata": {},
   "source": [
    "(Invariants)\n",
    "\n",
    "Classification is about decision functions $D(x)$\n",
    "\n",
    "A decision function is _invariant_ under a transformation $f$ if $D(f(x)) = D(x)$ for all $x$.\n",
    "\n",
    "A decision function is _invariant_ under a group transformation $G$ if $D(g(x)) = D(x)$ for all $x$ and for all $g\\in G$.\n",
    "\n",
    "The set of $ \\\\{ g\\cdot x | g \\in G \\\\} $ is often a set of equivalent samples and we can pick a canonical element by computing an appropriate transformation $g(x)$ and then using $g(x)\\cdot x$ as a canonical element."
   ]
  },
  {
   "cell_type": "markdown",
   "id": "2a6e3146",
   "metadata": {},
   "source": [
    "(Translations)\n",
    "\n",
    "Assume that classes are invariant under _shifts_ or _translations_ of the input image.\n",
    "\n",
    "We can use the _centroid_ as a canonicalizer.\n",
    "\n",
    "This is like considering the input image as a point cloud and computing the \"average point\"."
   ]
  },
  {
   "cell_type": "code",
   "execution_count": 20,
   "id": "f8226562",
   "metadata": {
    "collapsed": true
   },
   "outputs": [],
   "source": [
    "def centroid(image):\n",
    "    c0,c1 = mgrid[:image.shape[0],:image.shape[1]]\n",
    "    xm = sum(c0*image)/sum(image)\n",
    "    ym = sum(c1*image)/sum(image)\n",
    "    return xm,ym"
   ]
  },
  {
   "cell_type": "code",
   "execution_count": 23,
   "id": "c0250f94",
   "metadata": {
    "collapsed": false
   },
   "outputs": [
    {
     "data": {
      "text/plain": [
       "[<matplotlib.lines.Line2D at 0x4ee9dd0>]"
      ]
     },
     "execution_count": 23,
     "metadata": {},
     "output_type": "execute_result"
    },
    {
     "data": {
      "image/png": "[encoded data removed]"
     },
     "metadata": {},
     "output_type": "display_data"
    }
   ],
   "source": [
    "y,x = centroid(images[0])\n",
    "imshow(images[0])\n",
    "plot([y],[x],'r+')"
   ]
  },
  {
   "cell_type": "markdown",
   "id": "64145521",
   "metadata": {},
   "source": [
    "The MNIST data has already been normalized so that the centroid is approximately at the center of the image (but it can't hurt to check).\n",
    "\n"
   ]
  },
  {
   "cell_type": "code",
   "execution_count": 25,
   "id": "e643281e",
   "metadata": {
    "collapsed": false
   },
   "outputs": [
    {
     "name": "stdout",
     "output_type": "stream",
     "text": [
      "(14.035783690482875, 13.645193370657632)\n",
      "(13.553301030232202, 14.097568454157251)\n",
      "(14.103585733921463, 13.543178344551675)\n",
      "(14.487537587239133, 13.993461209772029)\n",
      "(14.079522362948207, 13.71181319082735)\n",
      "(14.074792275054866, 14.018848223932769)\n",
      "(13.908193650058521, 14.408703656101897)\n",
      "(13.945435392218119, 14.323666012968628)\n",
      "(14.336858182082644, 14.11541252284602)\n",
      "(13.822177247288515, 14.459001526253239)\n"
     ]
    }
   ],
   "source": [
    "for i in range(10):\n",
    "    print centroid(images[i])"
   ]
  },
  {
   "cell_type": "markdown",
   "id": "67951e8f",
   "metadata": {},
   "source": [
    "The MNIST data hasn't been _skew corrected_. That is, characters may be slanted and/or rotated.\n",
    "\n",
    "To find this, we compute the major and minor axes of the covariance matrix (the second moments).\n",
    "\n"
   ]
  },
  {
   "cell_type": "code",
   "execution_count": 26,
   "id": "de1e7daf",
   "metadata": {
    "collapsed": true
   },
   "outputs": [],
   "source": [
    "def moments(image):\n",
    "    c0,c1 = mgrid[:image.shape[0],:image.shape[1]]\n",
    "    m0 = sum(c0*image)/sum(image)\n",
    "    m1 = sum(c1*image)/sum(image)\n",
    "    m00 = sum((c0-m0)**2*image)/sum(image)\n",
    "    m11 = sum((c1-m1)**2*image)/sum(image)\n",
    "    m01 = sum((c0-m0)*(c1-m1)*image)/sum(image)\n",
    "    return array([m0,m1]),array([[m00,m01],[m01,m11]])"
   ]
  },
  {
   "cell_type": "code",
   "execution_count": 27,
   "id": "5d6054dd",
   "metadata": {
    "collapsed": true
   },
   "outputs": [
    {
     "name": "stdout",
     "output_type": "stream",
     "text": [
      "[ 14.03578369  13.64519337]\n"
     ]
    }
   ],
   "source": [
    "c,v = moments(images[0])\n",
    "print c"
   ]
  },
  {
   "cell_type": "code",
   "execution_count": 29,
   "id": "0153eac0",
   "metadata": {
    "collapsed": false
   },
   "outputs": [
    {
     "name": "stdout",
     "output_type": "stream",
     "text": [
      "[ 45.88981162  12.77832657]\n",
      "[[ 0.9490232   0.31520622]\n",
      " [-0.31520622  0.9490232 ]]\n"
     ]
    }
   ],
   "source": [
    "l,evs = eig(v)\n",
    "print l\n",
    "print evs"
   ]
  },
  {
   "cell_type": "code",
   "execution_count": 33,
   "id": "7ebbee31",
   "metadata": {
    "collapsed": false
   },
   "outputs": [
    {
     "data": {
      "text/plain": [
       "[<matplotlib.lines.Line2D at 0x4d4ef90>]"
      ]
     },
     "execution_count": 33,
     "metadata": {},
     "output_type": "execute_result"
    },
    {
     "data": {
      "image/png": "[encoded data removed]"
     },
     "metadata": {},
     "output_type": "display_data"
    }
   ],
   "source": [
    "y,x = c\n",
    "((e00,e01),(e10,e11)) = evs\n",
    "imshow(images[0])\n",
    "plot([y,y+10*e10],[x,x+10*e11],'r')"
   ]
  },
  {
   "cell_type": "markdown",
   "id": "7c9c1f27",
   "metadata": {},
   "source": [
    "Now we want to rotate or deskew the character. For rotation, we make this vector vertical.\n",
    "\n"
   ]
  },
  {
   "cell_type": "code",
   "execution_count": 35,
   "id": "3754be1b",
   "metadata": {
    "collapsed": false
   },
   "outputs": [],
   "source": [
    "\n",
    "from scipy.ndimage import interpolation"
   ]
  },
  {
   "cell_type": "code",
   "execution_count": 36,
   "id": "1c12271a",
   "metadata": {
    "collapsed": false
   },
   "outputs": [
    {
     "data": {
      "text/plain": [
       "<matplotlib.image.AxesImage at 0x4d4f190>"
      ]
     },
     "execution_count": 36,
     "metadata": {},
     "output_type": "execute_result"
    },
    {
     "data": {
      "image/png": "[encoded data removed]"
     },
     "metadata": {},
     "output_type": "display_data"
    }
   ],
   "source": [
    "subplot(121); imshow(images[0])\n",
    "angle = arctan2(evs[0][1],evs[0][0])*180/pi\n",
    "subplot(122); imshow(interpolation.rotate(images[0],angle))"
   ]
  },
  {
   "cell_type": "code",
   "execution_count": 62,
   "id": "830da7ad",
   "metadata": {
    "collapsed": true
   },
   "outputs": [],
   "source": [
    "# computing a rotation angle for each image\n",
    "def rotation_angle(image):\n",
    "    c,v = moments(image)\n",
    "    l,evs = eig(v)\n",
    "    i = argmax(l)\n",
    "    angle = arctan2(evs[i][1],evs[i][0])*180/pi\n",
    "    return angle\n",
    "def derotate(image):\n",
    "    return interpolation.rotate(image,rotation_angle(image),reshape=0,order=1)"
   ]
  },
  {
   "cell_type": "markdown",
   "id": "b368d332",
   "metadata": {},
   "source": [
    "Result of canonicalizing by rotation.\n",
    "\n"
   ]
  },
  {
   "cell_type": "code",
   "execution_count": 63,
   "id": "31d8e029",
   "metadata": {
    "collapsed": false
   },
   "outputs": [
    {
     "name": "stdout",
     "output_type": "stream",
     "text": [
      "[5 0 4 1 9 2 1 3 1 4]\n"
     ]
    },
    {
     "data": {
      "image/png": "[encoded data removed]"
     },
     "metadata": {},
     "output_type": "display_data"
    }
   ],
   "source": [
    "print labels[:10]\n",
    "for i in range(16):\n",
    "    subplot(8,4,2*i+1)\n",
    "    gray()\n",
    "    imshow(images[i])\n",
    "    subplot(8,4,2*i+2)\n",
    "    imshow(derotate(images[i]))"
   ]
  },
  {
   "cell_type": "markdown",
   "id": "44e41015",
   "metadata": {},
   "source": [
    "It turns out that canonicalizing by rotation isn't the best thing to do. It's generally better to _deskew_.\n",
    "Skewing is a coordinate tranformation of the form:\n",
    "\n",
    "$$ M = \\left(\\begin{array}{cc} 1 & 0 \\\\\\ \\alpha & 1 \\end{array} \\right) $$\n",
    "\n",
    "This is also called a _shear_ transformation. The further a pixel is removed from $y=0$, the further its $x$ coordinate is shifted."
   ]
  },
  {
   "cell_type": "code",
   "execution_count": 46,
   "id": "5d727ed6",
   "metadata": {
    "collapsed": true
   },
   "outputs": [],
   "source": [
    "# deskew transformation\n",
    "def deskew(image):\n",
    "    c,v = moments(image)\n",
    "    alpha = v[0,1]/v[0,0]\n",
    "    affine = array([[1,0],[alpha,1]])\n",
    "    ocenter = array(image.shape)/2.0\n",
    "    offset = c-dot(affine,ocenter)\n",
    "    return interpolation.affine_transform(image,affine,offset=offset,order=1)"
   ]
  },
  {
   "cell_type": "code",
   "execution_count": 47,
   "id": "71a85b55",
   "metadata": {
    "collapsed": false
   },
   "outputs": [
    {
     "data": {
      "text/plain": [
       "<matplotlib.image.AxesImage at 0x471efd0>"
      ]
     },
     "execution_count": 47,
     "metadata": {},
     "output_type": "execute_result"
    },
    {
     "data": {
      "image/png": "[encoded data removed]"
     },
     "metadata": {},
     "output_type": "display_data"
    }
   ],
   "source": [
    "subplot(121); imshow(images[3])\n",
    "subplot(122); imshow(deskew(images[3]))"
   ]
  },
  {
   "cell_type": "code",
   "execution_count": 49,
   "id": "5b61b3a9",
   "metadata": {
    "collapsed": false
   },
   "outputs": [
    {
     "name": "stdout",
     "output_type": "stream",
     "text": [
      "[5 0 4 1 9 2 1 3 1 4]\n"
     ]
    },
    {
     "data": {
      "image/png": "[encoded data removed]"
     },
     "metadata": {},
     "output_type": "display_data"
    }
   ],
   "source": [
    "# effect of deskewing\n",
    "print labels[:10]\n",
    "for i in range(16):\n",
    "    subplot(8,4,2*i+1)\n",
    "    gray()\n",
    "    imshow(images[i])\n",
    "    subplot(8,4,2*i+2)\n",
    "    imshow(deskew(images[i]))"
   ]
  },
  {
   "cell_type": "markdown",
   "id": "fa234e18",
   "metadata": {},
   "source": [
    "Let's now look at the error rates achieved with deskewing:\n"
   ]
  },
  {
   "cell_type": "code",
   "execution_count": 65,
   "id": "18775218",
   "metadata": {
    "collapsed": false
   },
   "outputs": [
    {
     "name": "stdout",
     "output_type": "stream",
     "text": [
      "derotated 0.1308\n",
      "deskewed 0.0761\n",
      "original 0.131\n"
     ]
    }
   ],
   "source": [
    "print \"derotated\",nneval(amap(derotate,images[:1000]),labels[:1000],amap(derotate,test_images),test_labels)\n",
    "print \"deskewed\",nneval(amap(deskew,images[:1000]),labels[:1000],amap(deskew,test_images),test_labels)\n",
    "print \"original\",nneval(images[:1000],labels[:1000],test_images,test_labels)\n",
    "\n"
   ]
  },
  {
   "cell_type": "markdown",
   "id": "39f1cb09",
   "metadata": {},
   "source": [
    "Not that deskewing results in substantial improvements, while derotating hardly gives an improvement at all.\n",
    "\n",
    "(We could analyze this further with confusion matrices, and there may be ways of fixing this.)"
   ]
  },
  {
   "cell_type": "code",
   "execution_count": null,
   "id": "4aef2d8a",
   "metadata": {
    "collapsed": false
   },
   "outputs": [],
   "source": []
  }
 ],
 "metadata": {},
 "nbformat": 4,
 "nbformat_minor": 5
}
