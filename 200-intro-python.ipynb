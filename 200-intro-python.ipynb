{
 "cells": [
  {
   "cell_type": "markdown",
   "id": "7dc5579a",
   "metadata": {},
   "source": [
    "                                                            Introduction to Python\n",
    "===================="
   ]
  },
  {
   "cell_type": "markdown",
   "id": "a6222f96",
   "metadata": {},
   "source": [
    "  "
   ]
  },
  {
   "cell_type": "markdown",
   "id": "8ba67571",
   "metadata": {},
   "source": [
    "                                                                  Python Basics\n",
    "-------------"
   ]
  },
  {
   "cell_type": "markdown",
   "id": "2fccfdb5",
   "metadata": {},
   "source": [
    "Let's look at some simple Python expressions first."
   ]
  },
  {
   "cell_type": "code",
   "execution_count": 4,
   "id": "4f338a1f",
   "metadata": {
    "collapsed": false
   },
   "outputs": [
    {
     "data": {
      "text/plain": [
       "7"
      ]
     },
     "execution_count": 4,
     "metadata": {},
     "output_type": "execute_result"
    }
   ],
   "source": [
    "3+4 "
   ]
  },
  {
   "cell_type": "markdown",
   "id": "b0ee35ff",
   "metadata": {},
   "source": [
    " "
   ]
  },
  {
   "cell_type": "markdown",
   "id": "c2e72c1b",
   "metadata": {},
   "source": [
    "Loops work like in other languages, but notice that Python indicates block structure by indentation.  This worries many people, but it is generally harmless and makes code look \"less noisy\".  Just be careful when you cut and paste and look up the editor command for indenting/outdenting the current selection (otherwise, it's painful)."
   ]
  },
  {
   "cell_type": "markdown",
   "id": "d2991ee7",
   "metadata": {},
   "source": [
    " "
   ]
  },
  {
   "cell_type": "code",
   "execution_count": 5,
   "id": "6252057a",
   "metadata": {
    "collapsed": false
   },
   "outputs": [
    {
     "name": "stdout",
     "output_type": "stream",
     "text": [
      "0\n",
      "1\n",
      "2\n",
      "3\n",
      "4"
     ]
    }
   ],
   "source": [
    "i = 0 \n",
    "while i<5:\n",
    "    print i \n",
    "    i += 1 "
   ]
  },
  {
   "cell_type": "markdown",
   "id": "494c5b59",
   "metadata": {},
   "source": [
    " "
   ]
  },
  {
   "cell_type": "markdown",
   "id": "a42667a0",
   "metadata": {},
   "source": [
    "Function definitions are made with the def keyword."
   ]
  },
  {
   "cell_type": "markdown",
   "id": "992bbcd8",
   "metadata": {},
   "source": [
    " "
   ]
  },
  {
   "cell_type": "code",
   "execution_count": 6,
   "id": "fd41af8e",
   "metadata": {
    "collapsed": false
   },
   "outputs": [
    {
     "data": {
      "text/plain": [
       "55"
      ]
     },
     "execution_count": 6,
     "metadata": {},
     "output_type": "execute_result"
    }
   ],
   "source": [
    "def fib(x): \n",
    "    if x<2: return x \n",
    "    return fib(x-1) + fib(x-2) \n",
    "fib(10) "
   ]
  },
  {
   "cell_type": "markdown",
   "id": "cf54584a",
   "metadata": {},
   "source": [
    " "
   ]
  },
  {
   "cell_type": "code",
   "execution_count": 7,
   "id": "3d72f166",
   "metadata": {
    "collapsed": false
   },
   "outputs": [
    {
     "data": {
      "text/plain": [
       "[1, 3, 4, 5, 6, 9]"
      ]
     },
     "execution_count": 7,
     "metadata": {},
     "output_type": "execute_result"
    }
   ],
   "source": [
    "def quicksort(l):\n",
    "    if len(l)<2: \n",
    "        return l\n",
    "    pivot = l[0] \n",
    "    low = [x for x in l if x<pivot] \n",
    "    mid = [x for x in l if x==pivot] \n",
    "    high = [x for x in l if x>pivot] \n",
    "    return quicksort(low)+mid+quicksort(high) \n",
    "#You can get help and other information interactively.\n",
    "quicksort([9,1,3,4,6,5]) "
   ]
  },
  {
   "cell_type": "markdown",
   "id": "ebebb429",
   "metadata": {},
   "source": [
    " "
   ]
  },
  {
   "cell_type": "markdown",
   "id": "71839ed8",
   "metadata": {},
   "source": [
    " "
   ]
  },
  {
   "cell_type": "markdown",
   "id": "fde9fd7d",
   "metadata": {},
   "source": [
    "Python Development\n",
    "=================="
   ]
  },
  {
   "cell_type": "markdown",
   "id": "5cacec0d",
   "metadata": {},
   "source": [
    " "
   ]
  },
  {
   "cell_type": "markdown",
   "id": "bbbcc4b2",
   "metadata": {},
   "source": [
    "You can also write command line programs; that's important for a lot of pattern recognition problems, since you'll be dealing with many files, many CPUs, and long-running computations."
   ]
  },
  {
   "cell_type": "markdown",
   "id": "ab4ac9c2",
   "metadata": {},
   "source": [
    " "
   ]
  },
  {
   "cell_type": "code",
   "execution_count": 8,
   "id": "36905824",
   "metadata": {
    "collapsed": true
   },
   "outputs": [],
   "source": [
    "#!/usr/bin/python\n",
    "# simple grep-like program\n",
    "\n",
    "import os,sys,re\n",
    "\n",
    "regex = re.compile(sys.argv[1])\n",
    "stream = open(sys.argv[2])\n",
    "for line in stream.readlines():\n",
    "    line = line[:-1]\n",
    "    if regex.search(line)>=0:\n",
    "        print line"
   ]
  },
  {
   "cell_type": "markdown",
   "id": "72ab5268",
   "metadata": {},
   "source": [
    " "
   ]
  },
  {
   "cell_type": "markdown",
   "id": "3b23b4f6",
   "metadata": {},
   "source": [
    "For argument parsing, use the optparse module."
   ]
  },
  {
   "cell_type": "markdown",
   "id": "2fe94a08",
   "metadata": {},
   "source": [
    "  "
   ]
  },
  {
   "cell_type": "markdown",
   "id": "bbbf7d47",
   "metadata": {},
   "source": [
    "The usual way of developing in Python is to experiment with APIs interactively, write small functions, then experiment with and test those functions, etc.  You can write Python like you write C as well (edit -> compile -> run, except you don't need the compile step), but that's less efficient."
   ]
  },
  {
   "cell_type": "markdown",
   "id": "29cbb63f",
   "metadata": {},
   "source": [
    "  "
   ]
  },
  {
   "cell_type": "markdown",
   "id": "356e5aaf",
   "metadata": {},
   "source": [
    "For experimentation use the python or ipython commands.  They will prompt you with \">>>\" and you can type away:"
   ]
  },
  {
   "cell_type": "code",
   "execution_count": 9,
   "id": "9a13eb87",
   "metadata": {
    "collapsed": false
   },
   "outputs": [
    {
     "ename": "SyntaxError",
     "evalue": "invalid syntax (<ipython-input-9-99c7cbd501a0>, line 5)",
     "output_type": "error",
     "traceback": [
      "\u001b[1;36m  File \u001b[1;32m\"<ipython-input-9-99c7cbd501a0>\"\u001b[1;36m, line \u001b[1;32m5\u001b[0m\n\u001b[1;33m    <open file 'ls', mode 'r' at 0xb29468>\u001b[0m\n\u001b[1;37m    ^\u001b[0m\n\u001b[1;31mSyntaxError\u001b[0m\u001b[1;31m:\u001b[0m invalid syntax\n"
     ]
    }
   ],
   "source": [
    ">>> 3+4\n",
    "7\n",
    ">>> import os\n",
    ">>> os.popen(\"ls\",\"r\")\n",
    "<open file 'ls', mode 'r' at 0xb29468>\n",
    ">>>  help(os.popen)\n",
    "Help on built-in function popen in module posix: popen(...)\n",
    "    popen(command [, mode='r' [, bufsize]]) -> pipe}\n",
    "    Open a pipe to/from a command returning a file object.\n",
    ">>> "
   ]
  },
  {
   "cell_type": "markdown",
   "id": "bd81b4b2",
   "metadata": {},
   "source": [
    " "
   ]
  },
  {
   "cell_type": "markdown",
   "id": "ef7c8bc6",
   "metadata": {},
   "source": [
    "Some Python IDEs encourage interactive development, including Emacs and DrPython.  Others treat Python more like Java or C++."
   ]
  },
  {
   "cell_type": "markdown",
   "id": "d5ed44cf",
   "metadata": {},
   "source": [
    " "
   ]
  },
  {
   "cell_type": "markdown",
   "id": "15e95025",
   "metadata": {},
   "source": [
    " "
   ]
  },
  {
   "cell_type": "markdown",
   "id": "59bbb4ba",
   "metadata": {},
   "source": [
    "# Getting Info"
   ]
  },
  {
   "cell_type": "markdown",
   "id": "af3fa781",
   "metadata": {},
   "source": [
    "There are useful help functions.\n"
   ]
  },
  {
   "cell_type": "code",
   "execution_count": null,
   "id": "2c747463",
   "metadata": {
    "collapsed": true
   },
   "outputs": [],
   "source": [
    "help(list) "
   ]
  },
  {
   "cell_type": "markdown",
   "id": "141d4f3d",
   "metadata": {},
   "source": [
    "    "
   ]
  },
  {
   "cell_type": "markdown",
   "id": "1785390b",
   "metadata": {},
   "source": [
    "The dir(...) function shows all the attributes of its argument.  Attributes of the form `__foo__` usually have a special meaning to the Python interpreter."
   ]
  },
  {
   "cell_type": "code",
   "execution_count": 10,
   "id": "a516ad8a",
   "metadata": {
    "collapsed": false
   },
   "outputs": [
    {
     "data": {
      "text/plain": [
       "['__add__',\n",
       " '__class__',\n",
       " '__contains__',\n",
       " '__delattr__',\n",
       " '__delitem__',\n",
       " '__delslice__',\n",
       " '__doc__',\n",
       " '__eq__',\n",
       " '__format__',\n",
       " '__ge__',\n",
       " '__getattribute__',\n",
       " '__getitem__',\n",
       " '__getslice__',\n",
       " '__gt__',\n",
       " '__hash__',\n",
       " '__iadd__',\n",
       " '__imul__',\n",
       " '__init__',\n",
       " '__iter__',\n",
       " '__le__',\n",
       " '__len__',\n",
       " '__lt__',\n",
       " '__mul__',\n",
       " '__ne__',\n",
       " '__new__',\n",
       " '__reduce__',\n",
       " '__reduce_ex__',\n",
       " '__repr__',\n",
       " '__reversed__',\n",
       " '__rmul__',\n",
       " '__setattr__',\n",
       " '__setitem__',\n",
       " '__setslice__',\n",
       " '__sizeof__',\n",
       " '__str__',\n",
       " '__subclasshook__',\n",
       " 'append',\n",
       " 'count',\n",
       " 'extend',\n",
       " 'index',\n",
       " 'insert',\n",
       " 'pop',\n",
       " 'remove',\n",
       " 'reverse',\n",
       " 'sort']"
      ]
     },
     "execution_count": 10,
     "metadata": {},
     "output_type": "execute_result"
    }
   ],
   "source": [
    "dir(list)"
   ]
  },
  {
   "cell_type": "markdown",
   "id": "2e05c7ae",
   "metadata": {},
   "source": [
    " "
   ]
  },
  {
   "cell_type": "markdown",
   "id": "4c4f7297",
   "metadata": {},
   "source": [
    "Object-Oriented Features\n",
    "========================"
   ]
  },
  {
   "cell_type": "markdown",
   "id": "d93b9463",
   "metadata": {},
   "source": [
    "  "
   ]
  },
  {
   "cell_type": "markdown",
   "id": "2fc74342",
   "metadata": {},
   "source": [
    "Python is an object-oriented language.  Here is a simple class definition."
   ]
  },
  {
   "cell_type": "markdown",
   "id": "5cd4381c",
   "metadata": {},
   "source": [
    "  "
   ]
  },
  {
   "cell_type": "code",
   "execution_count": 11,
   "id": "1beabaec",
   "metadata": {
    "collapsed": true
   },
   "outputs": [],
   "source": [
    "class Counter: \n",
    "    def __init__(self): \n",
    "        self.count = 0 \n",
    "        def increment(self,by=1): \n",
    "            self.count += by \n",
    "            def reset(self,to=0): \n",
    "                self.count = 0 \n",
    "                def report(self): \n",
    "                    return self.count \n",
    "                c = Counter() \n",
    "                c.increment() \n",
    "                c.increment() \n",
    "                print c.report() \n",
    "                c.reset() \n",
    "                print c.report() \n",
    "                c = Counter() \n",
    "                c.increment() \n",
    "                c.increment() \n",
    "                print c.report() \n",
    "                c.reset() print \n",
    "                c.report() "
   ]
  },
  {
   "cell_type": "markdown",
   "id": "d8173ecd",
   "metadata": {},
   "source": [
    " "
   ]
  },
  {
   "cell_type": "markdown",
   "id": "32274cd4",
   "metadata": {},
   "source": [
    "  Note the following aspects of Python programming:\n",
    "\n",
    "- single dispatch\n",
    "- multiple inheritance\n",
    "- self is an explicit arg\n",
    "- constructor is `__init__`\n",
    "- note use of default args (also works for functions)\n"
   ]
  },
  {
   "cell_type": "markdown",
   "id": "a7638370",
   "metadata": {},
   "source": [
    "Python Datatypes\n",
    "================"
   ]
  },
  {
   "cell_type": "markdown",
   "id": "046bdeb7",
   "metadata": {},
   "source": [
    "Python has the usual scalar datatypes, plus strings."
   ]
  },
  {
   "cell_type": "code",
   "execution_count": 1,
   "id": "1feeb3e5",
   "metadata": {
    "collapsed": false
   },
   "outputs": [
    {
     "name": "stdout",
     "output_type": "stream",
     "text": [
      "1 <type 'int'>\n",
      "1.0 1 <type 'float'>\n",
      "abc b <type 'str'>\n"
     ]
    }
   ],
   "source": [
    "print 1,type(1) \n",
    "print 1.0,int(1.0),type(1.0)\n",
    "print \"abc\",\"abc\"[1],type(\"abc\") "
   ]
  },
  {
   "cell_type": "markdown",
   "id": "8d3d68fa",
   "metadata": {},
   "source": [
    "Strings are immutable."
   ]
  },
  {
   "cell_type": "code",
   "execution_count": 2,
   "id": "c9320c74",
   "metadata": {
    "collapsed": false
   },
   "outputs": [
    {
     "ename": "TypeError",
     "evalue": "'str' object does not support item assignment",
     "output_type": "error",
     "traceback": [
      "\u001b[0;31m---------------------------------------------------------------------------\u001b[0m\n\u001b[0;31mTypeError\u001b[0m                                 Traceback (most recent call last)",
      "\u001b[0;32m<ipython-input-2-f20b069da606>\u001b[0m in \u001b[0;36m<module>\u001b[0;34m()\u001b[0m\n\u001b[1;32m      1\u001b[0m \u001b[0ms\u001b[0m \u001b[0;34m=\u001b[0m \u001b[0;34m\"abc\"\u001b[0m\u001b[0;34m\u001b[0m\u001b[0m\n\u001b[1;32m      2\u001b[0m \u001b[0;32mprint\u001b[0m \u001b[0ms\u001b[0m\u001b[0;34m[\u001b[0m\u001b[0;36m1\u001b[0m\u001b[0;34m]\u001b[0m\u001b[0;34m\u001b[0m\u001b[0m\n\u001b[0;32m----> 3\u001b[0;31m \u001b[0ms\u001b[0m\u001b[0;34m[\u001b[0m\u001b[0;36m1\u001b[0m\u001b[0;34m]\u001b[0m \u001b[0;34m=\u001b[0m \u001b[0;34m\"x\"\u001b[0m\u001b[0;34m\u001b[0m\u001b[0m\n\u001b[0m",
      "\u001b[0;31mTypeError\u001b[0m: 'str' object does not support item assignment"
     ]
    },
    {
     "name": "stdout",
     "output_type": "stream",
     "text": [
      "b\n"
     ]
    }
   ],
   "source": [
    "s = \"abc\" \n",
    "print s[1] \n",
    "s[1] = \"x\" "
   ]
  },
  {
   "cell_type": "markdown",
   "id": "baebdcfc",
   "metadata": {},
   "source": [
    "Lists are denoted with [...] and are mutable."
   ]
  },
  {
   "cell_type": "code",
   "execution_count": 3,
   "id": "f290039a",
   "metadata": {
    "collapsed": false
   },
   "outputs": [
    {
     "name": "stdout",
     "output_type": "stream",
     "text": [
      "2\n",
      "[1, 2, 3]\n",
      "[1, 99, 3]\n"
     ]
    }
   ],
   "source": [
    "l = [1,2,3] \n",
    "print l[1] \n",
    "print l \n",
    "l[1] = 99 \n",
    "print l "
   ]
  },
  {
   "cell_type": "markdown",
   "id": "154f541a",
   "metadata": {},
   "source": [
    "Tuples are similar to lists, are denoted with (...), and are immutable."
   ]
  },
  {
   "cell_type": "code",
   "execution_count": 4,
   "id": "7b1af6ad",
   "metadata": {
    "collapsed": false
   },
   "outputs": [
    {
     "ename": "TypeError",
     "evalue": "'tuple' object does not support item assignment",
     "output_type": "error",
     "traceback": [
      "\u001b[0;31m---------------------------------------------------------------------------\u001b[0m\n\u001b[0;31mTypeError\u001b[0m                                 Traceback (most recent call last)",
      "\u001b[0;32m<ipython-input-4-b533f7f45b08>\u001b[0m in \u001b[0;36m<module>\u001b[0;34m()\u001b[0m\n\u001b[1;32m      2\u001b[0m \u001b[0;32mprint\u001b[0m \u001b[0mt\u001b[0m\u001b[0;34m[\u001b[0m\u001b[0;36m1\u001b[0m\u001b[0;34m]\u001b[0m\u001b[0;34m\u001b[0m\u001b[0m\n\u001b[1;32m      3\u001b[0m \u001b[0;32mprint\u001b[0m \u001b[0mt\u001b[0m\u001b[0;34m\u001b[0m\u001b[0m\n\u001b[0;32m----> 4\u001b[0;31m \u001b[0mt\u001b[0m\u001b[0;34m[\u001b[0m\u001b[0;36m1\u001b[0m\u001b[0;34m]\u001b[0m \u001b[0;34m=\u001b[0m \u001b[0;36m99\u001b[0m\u001b[0;34m\u001b[0m\u001b[0m\n\u001b[0m\u001b[1;32m      5\u001b[0m \u001b[0;32mprint\u001b[0m \u001b[0mt\u001b[0m\u001b[0;34m\u001b[0m\u001b[0m\n",
      "\u001b[0;31mTypeError\u001b[0m: 'tuple' object does not support item assignment"
     ]
    },
    {
     "name": "stdout",
     "output_type": "stream",
     "text": [
      "2\n",
      "(1, 2, 3)\n"
     ]
    }
   ],
   "source": [
    "t = (1,2,3) \n",
    "print t[1] \n",
    "print t \n",
    "t[1] = 99 \n",
    "print t "
   ]
  },
  {
   "cell_type": "markdown",
   "id": "0c460f72",
   "metadata": {},
   "source": [
    " "
   ]
  },
  {
   "cell_type": "markdown",
   "id": "a7b66511",
   "metadata": {},
   "source": [
    "Python supports parallel assignment with tuples."
   ]
  },
  {
   "cell_type": "code",
   "execution_count": 5,
   "id": "006c0290",
   "metadata": {
    "collapsed": false
   },
   "outputs": [
    {
     "name": "stdout",
     "output_type": "stream",
     "text": [
      "3\n"
     ]
    }
   ],
   "source": [
    "x,y = (3,7)\n",
    "print x"
   ]
  },
  {
   "cell_type": "markdown",
   "id": "2ef74af3",
   "metadata": {},
   "source": [
    "Parallel assignment also works for lists."
   ]
  },
  {
   "cell_type": "code",
   "execution_count": 6,
   "id": "8f431358",
   "metadata": {
    "collapsed": false
   },
   "outputs": [
    {
     "name": "stdout",
     "output_type": "stream",
     "text": [
      "3\n"
     ]
    }
   ],
   "source": [
    "x,y = [3,7] \n",
    "print x "
   ]
  },
  {
   "cell_type": "markdown",
   "id": "9157ff91",
   "metadata": {},
   "source": [
    "Lists (and tuples) support iteration:"
   ]
  },
  {
   "cell_type": "code",
   "execution_count": 7,
   "id": "72fa4487",
   "metadata": {
    "collapsed": false
   },
   "outputs": [
    {
     "name": "stdout",
     "output_type": "stream",
     "text": [
      "9\n",
      "3\n",
      "2\n",
      "7\n"
     ]
    }
   ],
   "source": [
    "for x in [9,3,2,7]: print x "
   ]
  },
  {
   "cell_type": "markdown",
   "id": "44646add",
   "metadata": {},
   "source": [
    "Python also has a dictionary type; it is written using {...} and implemented as hash tables."
   ]
  },
  {
   "cell_type": "code",
   "execution_count": 8,
   "id": "1edcba59",
   "metadata": {
    "collapsed": false
   },
   "outputs": [
    {
     "name": "stdout",
     "output_type": "stream",
     "text": [
      "1\n"
     ]
    }
   ],
   "source": [
    "d = {1:1,2:4,3:9}\n",
    "print d[1] "
   ]
  },
  {
   "cell_type": "markdown",
   "id": "7f031bbc",
   "metadata": {},
   "source": [
    "Python Identity and Types\n",
    "========================="
   ]
  },
  {
   "cell_type": "markdown",
   "id": "7a77bf84",
   "metadata": {},
   "source": [
    "There are some more things you should know about Python types:\n",
    "\n",
    "   + Assignment never copies, always passes references.\n",
    "   + x==y tests for value equality\n",
    "   + x is y tests for identity\n",
    "   + isinstance(a,t) tests for whether a is of type t\n",
    "   + int(x) converts to an int or raises an error\n",
    "   + list(x) converts to a list or raises an error \n",
    "   + type(x) returns the type (e.g., str, list, tuple)\n",
    "\n",
    "Let's look at that."
   ]
  },
  {
   "cell_type": "code",
   "execution_count": 9,
   "id": "c71aea60",
   "metadata": {
    "collapsed": false
   },
   "outputs": [
    {
     "data": {
      "text/plain": [
       "[1, 99, 3]"
      ]
     },
     "execution_count": 9,
     "metadata": {},
     "output_type": "execute_result"
    }
   ],
   "source": [
    "x = [1,2,3] \n",
    "y = x \n",
    "y[1] = 99 \n",
    "x "
   ]
  },
  {
   "cell_type": "code",
   "execution_count": 10,
   "id": "528803b3",
   "metadata": {
    "collapsed": false
   },
   "outputs": [
    {
     "data": {
      "text/plain": [
       "True"
      ]
     },
     "execution_count": 10,
     "metadata": {},
     "output_type": "execute_result"
    }
   ],
   "source": [
    "x is y "
   ]
  },
  {
   "cell_type": "code",
   "execution_count": 11,
   "id": "acbd7141",
   "metadata": {
    "collapsed": false
   },
   "outputs": [
    {
     "name": "stdout",
     "output_type": "stream",
     "text": [
      "False\n",
      "True\n"
     ]
    }
   ],
   "source": [
    "x = [1,2,3] \n",
    "y = [1,2,3] \n",
    "print x is y \n",
    "print x==y "
   ]
  },
  {
   "cell_type": "code",
   "execution_count": 12,
   "id": "4fa2ecd9",
   "metadata": {
    "collapsed": false
   },
   "outputs": [
    {
     "name": "stdout",
     "output_type": "stream",
     "text": [
      "False\n",
      "True\n"
     ]
    }
   ],
   "source": [
    "print isinstance(3,list) \n",
    "print isinstance([],list) "
   ]
  },
  {
   "cell_type": "markdown",
   "id": "ac03f8b5",
   "metadata": {},
   "source": [
    "Errors and Exceptions\n",
    "====================="
   ]
  },
  {
   "cell_type": "markdown",
   "id": "f3045ad5",
   "metadata": {},
   "source": [
    "Python catches runtime errors (type errors, numerical errors, etc.) and lets you handle them in a way similar to Java and other languages.  Here is a simple example:"
   ]
  },
  {
   "cell_type": "code",
   "execution_count": 13,
   "id": "10f602fd",
   "metadata": {
    "collapsed": false
   },
   "outputs": [
    {
     "name": "stdout",
     "output_type": "stream",
     "text": [
      "oops\n",
      "finally\n"
     ]
    }
   ],
   "source": [
    "try:\n",
    "    x = 1 + None \n",
    "except TypeError: \n",
    "    print \"oops\" \n",
    "else: \n",
    "    print \"no oops\" \n",
    "finally: print \"finally\" "
   ]
  },
  {
   "cell_type": "markdown",
   "id": "20284ce2",
   "metadata": {},
   "source": [
    "If you want to catch all exceptions, just use except:\n",
    "\n",
    "Python guarantees to catch all type errors in Python code, which makes Python a safe and strongly typed language."
   ]
  },
  {
   "cell_type": "markdown",
   "id": "983eaf87",
   "metadata": {},
   "source": [
    "Iteration and for loops\n",
    "======================="
   ]
  },
  {
   "cell_type": "markdown",
   "id": "74c906cb",
   "metadata": {},
   "source": [
    "Python's for loop always iterates over sequences.  In order to iterate over a range of numbers, use the range function."
   ]
  },
  {
   "cell_type": "code",
   "execution_count": 14,
   "id": "bfc8ab54",
   "metadata": {
    "collapsed": false
   },
   "outputs": [
    {
     "name": "stdout",
     "output_type": "stream",
     "text": [
      "lion\n",
      "gazelle\n",
      "Garfield\n"
     ]
    }
   ],
   "source": [
    "for animal in [\"lion\",\"gazelle\",\"Garfield\"]: \n",
    "    print animal "
   ]
  },
  {
   "cell_type": "markdown",
   "id": "28200625",
   "metadata": {},
   "source": [
    " The range function takes three forms:\n",
    "\n",
    "   + range(n) - integers from 0 to n-1\n",
    "   + range(n,m) - integers counting up from n to m by 1, excluding m\n",
    "   + range(n,m,d) - integers counting up from n to m by d, excluding m"
   ]
  },
  {
   "cell_type": "code",
   "execution_count": 15,
   "id": "ee0fd10d",
   "metadata": {
    "collapsed": false
   },
   "outputs": [
    {
     "name": "stdout",
     "output_type": "stream",
     "text": [
      "99 bottles of beer on the wall\n",
      "98 bottles of beer on the wall\n",
      "97 bottles of beer on the wall\n",
      "96 bottles of beer on the wall\n"
     ]
    }
   ],
   "source": [
    "for i in range(99,95,-1): \n",
    "    print i,\"bottles of beer on the wall\" "
   ]
  },
  {
   "cell_type": "markdown",
   "id": "a1cf2f46",
   "metadata": {},
   "source": [
    "Frequently, we want to iterate over a long sequence of items that gets generated somewhere else.  Storing the entire sequence in a list may take too much memory.  Python therefore provides iterators: just write a loop that generates the sequence you want and then yield the result.  Here is a simple illustration."
   ]
  },
  {
   "cell_type": "code",
   "execution_count": 16,
   "id": "475407fa",
   "metadata": {
    "collapsed": false
   },
   "outputs": [
    {
     "name": "stdout",
     "output_type": "stream",
     "text": [
      "1\n",
      "2\n",
      "3\n",
      "5\n",
      "8\n",
      "13\n",
      "21\n",
      "34\n",
      "55\n",
      "89\n",
      "144\n",
      "233\n",
      "377\n",
      "610\n",
      "987\n"
     ]
    }
   ],
   "source": [
    "def fibonacci(): \n",
    "    a,b = (0,1) \n",
    "    while 1: \n",
    "        a,b = (b,a+b) \n",
    "        yield b \n",
    "       \n",
    "for x in fibonacci(): \n",
    "    if x>1000: break\n",
    "    print x "
   ]
  },
  {
   "cell_type": "markdown",
   "id": "5902dc4b",
   "metadata": {},
   "source": [
    "Note that you can yield tuples and then assign them with parallel assignment."
   ]
  },
  {
   "cell_type": "markdown",
   "id": "92fec79f",
   "metadata": {},
   "source": [
    "NumPy Arrays\n",
    "============"
   ]
  },
  {
   "cell_type": "markdown",
   "id": "108bbd99",
   "metadata": {},
   "source": [
    "Python has a rich and powerful numerical array facility.  Although at first glance, it may just seem like a Python-specific library, many of the concepts, conventions, and operations are common across many langauges, including Matlab and Fortran.  Many of the operations and notation originated in the APL programming language.\n",
    "\n",
    "What makes many of these operations interesting is also that they are inherently parallel; they are an example of large-scale SIMD parallelism, first used on a large scale on the Connection Machine.  That is, writing something like sum(a) to sum the elements of a 1000000 array is not just concise, it also can be performed in time log2(1000000) on a parallel machine, while the compiler may not be able to parallelize the equivalent for loop.\n",
    "\n",
    "Regular Python arrays are constructed like [1,2,3]; they can hold mixed types:"
   ]
  },
  {
   "cell_type": "code",
   "execution_count": 17,
   "id": "704c2a42",
   "metadata": {
    "collapsed": false
   },
   "outputs": [
    {
     "data": {
      "text/plain": [
       "[1, 'abc', 3]"
      ]
     },
     "execution_count": 17,
     "metadata": {},
     "output_type": "execute_result"
    }
   ],
   "source": [
    "l = [1,2,3] \n",
    "l[1] = \"abc\"\n",
    "l "
   ]
  },
  {
   "cell_type": "markdown",
   "id": "5de1093b",
   "metadata": {},
   "source": [
    "This is fine for normal programming, but it is inefficient for numerical programming.  Python therefore has a second array type in which all the elements must be of the same (numerical) type.  This type is contained in the numpy package; it is also defined in pylab, which contains many additional useful functions."
   ]
  },
  {
   "cell_type": "code",
   "execution_count": 18,
   "id": "36e625e3",
   "metadata": {
    "collapsed": false
   },
   "outputs": [
    {
     "data": {
      "text/plain": [
       "array([1, 9, 3])"
      ]
     },
     "execution_count": 18,
     "metadata": {},
     "output_type": "execute_result"
    }
   ],
   "source": [
    "from pylab import *\n",
    "array([1,9,3]) "
   ]
  },
  {
   "cell_type": "markdown",
   "id": "662e133c",
   "metadata": {},
   "source": [
    "In addition to constructing numerical arrays from lists, we can also construct them with arange, zeros, ones:"
   ]
  },
  {
   "cell_type": "code",
   "execution_count": 19,
   "id": "330127b1",
   "metadata": {
    "collapsed": false
   },
   "outputs": [
    {
     "name": "stdout",
     "output_type": "stream",
     "text": [
      "[0 1 2 3]\n",
      "[ 0.  0.  0.]\n",
      "[ 1.  1.  1.  1.  1.  1.  1.  1.  1.]\n"
     ]
    }
   ],
   "source": [
    "print arange(4) \n",
    "print zeros(3) \n",
    "print ones(9) "
   ]
  },
  {
   "cell_type": "markdown",
   "id": "85eaac97",
   "metadata": {},
   "source": [
    " Note that the first result is of type integer array, while the other two results are floating point arrays.  This matters..."
   ]
  },
  {
   "cell_type": "code",
   "execution_count": 20,
   "id": "586cd78f",
   "metadata": {
    "collapsed": false
   },
   "outputs": [
    {
     "name": "stdout",
     "output_type": "stream",
     "text": [
      "[0 0 1 1]\n",
      "[ 0.5  0.5  0.5  0.5]\n"
     ]
    }
   ],
   "source": [
    "print arange(4)/2 \n",
    "print ones(4)/2 "
   ]
  },
  {
   "cell_type": "markdown",
   "id": "147ce963",
   "metadata": {},
   "source": [
    "You can find out the type of an array by looking at its dtype member:"
   ]
  },
  {
   "cell_type": "code",
   "execution_count": 21,
   "id": "205f97c8",
   "metadata": {
    "collapsed": false
   },
   "outputs": [
    {
     "data": {
      "text/plain": [
       "(dtype('int64'), dtype('float64'))"
      ]
     },
     "execution_count": 21,
     "metadata": {},
     "output_type": "execute_result"
    }
   ],
   "source": [
    "a = arange(4)\n",
    "b = ones(4) \n",
    "a.dtype,b.dtype "
   ]
  },
  {
   "cell_type": "markdown",
   "id": "579d0e76",
   "metadata": {},
   "source": [
    "You can also specify dtypes.  There are some common shorthands in use:\n",
    "\n",
    "   + B - 8bit unsigned value\n",
    "   + i - 32bit integer\n",
    "   + f - 32bit floating point number"
   ]
  },
  {
   "cell_type": "code",
   "execution_count": 22,
   "id": "2eab1d76",
   "metadata": {
    "collapsed": true
   },
   "outputs": [
    {
     "name": "stdout",
     "output_type": "stream",
     "text": [
      "int32\n",
      "int32\n",
      "int64\n",
      "uint8\n",
      "float32\n"
     ]
    }
   ],
   "source": [
    "print ones(4,'i').dtype \n",
    "print ones(4,'int32').dtype \n",
    "print ones(4,'int64').dtype \n",
    "print ones(4,'B').dtype\n",
    "print ones(4,'f').dtype "
   ]
  },
  {
   "cell_type": "markdown",
   "id": "f5c9d005",
   "metadata": {},
   "source": [
    "The first example used integer division, the second floating point division, just like for Python scalars.\n",
    "\n",
    "This example also illustrates that Python automatically parallelizes operations across arrays: when dividing an array by a scalar, it's the same as dividing each element by that scalar.\n",
    "\n",
    "This also works for elementwise operations:"
   ]
  },
  {
   "cell_type": "code",
   "execution_count": 23,
   "id": "b4be3976",
   "metadata": {
    "collapsed": false
   },
   "outputs": [
    {
     "data": {
      "text/plain": [
       "array([ 1.        ,  0.5       ,  0.33333333,  0.25      ])"
      ]
     },
     "execution_count": 23,
     "metadata": {},
     "output_type": "execute_result"
    }
   ],
   "source": [
    "ones(4)/(1+arange(4)) "
   ]
  },
  {
   "cell_type": "markdown",
   "id": "d93654a1",
   "metadata": {},
   "source": [
    "However, the arrays must have the same shape. Note the somewhat obscure error message; you will see that frequently."
   ]
  },
  {
   "cell_type": "code",
   "execution_count": 24,
   "id": "f330b084",
   "metadata": {
    "collapsed": false
   },
   "outputs": [
    {
     "ename": "ValueError",
     "evalue": "operands could not be broadcast together with shapes (5) (4) ",
     "output_type": "error",
     "traceback": [
      "\u001b[0;31m---------------------------------------------------------------------------\u001b[0m\n\u001b[0;31mValueError\u001b[0m                                Traceback (most recent call last)",
      "\u001b[0;32m<ipython-input-24-bb1766707764>\u001b[0m in \u001b[0;36m<module>\u001b[0;34m()\u001b[0m\n\u001b[0;32m----> 1\u001b[0;31m \u001b[0mones\u001b[0m\u001b[0;34m(\u001b[0m\u001b[0;36m5\u001b[0m\u001b[0;34m)\u001b[0m\u001b[0;34m/\u001b[0m\u001b[0;34m(\u001b[0m\u001b[0;36m1\u001b[0m\u001b[0;34m+\u001b[0m\u001b[0marange\u001b[0m\u001b[0;34m(\u001b[0m\u001b[0;36m4\u001b[0m\u001b[0;34m)\u001b[0m\u001b[0;34m)\u001b[0m\u001b[0;34m\u001b[0m\u001b[0m\n\u001b[0m",
      "\u001b[0;31mValueError\u001b[0m: operands could not be broadcast together with shapes (5) (4) "
     ]
    }
   ],
   "source": [
    "ones(5)/(1+arange(4)) "
   ]
  },
  {
   "cell_type": "markdown",
   "id": "d0a20a7e",
   "metadata": {},
   "source": [
    "There are also some specifically parallel operations like the dot product.  Here's a parallel (if silly) way of writing the sum of all the integers from 0 through 9:"
   ]
  },
  {
   "cell_type": "code",
   "execution_count": 25,
   "id": "690e8c9c",
   "metadata": {
    "collapsed": false
   },
   "outputs": [
    {
     "data": {
      "text/plain": [
       "45.0"
      ]
     },
     "execution_count": 25,
     "metadata": {},
     "output_type": "execute_result"
    }
   ],
   "source": [
    "dot(arange(10),ones(10)) "
   ]
  },
  {
   "cell_type": "markdown",
   "id": "051aa737",
   "metadata": {},
   "source": [
    "Here's another way; the function sum maps arrays to scalars; it is an example of a reduction operation.  Because addition is associative, this can be parallelized well.  It's an example of a parallel prefix operation:"
   ]
  },
  {
   "cell_type": "code",
   "execution_count": 26,
   "id": "a4a3d485",
   "metadata": {
    "collapsed": false
   },
   "outputs": [
    {
     "data": {
      "text/plain": [
       "45"
      ]
     },
     "execution_count": 26,
     "metadata": {},
     "output_type": "execute_result"
    }
   ],
   "source": [
    "sum(arange(10)) "
   ]
  },
  {
   "cell_type": "markdown",
   "id": "bd736193",
   "metadata": {},
   "source": [
    "Python has a rich set of array subscripting operations:"
   ]
  },
  {
   "cell_type": "code",
   "execution_count": 27,
   "id": "3d0bed75",
   "metadata": {
    "collapsed": false
   },
   "outputs": [
    {
     "name": "stdout",
     "output_type": "stream",
     "text": [
      "10\n",
      "19\n",
      "[1 2]\n",
      "[ 1  2  3  4  5  6  7  8  9 10 11 12 13 14 15 16 17 18 19]\n",
      "[0]\n"
     ]
    }
   ],
   "source": [
    "a = arange(20) \n",
    "print a[10] # 11th element of a \n",
    "print a[-1] # last element of a \n",
    "print a[1:3] # second and third elements \n",
    "print a[1:] # everything after element 0 \n",
    "print a[:1] # everything before the last element "
   ]
  },
  {
   "cell_type": "markdown",
   "id": "4efff4da",
   "metadata": {},
   "source": [
    "Note that these subscripting operations return views of the array; they share the same underlying data."
   ]
  },
  {
   "cell_type": "code",
   "execution_count": 28,
   "id": "1ecbe4ae",
   "metadata": {
    "collapsed": false
   },
   "outputs": [
    {
     "data": {
      "text/plain": [
       "array([ 1, 99,  3])"
      ]
     },
     "execution_count": 28,
     "metadata": {},
     "output_type": "execute_result"
    }
   ],
   "source": [
    "a = array([1,2,3])\n",
    "b = a[1:]\n",
    "b[0] = 99 \n",
    "a "
   ]
  },
  {
   "cell_type": "markdown",
   "id": "554abb0c",
   "metadata": {},
   "source": [
    " Python also has multidimensional arrays.  They work similar to 1D arrays.  For their creation, pass a tuple of dimensions rather than a single number, or a list of lists, as required."
   ]
  },
  {
   "cell_type": "code",
   "execution_count": 29,
   "id": "7439e71c",
   "metadata": {
    "collapsed": false
   },
   "outputs": [
    {
     "data": {
      "text/plain": [
       "array([[ 0.,  0.],\n",
       "       [ 0.,  0.]])"
      ]
     },
     "execution_count": 29,
     "metadata": {},
     "output_type": "execute_result"
    }
   ],
   "source": [
    "z = zeros((2,2))\n",
    "z "
   ]
  },
  {
   "cell_type": "code",
   "execution_count": 30,
   "id": "b617ea72",
   "metadata": {
    "collapsed": false
   },
   "outputs": [
    {
     "data": {
      "text/plain": [
       "array([[1, 2],\n",
       "       [3, 4]])"
      ]
     },
     "execution_count": 30,
     "metadata": {},
     "output_type": "execute_result"
    }
   ],
   "source": [
    "a = array([[1,2],[3,4]])\n",
    "a"
   ]
  },
  {
   "cell_type": "code",
   "execution_count": 31,
   "id": "724065cf",
   "metadata": {
    "collapsed": false
   },
   "outputs": [
    {
     "data": {
      "text/plain": [
       "(2, 2)"
      ]
     },
     "execution_count": 31,
     "metadata": {},
     "output_type": "execute_result"
    }
   ],
   "source": [
    "a.shape"
   ]
  },
  {
   "cell_type": "markdown",
   "id": "8efdc3f7",
   "metadata": {},
   "source": [
    "The reshape method returns another view of an array (it doesn't allocate new data)."
   ]
  },
  {
   "cell_type": "code",
   "execution_count": 32,
   "id": "baa61a2a",
   "metadata": {
    "collapsed": false
   },
   "outputs": [
    {
     "data": {
      "text/plain": [
       "array([1, 2, 3, 4])"
      ]
     },
     "execution_count": 32,
     "metadata": {},
     "output_type": "execute_result"
    }
   ],
   "source": [
    "a.reshape(4) "
   ]
  },
  {
   "cell_type": "markdown",
   "id": "8a448681",
   "metadata": {},
   "source": [
    "Note that we can also reshape using a tuple of size 1.  This is written as (4,), since (4) would be the same as the number 4. "
   ]
  },
  {
   "cell_type": "code",
   "execution_count": 33,
   "id": "e0ff28ad",
   "metadata": {
    "collapsed": false
   },
   "outputs": [
    {
     "data": {
      "text/plain": [
       "array([1, 2, 3, 4])"
      ]
     },
     "execution_count": 33,
     "metadata": {},
     "output_type": "execute_result"
    }
   ],
   "source": [
    "a.reshape((4,)) "
   ]
  },
  {
   "cell_type": "code",
   "execution_count": 34,
   "id": "cefb91b4",
   "metadata": {
    "collapsed": false
   },
   "outputs": [
    {
     "data": {
      "text/plain": [
       "array([1, 2, 3, 4])"
      ]
     },
     "execution_count": 34,
     "metadata": {},
     "output_type": "execute_result"
    }
   ],
   "source": [
    "a.ravel() "
   ]
  },
  {
   "cell_type": "code",
   "execution_count": 35,
   "id": "cdbc1fd5",
   "metadata": {
    "collapsed": false
   },
   "outputs": [
    {
     "data": {
      "text/plain": [
       "<numpy.flatiter at 0x2f7de20>"
      ]
     },
     "execution_count": 35,
     "metadata": {},
     "output_type": "execute_result"
    }
   ],
   "source": [
    "a.flat "
   ]
  },
  {
   "cell_type": "code",
   "execution_count": 36,
   "id": "d684c312",
   "metadata": {
    "collapsed": false
   },
   "outputs": [
    {
     "data": {
      "text/plain": [
       "[1, 2, 3, 4]"
      ]
     },
     "execution_count": 36,
     "metadata": {},
     "output_type": "execute_result"
    }
   ],
   "source": [
    "list(a.flat) "
   ]
  },
  {
   "cell_type": "markdown",
   "id": "6072bcb1",
   "metadata": {},
   "source": [
    "Think about the difference between these two:\n",
    "\n",
    "`for i in range(4): a.ravel()[i] = 99`\n",
    "\n",
    "`for x in a.flat: x = 99`\n",
    "\n",
    "You can also destructively change the shape of an array:"
   ]
  },
  {
   "cell_type": "code",
   "execution_count": 37,
   "id": "4a47e94e",
   "metadata": {
    "collapsed": false
   },
   "outputs": [
    {
     "name": "stdout",
     "output_type": "stream",
     "text": [
      "[[1 2]\n",
      " [3 4]]\n",
      "[1 2 3 4]\n"
     ]
    }
   ],
   "source": [
    "print a \n",
    "a.shape = 4 \n",
    "print a "
   ]
  },
  {
   "cell_type": "code",
   "execution_count": 38,
   "id": "29d78a2f",
   "metadata": {
    "collapsed": false
   },
   "outputs": [
    {
     "data": {
      "text/plain": [
       "array([[ 2.,  2.],\n",
       "       [ 2.,  2.]])"
      ]
     },
     "execution_count": 38,
     "metadata": {},
     "output_type": "execute_result"
    }
   ],
   "source": [
    "ones((2,2))+ones((2,2)) "
   ]
  },
  {
   "cell_type": "code",
   "execution_count": 39,
   "id": "922c0038",
   "metadata": {
    "collapsed": false
   },
   "outputs": [
    {
     "ename": "ValueError",
     "evalue": "operands could not be broadcast together with shapes (2,2) (4) ",
     "output_type": "error",
     "traceback": [
      "\u001b[0;31m---------------------------------------------------------------------------\u001b[0m\n\u001b[0;31mValueError\u001b[0m                                Traceback (most recent call last)",
      "\u001b[0;32m<ipython-input-39-d6d8c6ad4d20>\u001b[0m in \u001b[0;36m<module>\u001b[0;34m()\u001b[0m\n\u001b[0;32m----> 1\u001b[0;31m \u001b[0mones\u001b[0m\u001b[0;34m(\u001b[0m\u001b[0;34m(\u001b[0m\u001b[0;36m2\u001b[0m\u001b[0;34m,\u001b[0m\u001b[0;36m2\u001b[0m\u001b[0;34m)\u001b[0m\u001b[0;34m)\u001b[0m\u001b[0;34m+\u001b[0m\u001b[0mones\u001b[0m\u001b[0;34m(\u001b[0m\u001b[0;36m4\u001b[0m\u001b[0;34m)\u001b[0m\u001b[0;34m\u001b[0m\u001b[0m\n\u001b[0m",
      "\u001b[0;31mValueError\u001b[0m: operands could not be broadcast together with shapes (2,2) (4) "
     ]
    }
   ],
   "source": [
    "ones((2,2))+ones(4)"
   ]
  },
  {
   "cell_type": "markdown",
   "id": "0e802e17",
   "metadata": {},
   "source": [
    "But sometimes things work..."
   ]
  },
  {
   "cell_type": "code",
   "execution_count": 40,
   "id": "da5521ac",
   "metadata": {
    "collapsed": false
   },
   "outputs": [
    {
     "data": {
      "text/plain": [
       "array([[ 2.,  2.],\n",
       "       [ 2.,  2.]])"
      ]
     },
     "execution_count": 40,
     "metadata": {},
     "output_type": "execute_result"
    }
   ],
   "source": [
    "ones((2,1))+ones((2,2)) "
   ]
  },
  {
   "cell_type": "markdown",
   "id": "f40b28b0",
   "metadata": {},
   "source": [
    "This is array recycling: if the mismatching axis is of size 1, it will be replicated across the corresponding axis.\n",
    "\n",
    "There is a convenient notation for indicating recycling using the newaxis keyword.  The following two are equivalent:"
   ]
  },
  {
   "cell_type": "code",
   "execution_count": 41,
   "id": "53956fa4",
   "metadata": {
    "collapsed": false
   },
   "outputs": [
    {
     "name": "stdout",
     "output_type": "stream",
     "text": [
      "[[ 2.  2.]\n",
      " [ 2.  2.]]\n",
      "[[ 2.  2.]\n",
      " [ 2.  2.]]\n"
     ]
    }
   ],
   "source": [
    "print ones(2).reshape(2,1) + ones((2,2)) \n",
    "print ones(2)[:,newaxis] + ones((2,2)) "
   ]
  },
  {
   "cell_type": "markdown",
   "id": "6125c300",
   "metadata": {},
   "source": [
    "This combines powerfully with other operations."
   ]
  },
  {
   "cell_type": "code",
   "execution_count": 42,
   "id": "472fe029",
   "metadata": {
    "collapsed": false
   },
   "outputs": [
    {
     "data": {
      "text/plain": [
       "array([[ 0,  0,  0,  0,  0],\n",
       "       [ 0,  1,  2,  3,  4],\n",
       "       [ 0,  2,  4,  6,  8],\n",
       "       [ 0,  3,  6,  9, 12],\n",
       "       [ 0,  4,  8, 12, 16]])"
      ]
     },
     "execution_count": 42,
     "metadata": {},
     "output_type": "execute_result"
    }
   ],
   "source": [
    "arange(5)[:,newaxis] * arange(5)[newaxis,:] "
   ]
  },
  {
   "cell_type": "code",
   "execution_count": 43,
   "id": "81baeb09",
   "metadata": {
    "collapsed": false
   },
   "outputs": [
    {
     "data": {
      "image/png": "[encoded data removed]"
     },
     "metadata": {},
     "output_type": "display_data"
    }
   ],
   "source": [
    "from numpy import *\n",
    "from pylab import imshow \n",
    "image = arange(10)[:,newaxis] * arange(10)[newaxis,:] \n",
    "imshow(image) # put the image on the canvas (but doesn't show it yet) \n",
    "gray() # map values to grayscale \n",
    "show() # display it \n",
    "savefig('test.png')  "
   ]
  },
  {
   "cell_type": "code",
   "execution_count": 44,
   "id": "bb3c0c5f",
   "metadata": {
    "collapsed": false
   },
   "outputs": [
    {
     "data": {
      "image/png": "[encoded data removed]"
     },
     "metadata": {},
     "output_type": "display_data"
    }
   ],
   "source": [
    "image = random.random((200,200))\n",
    "imshow(image); show(); savefig(\"temp.png\") "
   ]
  },
  {
   "cell_type": "code",
   "execution_count": 45,
   "id": "e0ee6faf",
   "metadata": {
    "collapsed": false
   },
   "outputs": [
    {
     "data": {
      "image/png": "[encoded data removed]"
     },
     "metadata": {},
     "output_type": "display_data"
    }
   ],
   "source": [
    "from scipy.ndimage import filters \n",
    "smooth = filters.gaussian_filter(image,10.0) \n",
    "imshow(smooth); show(); savefig(\"temp.png\") "
   ]
  },
  {
   "cell_type": "markdown",
   "id": "75b822d3",
   "metadata": {},
   "source": [
    "You can also make animations.  These work differently in this worksheet and the command line.  From the command line, here is an example:"
   ]
  },
  {
   "cell_type": "code",
   "execution_count": 47,
   "id": "55860a3a",
   "metadata": {
    "collapsed": true
   },
   "outputs": [
    {
     "name": "stdout",
     "output_type": "stream",
     "text": [
      "FPS: 43.5693279038\n"
     ]
    },
    {
     "data": {
      "image/png": "[encoded data removed]"
     },
     "metadata": {},
     "output_type": "display_data"
    },
    {
     "name": "stdout",
     "output_type": "stream",
     "text": [
      "FPS: 43.6437732508\n"
     ]
    },
    {
     "data": {
      "image/png": "[encoded data removed]"
     },
     "metadata": {},
     "output_type": "display_data"
    }
   ],
   "source": [
    "#see www.scipy.org/Cookbook/Matplotlib/Animations\n",
    "\n",
    "from numpy import *\n",
    "from pylab import *\n",
    "import time\n",
    "\n",
    "ion() # turn on interactive\n",
    "\n",
    "tstart = time.time()\n",
    "image = zeros((100,100))\n",
    "x = linspace(0,10,100)\n",
    "y = linspace(0,10,100)\n",
    "image = sin(x)[:,newaxis]*sin(y)[newaxis,:]\n",
    "im = imshow(image)\n",
    "\n",
    "n = 500\n",
    "for i in linspace(0,10,n):\n",
    " image = sin(x+i)[:,newaxis]*sin(y+i)[newaxis,:]\n",
    " im.set_array(image)\n",
    " draw()\n",
    "\n",
    "print 'FPS:' , n/(time.time()-tstart)"
   ]
  },
  {
   "cell_type": "markdown",
   "id": "6ee01dc3",
   "metadata": {},
   "source": [
    "Arrays as Images\n",
    "================"
   ]
  },
  {
   "cell_type": "markdown",
   "id": "ef3948ea",
   "metadata": {},
   "source": [
    "Python has a lot of facilities for dealing with images.  These are contained in the pylab module and the scipy.ndimage module, among others.  Here is a simple example.\n",
    "\n",
    "If they don't have the same shape, it's usually an error."
   ]
  },
  {
   "cell_type": "markdown",
   "id": "0a60324a",
   "metadata": {},
   "source": [
    "Size Mismatches, Recycling, NewAxis\n",
    "==================================="
   ]
  },
  {
   "cell_type": "markdown",
   "id": "74a3d69e",
   "metadata": {},
   "source": [
    "If arrays have the same size and shape, then operations between them are parallelized.\n",
    "\n",
    "They also use C layout internally, so a[0,0] and a[1,0] are further apart in memory than a[0,0] and a[0,1].   How would you know?  Because you can reshape arrays. "
   ]
  },
  {
   "cell_type": "markdown",
   "id": "457f6ff2",
   "metadata": {},
   "source": [
    "# Data Parallelism"
   ]
  },
  {
   "cell_type": "markdown",
   "id": "002ff465",
   "metadata": {},
   "source": [
    "Loops are quite slow in Python."
   ]
  },
  {
   "cell_type": "code",
   "execution_count": 49,
   "id": "20c9307f",
   "metadata": {
    "collapsed": false
   },
   "outputs": [],
   "source": [
    "from pylab import * \n",
    "import timeit \n",
    "a = randn(1000,1000) "
   ]
  }
 ],
 "metadata": {},
 "nbformat": 4,
 "nbformat_minor": 5
}
