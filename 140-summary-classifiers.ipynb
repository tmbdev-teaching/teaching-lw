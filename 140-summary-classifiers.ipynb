{
 "cells": [
  {
   "cell_type": "markdown",
   "id": "b9dff11d",
   "metadata": {},
   "source": [
    "Summary - Pattern Recognition\n",
    "===============================\n",
    "\n",
    "This notebook is a summary of many of the techniques we have looked at in pattern recognition,\n",
    "as well the interfaces and classes used to implement them in the `scikit.learn` package."
   ]
  },
  {
   "cell_type": "code",
   "execution_count": 6,
   "id": "6c7187cf",
   "metadata": {
    "collapsed": true
   },
   "outputs": [],
   "source": [
    "from pylab import *\n",
    "from scipy.spatial import distance\n",
    "import tables\n",
    "import random as pyrandom"
   ]
  },
  {
   "cell_type": "markdown",
   "id": "47602d2f",
   "metadata": {},
   "source": [
    "MNIST Training and Test Data\n",
    "======================\n"
   ]
  },
  {
   "cell_type": "markdown",
   "id": "32a3f95f",
   "metadata": {},
   "source": [
    "We have tried out a lot of these algorithms on the MNIST data set.\n",
    "The MNIST data set has been widely used for experiments in pattern\n",
    "recognition.\n",
    "Being based on images, it's actually easy to see what the various\n",
    "preprocessing methods do with the data."
   ]
  },
  {
   "cell_type": "code",
   "execution_count": 7,
   "id": "2bb7cd6e",
   "metadata": {
    "collapsed": false
   },
   "outputs": [],
   "source": [
    "mnist = tables.openFile(\"mnist.h5\",\"r\")"
   ]
  },
  {
   "cell_type": "markdown",
   "id": "aa3fa63f",
   "metadata": {},
   "source": [
    "Most algorithms work on 1D vectors, while input images are 2D.\n",
    "Furthermore, training data sets are, by convention, matrices whose rows represent training data vectors.\n",
    "The `make2d` function is useful for converting."
   ]
  },
  {
   "cell_type": "code",
   "execution_count": 8,
   "id": "c27c907b",
   "metadata": {
    "collapsed": true
   },
   "outputs": [],
   "source": [
    "def make2d(data):\n",
    "    return data.reshape(len(data),prod(data.shape[1:]))"
   ]
  },
  {
   "cell_type": "markdown",
   "id": "675cfd37",
   "metadata": {},
   "source": [
    "This is the training data..."
   ]
  },
  {
   "cell_type": "code",
   "execution_count": 9,
   "id": "5b46fd73",
   "metadata": {
    "collapsed": true
   },
   "outputs": [],
   "source": [
    "data = make2d(array(mnist.root.deskewed,'f'))\n",
    "labels = array(mnist.root.labels)"
   ]
  },
  {
   "cell_type": "markdown",
   "id": "dc4aa5ee",
   "metadata": {},
   "source": [
    "And this is a separate test set..."
   ]
  },
  {
   "cell_type": "code",
   "execution_count": 10,
   "id": "a42ecd42",
   "metadata": {
    "collapsed": true
   },
   "outputs": [],
   "source": [
    "test_data = make2d(array(mnist.root.test_deskewed,'f'))\n",
    "test_labels = array(mnist.root.test_labels)"
   ]
  },
  {
   "cell_type": "markdown",
   "id": "48dc37c3",
   "metadata": {},
   "source": [
    "k-Nearest Neighbors\n",
    "==================="
   ]
  },
  {
   "cell_type": "markdown",
   "id": "77746dbd",
   "metadata": {},
   "source": [
    "One of the simplest and most intuitive algorithms for classification\n",
    "is the nearest neighbor classifier.\n",
    "You should always try it out to get some idea of how difficult\n",
    "a classification problem is.\n",
    "For large amounts of training data, the k-NN classifier can be slow,\n",
    "but the implementation in SciKit has various optimizations that can\n",
    "make it a lot faster than the implementation you created yourself."
   ]
  },
  {
   "cell_type": "markdown",
   "id": "2c5b9e2f",
   "metadata": {},
   "source": [
    "Scikit classifiers generally start out as an object that is initialized with some parameters."
   ]
  },
  {
   "cell_type": "code",
   "execution_count": 11,
   "id": "a8423efe",
   "metadata": {
    "collapsed": false
   },
   "outputs": [],
   "source": [
    "from sklearn.neighbors import KNeighborsClassifier\n",
    "knn = KNeighborsClassifier(n_neighbors=1)"
   ]
  },
  {
   "cell_type": "markdown",
   "id": "f3a05322",
   "metadata": {},
   "source": [
    "Training is performed with the `fit` method."
   ]
  },
  {
   "cell_type": "code",
   "execution_count": 16,
   "id": "47edf44c",
   "metadata": {
    "collapsed": false
   },
   "outputs": [
    {
     "data": {
      "text/plain": [
       "KNeighborsClassifier(algorithm='auto', leaf_size=30, n_neighbors=1,\n",
       "           warn_on_equidistant=True, weights='uniform')"
      ]
     },
     "execution_count": 16,
     "metadata": {},
     "output_type": "execute_result"
    }
   ],
   "source": [
    "knn.fit(data[:1000],labels[:1000])"
   ]
  },
  {
   "cell_type": "markdown",
   "id": "ca363d64",
   "metadata": {},
   "source": [
    "Classification is carried out with the `predict` method."
   ]
  },
  {
   "cell_type": "code",
   "execution_count": 13,
   "id": "f358ed4e",
   "metadata": {
    "collapsed": false
   },
   "outputs": [
    {
     "name": "stdout",
     "output_type": "stream",
     "text": [
      "[7 2 1 0 4 1 9 4 9 9]\n",
      "[7 2 1 0 4 1 4 9 5 9]"
     ]
    }
   ],
   "source": [
    "pred = knn.predict(test_data)\n",
    "print pred[:10]\n",
    "print test_labels[:10]"
   ]
  },
  {
   "cell_type": "markdown",
   "id": "b32f9870",
   "metadata": {},
   "source": [
    "In the past, we have evaluated predictions directly by comparing labels."
   ]
  },
  {
   "cell_type": "code",
   "execution_count": 17,
   "id": "85b5f74d",
   "metadata": {
    "collapsed": false
   },
   "outputs": [
    {
     "data": {
      "text/plain": [
       "0.076100000000000001"
      ]
     },
     "execution_count": 17,
     "metadata": {},
     "output_type": "execute_result"
    }
   ],
   "source": [
    "sum(pred!=test_labels)*1.0/len(test_labels)"
   ]
  },
  {
   "cell_type": "markdown",
   "id": "609a0c64",
   "metadata": {},
   "source": [
    "However, the package `sklearn.metrics` contains\n",
    "various evaluation functions.\n",
    "The `zero_one_score` function computes the fraction of _correct_ results."
   ]
  },
  {
   "cell_type": "code",
   "execution_count": 14,
   "id": "fb010cc7",
   "metadata": {
    "collapsed": false
   },
   "outputs": [
    {
     "data": {
      "text/plain": [
       "0.92390000000000005"
      ]
     },
     "execution_count": 14,
     "metadata": {},
     "output_type": "execute_result"
    }
   ],
   "source": [
    "from sklearn import metrics\n",
    "metrics.zero_one_score(test_labels,pred)"
   ]
  },
  {
   "cell_type": "markdown",
   "id": "5dfa0b20",
   "metadata": {},
   "source": [
    "Often, the error rate is more useful."
   ]
  },
  {
   "cell_type": "code",
   "execution_count": 15,
   "id": "7270e0d3",
   "metadata": {
    "collapsed": false
   },
   "outputs": [
    {
     "data": {
      "text/plain": [
       "0.076099999999999945"
      ]
     },
     "execution_count": 15,
     "metadata": {},
     "output_type": "execute_result"
    }
   ],
   "source": [
    "1-metrics.zero_one_score(test_labels,pred)"
   ]
  },
  {
   "cell_type": "markdown",
   "id": "c8b17a90",
   "metadata": {},
   "source": [
    "Linear Discriminant Analysis\n",
    "=============================="
   ]
  },
  {
   "cell_type": "markdown",
   "id": "88280eba",
   "metadata": {},
   "source": [
    "Linear discriminant analysis (LDA) is one way of obtaining a _linear classifier_.\n",
    "It is actually based on parametric models, however, not perceptron learning or other\n",
    "_discriminative_ methods."
   ]
  },
  {
   "cell_type": "code",
   "execution_count": 18,
   "id": "60671fd4",
   "metadata": {
    "collapsed": false
   },
   "outputs": [],
   "source": [
    "from sklearn import lda\n",
    "lc = lda.LDA()"
   ]
  },
  {
   "cell_type": "markdown",
   "id": "2134d759",
   "metadata": {},
   "source": [
    "As before, the `fit` method does the training."
   ]
  },
  {
   "cell_type": "code",
   "execution_count": 19,
   "id": "8ad9bb6c",
   "metadata": {
    "collapsed": false
   },
   "outputs": [
    {
     "data": {
      "text/plain": [
       "LDA(n_components=None, priors=None)"
      ]
     },
     "execution_count": 19,
     "metadata": {},
     "output_type": "execute_result"
    }
   ],
   "source": [
    "lc.fit(data,labels)"
   ]
  },
  {
   "cell_type": "markdown",
   "id": "0467218c",
   "metadata": {},
   "source": [
    "The `predict` method does the prediction, and we use the `zero_one_score` function to evaluate."
   ]
  },
  {
   "cell_type": "code",
   "execution_count": 123,
   "id": "d04b1751",
   "metadata": {
    "collapsed": false
   },
   "outputs": [
    {
     "data": {
      "text/plain": [
       "0.081999999999999962"
      ]
     },
     "execution_count": 123,
     "metadata": {},
     "output_type": "execute_result"
    }
   ],
   "source": [
    "pred = lc.predict(test_data)\n",
    "1-metrics.zero_one_score(test_labels,pred)"
   ]
  },
  {
   "cell_type": "markdown",
   "id": "1ecc888e",
   "metadata": {},
   "source": [
    "Preprocessing\n",
    "============"
   ]
  },
  {
   "cell_type": "markdown",
   "id": "f69fdc08",
   "metadata": {},
   "source": [
    "We had talked about various forms of preprocessing.\n",
    "Often, feature vector normalization is important.\n",
    "For example, we might transform $v$ into $v/||v||$.\n",
    "\n",
    "Some preprocessing methods need to be trained with a `fit` method,\n",
    "just like a classifier,\n",
    "but instead of a `pred` method, there is a `transform` method.\n",
    "\n",
    "The `fit_transform` method fits a model and transforms the input data at the same time."
   ]
  },
  {
   "cell_type": "code",
   "execution_count": 124,
   "id": "20e4cad3",
   "metadata": {
    "collapsed": true
   },
   "outputs": [],
   "source": [
    "from sklearn import preprocessing\n",
    "normalizer = preprocessing.Normalizer(norm='l2')\n",
    "normalized_data = normalizer.fit_transform(data)"
   ]
  },
  {
   "cell_type": "markdown",
   "id": "176cc95a",
   "metadata": {},
   "source": [
    "Now we can fit a classifier in terms of the transformed data."
   ]
  },
  {
   "cell_type": "code",
   "execution_count": 125,
   "id": "59975f3d",
   "metadata": {
    "collapsed": false
   },
   "outputs": [
    {
     "data": {
      "text/plain": [
       "LDA(n_components=None, priors=None)"
      ]
     },
     "execution_count": 125,
     "metadata": {},
     "output_type": "execute_result"
    }
   ],
   "source": [
    "lc = lda.LDA()\n",
    "lc.fit(normalized_data,labels)"
   ]
  },
  {
   "cell_type": "markdown",
   "id": "16169d97",
   "metadata": {},
   "source": [
    "We also need to remember to transform the test data prior to classification."
   ]
  },
  {
   "cell_type": "code",
   "execution_count": 126,
   "id": "4e359d44",
   "metadata": {
    "collapsed": false
   },
   "outputs": [
    {
     "data": {
      "text/plain": [
       "0.077500000000000013"
      ]
     },
     "execution_count": 126,
     "metadata": {},
     "output_type": "execute_result"
    }
   ],
   "source": [
    "pred = lc.predict(normalizer.transform(test_data))\n",
    "1-metrics.zero_one_score(test_labels,pred)"
   ]
  },
  {
   "cell_type": "markdown",
   "id": "c01be287",
   "metadata": {},
   "source": [
    "Preprocessing is important for achieving low error rates,\n",
    "but many attempts at preprocessing make classification worse, not better.\n",
    "Finding good preprocessing methods is tricky and requires both experience\n",
    "and experimentation."
   ]
  },
  {
   "cell_type": "markdown",
   "id": "6675780a",
   "metadata": {},
   "source": [
    "Feature Extraction\n",
    "=================="
   ]
  },
  {
   "cell_type": "markdown",
   "id": "52be5255",
   "metadata": {},
   "source": [
    "Feature extraction is a particular form of preprocessing.\n",
    "There really isn't any clear distinction between feature extraction,\n",
    "preprocessing, normalization, etc.\n",
    "Normally, feature extraction aims at reducing the amount of data\n",
    "and information that needs to be processed by a classifier,\n",
    "and often it attempts to enhance features of the input that are\n",
    "relevant to classification and discard parts of the input that\n",
    "are noise or irrelevant."
   ]
  },
  {
   "cell_type": "code",
   "execution_count": 127,
   "id": "187aa313",
   "metadata": {
    "collapsed": true
   },
   "outputs": [],
   "source": [
    "from scipy.ndimage.filters import gaussian_filter\n",
    "def extract(data):\n",
    "    return array([gaussian_filter(x.reshape(28,28),2.0).ravel() for x in data])"
   ]
  },
  {
   "cell_type": "markdown",
   "id": "db256396",
   "metadata": {},
   "source": [
    "Feature extraction is often hard-coded by hand."
   ]
  },
  {
   "cell_type": "code",
   "execution_count": 128,
   "id": "bda722f4",
   "metadata": {
    "collapsed": true
   },
   "outputs": [],
   "source": [
    "extracted = extract(data)"
   ]
  },
  {
   "cell_type": "code",
   "execution_count": 129,
   "id": "d7354e76",
   "metadata": {
    "collapsed": false
   },
   "outputs": [
    {
     "data": {
      "text/plain": [
       "LDA(n_components=None, priors=None)"
      ]
     },
     "execution_count": 129,
     "metadata": {},
     "output_type": "execute_result"
    }
   ],
   "source": [
    "lc = lda.LDA()\n",
    "lc.fit(extracted,labels)"
   ]
  },
  {
   "cell_type": "code",
   "execution_count": 130,
   "id": "ed4d5d7e",
   "metadata": {
    "collapsed": false
   },
   "outputs": [
    {
     "data": {
      "text/plain": [
       "0.080600000000000005"
      ]
     },
     "execution_count": 130,
     "metadata": {},
     "output_type": "execute_result"
    }
   ],
   "source": [
    "pred = lc.predict(extract(test_data))\n",
    "1-metrics.zero_one_score(test_labels,pred)"
   ]
  },
  {
   "cell_type": "markdown",
   "id": "2da64650",
   "metadata": {},
   "source": [
    "Confusion Matrix\n",
    "==================="
   ]
  },
  {
   "cell_type": "markdown",
   "id": "e10bfc43",
   "metadata": {},
   "source": [
    "We'd looked already at one function in the `metrics` package, but there\n",
    "are other useful functions for evaluation and getting insight in how\n",
    "classifiers work.\n",
    "\n",
    "The _confusion matrix_ tells us which kinds of classes are most often confused.\n",
    "For example, '9' and '7' are confused fairly frequently, as are '8' and '3',\n",
    "due to significant similarity.\n",
    "\n",
    "Based on confusions, we can often conclude what kind of preprocessing might\n",
    "be helpful in reducing the error rate."
   ]
  },
  {
   "cell_type": "code",
   "execution_count": 131,
   "id": "cb492d3c",
   "metadata": {
    "collapsed": false
   },
   "outputs": [
    {
     "data": {
      "text/plain": [
       "array([[ 951,    0,    0,    2,    1,   12,    3,    0,    9,    2],\n",
       "       [   0, 1105,    2,    5,    1,    2,    4,    0,   16,    0],\n",
       "       [   9,    0,  912,   20,   16,    6,    8,    3,   55,    3],\n",
       "       [   2,    0,    5,  953,    1,   17,    1,    4,   16,   11],\n",
       "       [   0,    4,    8,    1,  922,    5,    3,    2,    5,   32],\n",
       "       [   5,    0,    0,   19,   16,  816,   13,    0,   18,    5],\n",
       "       [  11,    3,   10,    1,   15,   39,  870,    0,    9,    0],\n",
       "       [   2,    5,   15,    3,   16,    1,    0,  899,   10,   77],\n",
       "       [  13,    1,    7,   19,   10,   28,    3,    2,  879,   12],\n",
       "       [   5,    1,    3,   22,   40,    5,    0,   38,    8,  887]])"
      ]
     },
     "execution_count": 131,
     "metadata": {},
     "output_type": "execute_result"
    }
   ],
   "source": [
    "metrics.confusion_matrix(test_labels,pred)"
   ]
  },
  {
   "cell_type": "markdown",
   "id": "eac5ce4c",
   "metadata": {},
   "source": [
    "Quadratic Discriminant Analysis\n",
    "================================"
   ]
  },
  {
   "cell_type": "markdown",
   "id": "32156529",
   "metadata": {},
   "source": [
    "Quadratic Discriminant Analysis (QDA) is what we were looking\n",
    "at under parametric classifiers in previous lectures."
   ]
  },
  {
   "cell_type": "code",
   "execution_count": 132,
   "id": "fce32717",
   "metadata": {
    "collapsed": false
   },
   "outputs": [
    {
     "data": {
      "text/plain": [
       "QDA(priors=None)"
      ]
     },
     "execution_count": 132,
     "metadata": {},
     "output_type": "execute_result"
    }
   ],
   "source": [
    "from sklearn import qda\n",
    "qc = qda.QDA()\n",
    "qc.fit(data,labels)"
   ]
  },
  {
   "cell_type": "code",
   "execution_count": 133,
   "id": "b777d56c",
   "metadata": {
    "collapsed": false
   },
   "outputs": [
    {
     "data": {
      "text/plain": [
       "0.21189999999999998"
      ]
     },
     "execution_count": 133,
     "metadata": {},
     "output_type": "execute_result"
    }
   ],
   "source": [
    "pred = qc.predict(test_data)\n",
    "1-metrics.zero_one_score(test_labels,pred)"
   ]
  },
  {
   "cell_type": "markdown",
   "id": "90c5c6ad",
   "metadata": {},
   "source": [
    "Note that performance isn't very good, since this attempts to infer\n",
    "a complete covariance matrix from not very much data.\n",
    "\n",
    "Again, this is different from learning a polynomial classifier discriminatively."
   ]
  },
  {
   "cell_type": "markdown",
   "id": "527986ed",
   "metadata": {},
   "source": [
    "Support Vector Machines\n",
    "=============="
   ]
  },
  {
   "cell_type": "markdown",
   "id": "cd29db17",
   "metadata": {},
   "source": [
    "Support vector machines are a popular machine learning technique.\n",
    "You can think of them as combining ideas from perceptron learning with\n",
    "non-linear transformations of the input space based on kernels.\n",
    "As such, the method is quite versatile and can solve lots of problems.\n",
    "\n",
    "However, both training and classification with SVMs can be kind of slow, and\n",
    "other methods are often significantly faster.\n",
    "\n",
    "Algorithmically, they are a bit more complicated than that, but\n",
    "the numerical details are not all that important for using these methods."
   ]
  },
  {
   "cell_type": "code",
   "execution_count": 135,
   "id": "1cbf7121",
   "metadata": {
    "collapsed": false
   },
   "outputs": [
    {
     "data": {
      "text/plain": [
       "SVC(C=1.0, cache_size=200, coef0=0.0, degree=3, gamma=0.00127551020408,\n",
       "  kernel='rbf', probability=False, scale_C=False, shrinking=True,\n",
       "  tol=0.001)"
      ]
     },
     "execution_count": 135,
     "metadata": {},
     "output_type": "execute_result"
    }
   ],
   "source": [
    "from sklearn import svm\n",
    "sv = svm.SVC()\n",
    "sv.fit(data,labels)"
   ]
  },
  {
   "cell_type": "code",
   "execution_count": 136,
   "id": "d6664929",
   "metadata": {
    "collapsed": false
   },
   "outputs": [
    {
     "data": {
      "text/plain": [
       "0.033599999999999963"
      ]
     },
     "execution_count": 136,
     "metadata": {},
     "output_type": "execute_result"
    }
   ],
   "source": [
    "pred = sv.predict(test_data)\n",
    "1-metrics.zero_one_score(test_labels,pred)"
   ]
  },
  {
   "cell_type": "markdown",
   "id": "ada06d25",
   "metadata": {},
   "source": [
    "Note that performance is fairly good compared to the other methods.\n",
    "There are a lot of parameters you can tune to improve them further."
   ]
  },
  {
   "cell_type": "markdown",
   "id": "9087c7dc",
   "metadata": {},
   "source": [
    "Logistic Regression\n",
    "==================="
   ]
  },
  {
   "cell_type": "markdown",
   "id": "f1706711",
   "metadata": {},
   "source": [
    "Another linear classifier that we had mentioned briefly is _logistic regression_.\n",
    "\n",
    "It computes a linear decision boundary, but uses different methods from LDA or SVM."
   ]
  },
  {
   "cell_type": "code",
   "execution_count": 137,
   "id": "22168f0d",
   "metadata": {
    "collapsed": false
   },
   "outputs": [
    {
     "data": {
      "text/plain": [
       "LogisticRegression(C=1.0, dual=False, fit_intercept=True, intercept_scaling=1,\n",
       "          penalty='l2', scale_C=False, tol=0.0001)"
      ]
     },
     "execution_count": 137,
     "metadata": {},
     "output_type": "execute_result"
    }
   ],
   "source": [
    "from sklearn.linear_model import LogisticRegression\n",
    "lr = LogisticRegression()\n",
    "lr.fit(data,labels)"
   ]
  },
  {
   "cell_type": "code",
   "execution_count": 138,
   "id": "db5e04fd",
   "metadata": {
    "collapsed": false
   },
   "outputs": [
    {
     "data": {
      "text/plain": [
       "0.04930000000000001"
      ]
     },
     "execution_count": 138,
     "metadata": {},
     "output_type": "execute_result"
    }
   ],
   "source": [
    "pred = lr.predict(test_data)\n",
    "1-metrics.zero_one_score(test_labels,pred)"
   ]
  },
  {
   "cell_type": "markdown",
   "id": "7e6f6896",
   "metadata": {},
   "source": [
    "ROC Curve\n",
    "========="
   ]
  },
  {
   "cell_type": "markdown",
   "id": "4d6227b3",
   "metadata": {},
   "source": [
    "As shown above, classifiers just give a single error rate.\n",
    "But often, there are different error rates we can achieve.\n",
    "For a binary classifier, there is the _true positive rate_\n",
    "(the percentage of true positives classified as such),\n",
    "and the _false positive rate_ (the percentage of negative\n",
    "samples classified as positive), and there\n",
    "is a tradeoff between the two."
   ]
  },
  {
   "cell_type": "markdown",
   "id": "a083eb2f",
   "metadata": {},
   "source": [
    "The basic idea is to use the value of a _discriminant function_ to make different tradeoffs.\n",
    "By choosing different cutoff values, we can increase the true positive rate or decreate the\n",
    "false positive rate.\n",
    "For this, we need to ask the classifier to return a _degree of confidence_ or the value of\n",
    "a discriminant function.\n",
    "There are multiple candidates for this, including `predict_log_proba`."
   ]
  },
  {
   "cell_type": "code",
   "execution_count": 139,
   "id": "1d3b4795",
   "metadata": {
    "collapsed": true
   },
   "outputs": [],
   "source": [
    "scores = lr.predict_log_proba(test_data)"
   ]
  },
  {
   "cell_type": "markdown",
   "id": "d52102ad",
   "metadata": {},
   "source": [
    "The function `metrics.roc_curve` will then generate an ROC curve. \n",
    "It only does this for binary classification tasks, so here we look at\n",
    "0 vs. everything else."
   ]
  },
  {
   "cell_type": "code",
   "execution_count": 140,
   "id": "9687b189",
   "metadata": {
    "collapsed": true
   },
   "outputs": [],
   "source": [
    "fpr,tpr,thresholds = metrics.roc_curve(test_labels==0,scores[:,0])"
   ]
  },
  {
   "cell_type": "code",
   "execution_count": 141,
   "id": "f83021e2",
   "metadata": {
    "collapsed": false
   },
   "outputs": [
    {
     "data": {
      "text/plain": [
       "[<matplotlib.lines.Line2D at 0x99ca150>]"
      ]
     },
     "execution_count": 141,
     "metadata": {},
     "output_type": "execute_result"
    },
    {
     "data": {
      "image/png": "[encoded data removed]"
     },
     "metadata": {},
     "output_type": "display_data"
    }
   ],
   "source": [
    "plot(100*fpr[:1000],100*tpr[:1000])"
   ]
  },
  {
   "cell_type": "markdown",
   "id": "f2abe084",
   "metadata": {},
   "source": [
    "Cross Validation\n",
    "================"
   ]
  },
  {
   "cell_type": "markdown",
   "id": "2e54c2aa",
   "metadata": {},
   "source": [
    "We have seen several times that evaluating a classifier on the training\n",
    "set yields lower error rates than evaluating it on new data."
   ]
  },
  {
   "cell_type": "code",
   "execution_count": 142,
   "id": "b3d161a7",
   "metadata": {
    "collapsed": false
   },
   "outputs": [
    {
     "name": "stdout",
     "output_type": "stream",
     "text": [
      "0.999"
     ]
    }
   ],
   "source": [
    "from sklearn import cross_validation\n",
    "from sklearn import linear_model\n",
    "\n",
    "cl = linear_model.LogisticRegression()\n",
    "cl.fit(data[:1000],labels[:1000])\n",
    "pred = cl.predict(data[:1000])\n",
    "print metrics.zero_one_score(labels[:1000],pred)"
   ]
  },
  {
   "cell_type": "code",
   "execution_count": 143,
   "id": "533d0873",
   "metadata": {
    "collapsed": false
   },
   "outputs": [
    {
     "name": "stdout",
     "output_type": "stream",
     "text": [
      "0.9108"
     ]
    }
   ],
   "source": [
    "pred = cl.predict(test_data)\n",
    "print metrics.zero_one_score(test_labels,pred)"
   ]
  },
  {
   "cell_type": "markdown",
   "id": "1d2521b7",
   "metadata": {},
   "source": [
    "If we don't have a separate test set, we can use _cross validation_ for estimating the\n",
    "true error rate of a classifier.\n",
    "\n",
    "Cross-validation splits the training data itself into a separate test and training set,\n",
    "but it does so multiple times and then reports the error rate for each split."
   ]
  },
  {
   "cell_type": "code",
   "execution_count": 144,
   "id": "5a2dbf2c",
   "metadata": {
    "collapsed": true
   },
   "outputs": [],
   "source": [
    "scores = cross_validation.cross_val_score(cl,data[:1000],labels[:1000],cv=10)"
   ]
  },
  {
   "cell_type": "code",
   "execution_count": 145,
   "id": "05f178dc",
   "metadata": {
    "collapsed": false
   },
   "outputs": [
    {
     "name": "stdout",
     "output_type": "stream",
     "text": [
      "[ 0.94  0.94  0.94  0.93  0.93  0.95  0.93  0.97  0.9   0.9 ]\n",
      "0.933"
     ]
    }
   ],
   "source": [
    "print scores\n",
    "print mean(scores)"
   ]
  },
  {
   "cell_type": "markdown",
   "id": "f84a3992",
   "metadata": {},
   "source": [
    "Dimensionality Reduction via PCA\n",
    "=================="
   ]
  },
  {
   "cell_type": "markdown",
   "id": "919e4aee",
   "metadata": {},
   "source": [
    "We have talked about manual preprocessing and feature extraction steps.\n",
    "We also saw one important automatic feature extraction step.\n",
    "\n",
    "Remember that PCA is a linear transformation that reduces the dimensionality of the input,\n",
    "while preserving distances as much as possible.\n",
    "It is an example of _unsupervised learning_."
   ]
  },
  {
   "cell_type": "code",
   "execution_count": 146,
   "id": "f87d8e97",
   "metadata": {
    "collapsed": false
   },
   "outputs": [
    {
     "data": {
      "text/plain": [
       "PCA(copy=True, n_components=50, whiten=False)"
      ]
     },
     "execution_count": 146,
     "metadata": {},
     "output_type": "execute_result"
    }
   ],
   "source": [
    "from sklearn import decomposition\n",
    "pca = decomposition.PCA(n_components=50)\n",
    "pca.fit(data)"
   ]
  },
  {
   "cell_type": "code",
   "execution_count": 147,
   "id": "539330ba",
   "metadata": {
    "collapsed": false
   },
   "outputs": [
    {
     "data": {
      "text/plain": [
       "KNeighborsClassifier(algorithm='auto', leaf_size=30, n_neighbors=3,\n",
       "           warn_on_equidistant=True, weights='uniform')"
      ]
     },
     "execution_count": 147,
     "metadata": {},
     "output_type": "execute_result"
    }
   ],
   "source": [
    "from sklearn.neighbors import KNeighborsClassifier\n",
    "knn = KNeighborsClassifier(n_neighbors=3)\n",
    "knn.fit(pca.transform(data),labels)"
   ]
  },
  {
   "cell_type": "code",
   "execution_count": 148,
   "id": "be3b97c1",
   "metadata": {
    "collapsed": true
   },
   "outputs": [],
   "source": [
    "pred = knn.predict(pca.transform(test_data))"
   ]
  },
  {
   "cell_type": "code",
   "execution_count": 149,
   "id": "17842107",
   "metadata": {
    "collapsed": false
   },
   "outputs": [
    {
     "data": {
      "text/plain": [
       "0.01529999999999998"
      ]
     },
     "execution_count": 149,
     "metadata": {},
     "output_type": "execute_result"
    }
   ],
   "source": [
    "1-metrics.zero_one_score(test_labels,pred)"
   ]
  },
  {
   "cell_type": "markdown",
   "id": "fecf7f53",
   "metadata": {},
   "source": [
    "Clustering with k-Means\n",
    "======================="
   ]
  },
  {
   "cell_type": "markdown",
   "id": "41d267a7",
   "metadata": {},
   "source": [
    "A second form of unsupervised learning we looked at is $k$-means clustering.\n",
    "\n",
    "$k$-means clustering attempts to identify representative patters in the input data.\n",
    "\n",
    "$k$-means clustering has a number of applications:\n",
    "\n",
    "- we can use it to visualize the structure of the data\n",
    "- we can use it to create \"pseudoclasses\" that can then be used with, say, a QDA (this gives a classifier somewhat similar to a kernel-based classifier)\n",
    "- we can use it as kernel centers for kernel-based methods"
   ]
  },
  {
   "cell_type": "code",
   "execution_count": 150,
   "id": "eddf3158",
   "metadata": {
    "collapsed": false
   },
   "outputs": [
    {
     "data": {
      "text/plain": [
       "KMeans(copy_x=True, init='k-means++', k=40, max_iter=300, n_init=10,\n",
       "    precompute_distances=True,\n",
       "    random_state=<mtrand.RandomState object at 0x7fadbbe4a498>, tol=0.0001,\n",
       "    verbose=0)"
      ]
     },
     "execution_count": 150,
     "metadata": {},
     "output_type": "execute_result"
    }
   ],
   "source": [
    "from sklearn import cluster\n",
    "km = cluster.KMeans(40)\n",
    "km.fit(data[::10])"
   ]
  },
  {
   "cell_type": "code",
   "execution_count": 151,
   "id": "3fcf7e63",
   "metadata": {
    "collapsed": false
   },
   "outputs": [
    {
     "data": {
      "image/png": "[encoded data removed]"
     },
     "metadata": {},
     "output_type": "display_data"
    }
   ],
   "source": [
    "for i,v in enumerate(km.cluster_centers_):\n",
    "    subplot(5,8,i+1)\n",
    "    imshow(v.reshape(28,28))"
   ]
  },
  {
   "cell_type": "code",
   "execution_count": 152,
   "id": "4f8b56dc",
   "metadata": {
    "collapsed": false
   },
   "outputs": [
    {
     "data": {
      "text/plain": [
       "array([11, 23, 24,  1,  2, 19,  1, 31, 32, 13])"
      ]
     },
     "execution_count": 152,
     "metadata": {},
     "output_type": "execute_result"
    }
   ],
   "source": [
    "pseudoclasses = km.predict(data)\n",
    "pseudoclasses[:10]"
   ]
  }
 ],
 "metadata": {},
 "nbformat": 4,
 "nbformat_minor": 5
}
