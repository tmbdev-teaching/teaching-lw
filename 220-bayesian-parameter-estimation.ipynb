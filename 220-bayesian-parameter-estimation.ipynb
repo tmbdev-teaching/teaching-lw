{
 "cells": [
  {
   "cell_type": "markdown",
   "id": "8f0aab14",
   "metadata": {},
   "source": [
    "Title: Bayesian Parameter Estimation\n",
    "Author: Thomas Breuel\n",
    "Institution: UniKL"
   ]
  },
  {
   "cell_type": "code",
   "execution_count": 1,
   "id": "a4131b25",
   "metadata": {
    "collapsed": true
   },
   "outputs": [],
   "source": [
    "\n",
    "from scipy import stats\n",
    "from scipy.stats import norm"
   ]
  },
  {
   "cell_type": "markdown",
   "id": "74ef51d2",
   "metadata": {},
   "source": [
    "Parameter Estimation\n",
    "======================\n",
    "\n",
    "Assume we are given a samples from a Gaussian:\n",
    "\n",
    "$$p(x) = \\sigma^{-1} (2\\pi)^{-1/2} e^{-\\frac{(x-\\mu)^2}{2\\sigma^2}}$$\n",
    "\n",
    "You already know the formulas for estimating means and variances of Gaussians:\n",
    "\n",
    "$$\\mu \\approx \\hat{\\mu} = \\bar{x} = {1 \\over n} \\sum_{k=1}^n x_k $$\n",
    "\n",
    "$$\\sigma^2 \\approx \\hat{\\sigma}^2 = \\bar{(x-\\bar{x})^2} = {1 \\over n} \\sum_{k=1}^n (x_k-\\bar{x})$$\n",
    "\n",
    "We're asking the following questions here:\n",
    "\n",
    "- Where do these formulas come from?\n",
    "- Are they \"correct\"?\n",
    "- Are they the whole story?"
   ]
  },
  {
   "cell_type": "markdown",
   "id": "d2fb9219",
   "metadata": {},
   "source": [
    "The $x_k$ above are an i.i.d. sample from the original sample density:\n",
    "\n",
    "$$D=\\{x_1,\\ldots,x_n\\}$$\n",
    "\n",
    "We want to estimate the parameters of the density $p(x)$.  \n",
    "Let's call the parameters generically $\\theta$.\n",
    "For the univariate normal density, $\\theta = (\\mu,\\sigma)$.\n",
    "\n",
    "$$p(x_i) = p(x,\\theta) = p(x|\\theta)$$\n",
    "\n",
    "Now we can write a density for the entire dataset:\n",
    "\n",
    "$$ p(D|\\theta) = p(x_1,\\ldots,x_n|\\theta) = p(x_1|\\theta)\\cdot\\ldots\\cdot p(x_n|\\theta) = \\prod_{i=1}^n p(x_i|\\theta)$$\n",
    "\n",
    "We call $\\ell(\\theta) = p(D|\\theta)$ the _likelihood_ of the data.\n",
    "Note that likelihoods are parameterized densities viewed as functions of the parameters.\n",
    "\n",
    "Maximum Likelihood Estimate\n",
    "============================\n",
    "\n",
    "The _maximum likelihood estimate_ is given by:\n",
    "\n",
    "$$\\hat{\\theta} = \\arg\\max_\\theta ~ p(D|\\theta)$$\n",
    "\n",
    "This seems like a reasonable thing to do: choose the parameter that was\n",
    "most likely to produce the data set.\n",
    "\n",
    "However, in general, there is little reason why the maximum of the likelihood function\n",
    "should mean anything.\n",
    "For example, we can easily modify the likelihood function to put a tiny spike in it\n",
    "that moves the maximum somewhere arbitrary without actually changing the problem much at all.\n",
    "\n",
    "Maximum A Posteriori Estimate\n",
    "=============================\n",
    "\n",
    "By analogy to Bayesian methods, we can also ``multiply in'' a prior:\n",
    "\n",
    "$$\\hat{\\theta} = \\arg\\max_\\theta ~ p(D|\\theta) p(\\theta)$$\n",
    "\n",
    "This is called the _maximum a-posterior estimate_ (MAP) for the parameter $\\theta$.\n",
    "\n",
    "MAP vs Bayesian Methods\n",
    "========================\n",
    "\n",
    "Although MAP looks like the derivation may have involved _Bayes rule_, it is\n",
    "not a Bayesian method at all.\n",
    "Bayesian methods are *not* methods that involve Bayes rule somewhere.\n",
    "\n",
    "**Bayesian methods are methods that result in decisions that minimize expected loss.**\n",
    "\n",
    "In order to minimize expected loss, you actually need a loss function.\n",
    "Maximum likelihood or MAP estimation does not attempt to minimize a loss function,\n",
    "hence it is not a Bayesian method.\n",
    "For individual distributions, ML or MAP estimation may implicitly optimize some loss\n",
    "function, but that loss function may depend on the distribution, sample size, and parameters."
   ]
  },
  {
   "cell_type": "markdown",
   "id": "d69f6a05",
   "metadata": {},
   "source": [
    "Maximum Likelihood Estimation of the Mean of a Normal Density\n",
    "=========================================\n",
    "\n",
    "Let's derive a maximum likelihood estimator, for the mean of a Gaussian\n",
    "we want to maximize the likelihood function:\n",
    "\n",
    "$p(x_1,...,x_n|\\mu)=\\prod_i p(x_i|\\mu)$\n",
    "\n",
    "Let's take logarithms\n",
    "\n",
    "$$l(\\mu) = \\sum_i p(x_i|\\mu) = \\sum -{1\\over 2} \\ln((2\\pi)^d |\\Sigma|) - {1\\over 2} (x_i-\\mu)\\Sigma^{-1}(x_i-\\mu)$$\n",
    "\n",
    "If $l$ is sufficiently well behaved (it is), then a necessary condition for a local maximum is that the gradient in the parameter to be estimated is 0\n",
    "\n",
    "$$\\nabla_\\mu l(\\mu) = 0$$\n",
    "\n",
    "The gradient is\n",
    "\n",
    "$$\\nabla_\\mu l(\\mu) = \\sum_i \\Sigma^{-1} (x_i-\\mu)$$\n",
    "\n",
    "So,\n",
    "\n",
    "$$\\nabla_\\mu l(\\hat{\\mu}) = \\sum_i \\Sigma^{-1} (x_i-\\hat{\\mu}) = 0$$\n",
    "\n",
    "Multiply by $\\Sigma$\n",
    "\n",
    "$$\\sum_i (x_i-\\hat{\\mu}) = 0$$\n",
    "\n",
    "$$\\sum_i x_i = n\\cdot\\hat{\\mu}$$\n",
    "\n",
    "$$\\hat{\\mu} = {1 \\over n} \\sum_{i=1}^n x_i$$\n",
    "\n",
    "This is nice because it says that the maximum likelihood estimate of the mean of a Gaussian is just the arithmetic mean of the samples (the empirical mean or sample mean).\n"
   ]
  },
  {
   "cell_type": "markdown",
   "id": "c81a6236",
   "metadata": {},
   "source": [
    "Example\n",
    "=======\n",
    "\n",
    "Let's try this out in 1D.\n",
    "\n",
    "We assume that $\\sigma=1$"
   ]
  },
  {
   "cell_type": "code",
   "execution_count": 3,
   "id": "58d81bb4",
   "metadata": {
    "collapsed": true
   },
   "outputs": [],
   "source": [
    "D = randn(10)"
   ]
  },
  {
   "cell_type": "code",
   "execution_count": 11,
   "id": "c44e9f42",
   "metadata": {
    "collapsed": false
   },
   "outputs": [
    {
     "data": {
      "image/png": "[encoded data removed]"
     },
     "metadata": {},
     "output_type": "display_data"
    }
   ],
   "source": [
    "mus = linspace(-5,5,10000)\n",
    "l_of_mu = [-(x-mus)**2 for x in D]\n",
    "for l in l_of_mu: plot(mus,l)"
   ]
  },
  {
   "cell_type": "code",
   "execution_count": 12,
   "id": "4b15d283",
   "metadata": {
    "collapsed": false
   },
   "outputs": [
    {
     "name": "stdout",
     "output_type": "stream",
     "text": [
      "0.398539853985"
     ]
    },
    {
     "data": {
      "image/png": "[encoded data removed]"
     },
     "metadata": {},
     "output_type": "display_data"
    }
   ],
   "source": [
    "l = sum(array(l_of_mu),0)\n",
    "plot(mus,l)\n",
    "print mus[argmax(l)]"
   ]
  },
  {
   "cell_type": "code",
   "execution_count": 13,
   "id": "e69f03f5",
   "metadata": {
    "collapsed": false
   },
   "outputs": [
    {
     "data": {
      "text/plain": [
       "0.39899698828239921"
      ]
     },
     "execution_count": 13,
     "metadata": {},
     "output_type": "execute_result"
    }
   ],
   "source": [
    "mean(D)"
   ]
  },
  {
   "cell_type": "markdown",
   "id": "dca1c61b",
   "metadata": {},
   "source": [
    "ML estimator of Mean and Variance\n",
    "=================================\n",
    "\n",
    "Consider the 1D Gaussian, but assume that we want to estimate both $\\mu$ and $\\sigma^2$\n",
    "\n",
    "Let's use the variance $v=\\sigma^2$\n",
    "\n",
    "The log likelihood is\n",
    "\n",
    "$$l(\\mu,\\sigma^2) = \\sum_i^n \\ln p(x_i|\\mu,v) = -{1\\over2} \\ln 2\\pi v - {1 \\over {2v}} (x_i - \\mu)^2$$\n",
    "\n",
    "As before, to find a potential maximum, \n",
    "we calculate the derivatives of the log likelihood function and set them equal to zero\n",
    "\n",
    "$$\\frac{\\partial}{\\partial\\mu} l =  \\sum_i^n {1 \\over {\\hat{v}}} (x_i - \\hat{\\mu}) = 0$$\n",
    "\n",
    "$$\\frac{\\partial}{\\partial v} l =  \\sum_i^n - {1\\over {2\\hat{v}}} + \\frac{(x_i-\\hat{\\mu})^2}{2\\hat{v}^2} = 0$$\n",
    "\n",
    "So, from the first, we obtain again that\n",
    "\n",
    "$$\\hat{\\mu} = {1 \\over n} \\sum_i^n x_i$$\n",
    "\n",
    "For the second, we get\n",
    "\n",
    "$$\\frac{\\partial}{\\partial\\hat{v}} l =  \\sum_i^n - {1\\over {2\\hat{v}}} + \\frac{(x_i-\\hat{\\mu})^2}{2\\hat{v}^2} = 0$$\n",
    "\n",
    "Multiply by $v^2$, we get\n",
    "\n",
    "$$ n v  = \\sum_i^n (x_i-\\hat{\\mu})^2 $$\n",
    "\n",
    "Or\n",
    "\n",
    "$$ \\sigma^2 = v = \\frac{1}{n} \\sum_i^n (x_i-\\hat{\\mu})^2 $$"
   ]
  },
  {
   "cell_type": "markdown",
   "id": "d1c4ed5d",
   "metadata": {},
   "source": [
    "Bias\n",
    "====\n",
    "\n",
    "Above, we calculated the maximum likelihood estimate of the variance.\n",
    "\n",
    "Wouldn't it be nice if the variance were actually, on average, the same a the true variance?\n",
    "\n",
    "Let's see whether that is true.\n",
    "\n",
    "The expected value of the variance is\n",
    "\n",
    "$$E[\\frac{1}{n}\\sum_i^n (x_i-\\bar{x})]$$\n",
    "\n",
    "Consider the case $n=1$.\n",
    "\n",
    "Then $\\bar{x} = \\hat{\\mu} = x_1$, so\n",
    "\n",
    "$$E[\\frac{1}{1}\\sum_{i=1}^1 (x_1-x_1)] = 0$$\n",
    "\n",
    "Well, $0 \\neq \\sigma^2$\n",
    "\n",
    "Tt turns out that an unbiased estimator for variance is\n",
    "\n",
    "$$E[\\frac{1}{n-1}\\sum_i^n (x_i-\\bar{x})]$$\n",
    "\n",
    "Note that this is undefined for $n=1$, so the above problem doesn't exist.\n",
    "\n",
    "Some terminology:\n",
    "\n",
    "- If an estimator is not completely unbiased but becomes approximately unbiased \n",
    "for large $n$, we call it {\\em asymptotically unbiased}\n",
    "- If an estimator is unbiased for all distributions, it is called {\\em absolutely unbiased}.\n",
    "\n",
    "So, we now have two different estimators for the variance:\n",
    "\n",
    "- the first one maximizes the likelihood\n",
    "- the second one has an expected value that equals the true value\n",
    "\n",
    "Which one should we choose?\n",
    "\n",
    "There is no correct answer; the question itself is wrong.\n",
    "\n",
    "The reason is that our knowledge about the true variance is uncertain.\n",
    "Any single value we estimate for the variance is incomplete \n",
    "without a statement of the uncertainty associated with that value\n",
    "\n",
    "The point here is not that you should pick unbiased estimators (you may still choose\n",
    "to do so if you have nothing better to do), rather it is to illustrate that\n",
    "there are many choices in statistics that sound good on the surface but really \n",
    "don't accomplish anything useful."
   ]
  },
  {
   "cell_type": "markdown",
   "id": "cfb60967",
   "metadata": {},
   "source": [
    "Bayesian Parameter Estimation\n",
    "=============================\n",
    "\n",
    "In Bayesian parameter estimation, we need to decide what purpose we want \n",
    "to use the estimate for.\n",
    "\n",
    "For example, we might want to estimate the parameters of a normal\n",
    "density in order to perform classification.\n",
    "\n",
    "In a Bayesian approach, we use all available data:\n",
    "\n",
    "$$p(\\omega_j|x) = p(\\omega_j|x,D)$$\n",
    "\n",
    "In order to perform estimation, we consider the case where...\n",
    "\n",
    "- the form of the density $p(x|\\theta)$ is known (parametric estimation)\n",
    "- we assume that samples for each class can only give us information about that class\n",
    "- assume we have a prior density $p(\\theta)$ for the parameters\n",
    "\n",
    "Then\n",
    "\n",
    "$$p(x|D) = \\int p(x|\\theta) p(\\theta|D) d\\theta$$\n",
    "\n",
    "Now by Bayes formula,\n",
    "\n",
    "$$p(\\theta|D) = \\frac{p(D|\\theta)p(\\theta)}{p(D)}$$\n",
    "\n",
    "and by independence\n",
    "\n",
    "$$p(D|\\theta) = \\prod_{k=1}^n p(x_k|\\theta)$$\n",
    "\n",
    "Note that the maximum likelihood case is equivalent to this if we choose \n",
    "\n",
    "$p(\\theta|D)=\\delta(\\theta,\\hat{\\theta})$\n",
    "\n",
    "$$p(x|\\omega_j,D) = \\int p(x|\\theta) \\delta(\\theta,\\hat{\\theta}) d\\theta$$\n",
    "\n",
    "Whether the maximum likelihood solution works well therefore depends on how\n",
    "closely $p(\\theta|D)$ approximates a $\\delta(\\theta,\\hat{\\theta})$ \n",
    "(note that \"how closely\" depends also on the smoothness of $p(x|\\theta)$)\n"
   ]
  },
  {
   "cell_type": "markdown",
   "id": "3a15daa0",
   "metadata": {},
   "source": [
    "Parameter Updates\n",
    "=================\n",
    "\n",
    "Above, we have seen how to compute distributions of parameters given\n",
    "some samples.\n",
    "\n",
    "In many cases, it turns out that the distribution of parameters itself\n",
    "has a parameteric form closely related to the parametric form of the\n",
    "distribution we are trying to estimate.\n",
    "\n",
    "For example, the distribution of the estimates of a mean of a Gaussian\n",
    "is itself a Gaussian."
   ]
  },
  {
   "cell_type": "markdown",
   "id": "44ee1118",
   "metadata": {},
   "source": [
    "For now, let's look at a particularly simple case.\n",
    "Assume we are given $p(\\theta)$ and a measurement $x$\n",
    "we want to compute $p(\\theta|x)$, the distribution of the parameter values\n",
    "assuming we are given a measurement.\n",
    "\n",
    "So\n",
    "$$p(\\theta|x) = \\frac{p(x|\\theta) p(\\theta)}{p(x)}$$\n",
    "\n",
    "Here,\n",
    "$$p(x) = \\int p(x|\\theta) p(\\theta) dx$$\n",
    "\n",
    "Let's look at this in the case of estimating the probability parameter \n",
    "of a binomial distribution.\n",
    "\n",
    "For a given $q$, we have $p(k) = {n \\choose k} \\theta^k (1-\\theta)^{n-k}$\n",
    "(the parameter $\\theta$ is just the probabilit; I'm avoiding writing $p$ because we have too many $p$'s already)\n",
    "since, initially, we know nothing about $\\theta$, let's assume a uniform prior\n",
    "\n",
    "$p(\\theta) = 1$ \n",
    "\n",
    "this is conveniently normalized, since $\\theta\\in[0,1]$\n",
    "\n",
    "So, what do we get?\n",
    "\n",
    "Well, our measurement is $x=k$, so let's replace that:\n",
    "\n",
    "$$p(\\theta|k) = \\frac{p(k|\\theta) p(\\theta)}{p(k)}$$\n",
    "$$ = \\frac{{n\\choose k} \\theta^k (1-\\theta)^{n-k}}{\\int {n\\choose k} \\theta^k (1-\\theta)^{n-k}}$$\n",
    "$$ = \\frac{ \\theta^k (1-\\theta)^{n-k}}{\\int \\theta^k (1-\\theta)^{n-k}}$$\n",
    "\n",
    "The denominator is called a beta function. It serves as a normalizing factor.\n",
    "\n",
    "We can write\n",
    "$$ p(\\theta|k) = \\frac{ \\theta^k (1-\\theta)^{n-k}}{B(k,n-k)}$$\n",
    "\n",
    "This is the density function for the beta distribution\n",
    "\n",
    "Note that the beta FUNCTION and the beta DISTRIBUTION are different things\n",
    "we will be writing $B(.)$ for the beta function and $\\beta(.)$ for the beta distribution\n",
    "the beta function is the normalizing factor for the beta distribution.\n",
    "\n",
    "The formula for the beta distribution looks like the binomial distribution, with some\n",
    "of the parameters taking on different meanings."
   ]
  },
  {
   "cell_type": "markdown",
   "id": "3a1644f7",
   "metadata": {},
   "source": [
    "Incremental Updates and Conjugate Priors\n",
    "========================================\n",
    "\n",
    "Above, we looked at $p(\\theta|D)$ for a single data set $D$ (observation of $k,n$ in this case)\n",
    "\n",
    "What if we make a second observation $k_2,n_2$?\n",
    "\n",
    "You can observe that having $n_1$ Bernoulli trials with $k_1$, giving\n",
    "parameter estimate $\\theta_1$, followed by $n_2$ Bernoulli trials with $k_2$ successes, \n",
    "giving parameter estimate $\\theta_2$ is the same as if we had just performed a single\n",
    "experiment with $n_1+n_2$ trials and $k_1+k_2$ successes\n",
    "\n",
    "That means that the parameter distribution after the first update should give\n",
    "$p(\\theta|k_1,n_1) = \\beta(\\theta;k_1,n_1)$\n",
    "\n",
    "And after the second update\n",
    "$p(\\theta|k_1,n_1;k_2,n_2) = p(\\theta|k_1+k_2,n_1+n_2) = \\beta(\\theta;k_1+k_2,(n_1+n_2)-(k_1+k_2))$\n",
    "\n",
    "How does this look when we update the parameters directly?\n",
    "\n",
    "We have again\n",
    "$$p(\\theta|x) = \\frac{p(x|\\theta) p(\\theta)}{p(x)}$$\n",
    "\n",
    "Here,\n",
    "$$p(x) = \\int p(x|\\theta) p(\\theta) dx$$\n",
    "\n",
    "and our prior is not uniform anymore, but the Beta distribution that we obtained\n",
    "from the first experiment\n",
    "$p(\\theta) = \\beta(\\theta;k_1,n_1-k_1)$\n",
    "\n",
    "So, writing $b$ for the binomial probability,\n",
    "\n",
    "$$p(k_2,n_2) = \\frac{b(k_2;n_2,\\theta) \\beta(\\theta;k_1,n_1)}{\\int b(k_2;n_2,\\theta) \\beta(\\theta;k_1,n_1) d\\theta}$$\n",
    "\n",
    "Now, recall that the binomial probabilities are\n",
    "$$b(k;n,\\theta) = {n \\choose k} \\theta^k (1-p)^{n-k}$$\n",
    "\n",
    "And the Beta distribution is\n",
    "$$\\beta(\\theta;a,b) = \\frac{1}{B(a,b)} \\theta^{a-1} (1-\\theta)^{b-1}$$\n",
    "\n",
    "So, let $k=a-1$ and $n-k=b-1$, or $a = k+1$ and $b=n-k+1$:\n",
    "$$b(k;n\\theta) = \\beta(\\theta;k+1,n-k+1) B(k+1,n-k+1)$$\n",
    "\n",
    "We can plug that back in:\n",
    "$$p(k_2,n_2) = \\frac{\\beta(\\theta;k_2+1,n_2-k_2+1) \\beta(\\theta;k_1,n_1)} {\\int \\beta(\\theta;k_2+1,n_2-k_2+1) \\beta(\\theta;k_1,n_1) d\\theta}$$\n",
    "\n",
    "What about the products of beta distributions?\n",
    "$$\\beta(\\theta;a,b)\\beta(\\theta;a',b') = \\frac{1}{B(a,b)B(a',b')} \\theta^{a+a'-2} (1-\\theta)^{b+b'-2} = \\frac{B(a+a',b+b')}{B(a,b)B(a',b')} \\beta(a+a'-1,b+b'-1)$$\n",
    "\n",
    "So\n",
    "$$p(k_2,n_2) = \\frac{C\\cdot\\beta(\\theta;k_1+k_2,(n_1+n_2)-(k_1+k_2))} {\\int C\\cdot\\beta(\\theta;k_1+k_2,(n_1+n_2)-(k_1+k_2)) d\\theta}$$\n",
    "\n",
    "Pull out the $C$ from the integral and cancel it and we're left with an integral \n",
    "over a $\\beta$ distribution,\n",
    "which is 1, so\n",
    "$$p(k_2,n_2) = \\beta(\\theta;k_1+k_2,(n_1+n_2)-(k_1+k_2))$$\n",
    "\n",
    "So, what we have in this case is that starting with a uniform density as a prior,\n",
    "every time we take another binomial sample, we get another beta distribution as the\n",
    "density for the parameter we are trying to estimate.\n",
    "\n",
    "We say that the beta distribution is a _conjugate prior_ for the binomial distribution,\n",
    "and we refer to the density as a _reproducing density_"
   ]
  },
  {
   "cell_type": "markdown",
   "id": "f943ce41",
   "metadata": {},
   "source": [
    "Updates to the Normal Density\n",
    "===============================\n",
    "\n",
    "Let's repeat this exercise for the normal density\n",
    "the parameter we are trying to estimate is $\\mu$\n",
    "assume our prior is itself normal \n",
    "\n",
    "$p(\\mu) = N(\\mu;\\mu_0,\\sigma_0)$\n",
    "\n",
    "Furthemore, we assume that\n",
    "\n",
    "$p(x) = N(x;\\mu,\\sigma)$\n",
    "\n",
    "Where $\\mu$ is unknown, but $\\sigma$ is known and given\n",
    "\n",
    "Now, given a dataset $D = \\{x_1,...,x_n\\}$,\n",
    "$$p(\\mu|D) = \\frac{p(D|\\mu)p(\\mu)}{\\int p(D|\\mu)p(\\mu)d\\mu} = C \\prod_i^n N(x_i;\\mu,\\sigma) N(\\mu;\\mu_0,\\sigma_0)$$\n",
    "\n",
    "Dropping the constant factors, we get\n",
    "$$p(\\mu|D) \\propto\\prod_i^n \\exp(\\frac{-1}{2\\sigma^2}(x_i-\\mu)^2) \\exp(\\frac{-1}{2\\sigma_0^2}(\\mu-\\mu_0)^2)$$\n",
    "$$= \\prod_i^n \\exp(\\frac{-1}{2\\sigma^2}(x_i-\\mu)^2 + \\frac{-1}{2\\sigma_0^2}(\\mu-\\mu_0)^2)$$\n",
    "$$= \\exp(\\sum_i (\\frac{-1}{2\\sigma^2}(x_i-\\mu)^2 + \\frac{-1}{2\\sigma_0^2}(\\mu-\\mu_0)^2))$$\n",
    "\n",
    "You can work out that this is equal to a quadratic function for some parameters $a,b,c$:\n",
    "$$= \\exp(\\sum_i a\\mu^2 + b\\mu + c)$$\n",
    "\n",
    "Furthermore, we know that the output must be a density, so the quadratic must be $\\geq 0$\n",
    "what all of that means is that, for some $\\mu_1,\\sigma_1$,\n",
    "$p(\\mu|D) = N(\\mu;\\mu_1,\\sigma_1)$\n",
    "\n",
    "We can compute  $\\mu_1,\\sigma_1$, and eventually get\n",
    "$$\\mu_1 = \\frac{n\\sigma_0^2}{n\\sigma_0^2+\\sigma^2}\\hat{\\mu}_1 + \\frac{\\sigma^2}{n\\sigma_0^2+\\sigma^2}\\mu_0$$\n",
    "$$\\sigma_1^2 = \\frac{\\sigma_0^2\\sigma^2}{n\\sigma_0^2+\\sigma^2}$$"
   ]
  },
  {
   "cell_type": "markdown",
   "id": "bacf3838",
   "metadata": {},
   "source": [
    "Incremental Updates in General\n",
    "===============================\n",
    "\n",
    "Recall\n",
    "$$p(x|D) = \\int p(x|\\theta) p(\\theta|D) d\\theta$$\n",
    "\n",
    "Recall now by Bayes formula,\n",
    "$$p(\\theta|D) = \\frac{p(D|\\theta)p(\\theta)}{p(D)}$$\n",
    "\n",
    "where $p(D) = \\int p(D|\\theta)p(\\theta)d\\theta$\n",
    "and by independence\n",
    "$$p(D|\\theta) = \\prod_{k=1}^n p(x_k|\\theta)$$\n",
    "\n",
    "Now write $D^n$ for the first $n$ samples\n",
    "\n",
    "Then, trivially\n",
    "$$p(D^n|\\theta) = p(x_n|\\theta) p(D^{n-1}|\\theta)$$\n",
    "\n",
    "Substituting that above, we get\n",
    "$$p(\\theta|D^n) = \\frac{p(x_n|\\theta) p(D^{n-1}|\\theta) p(\\theta)}{p(D^n)}$$\n",
    "where $p(D) = \\int {p(x_n|\\theta) p(D^{n-1}|\\theta) p(\\theta)}d\\theta$\n",
    "\n",
    "Applying Bayes formula and canceling the $p(D^{n-1})$ factor, we get\n",
    "\n",
    "$$p(\\theta|D^n) = \\frac{p(x_n|\\theta) p(\\theta|D^{n-1})} {\\int p(x_n|\\theta) p(\\theta|D^{n-1}|\\theta)d\\theta}$$\n",
    "\n",
    "This formula tells us how to update our density for the parameter $\\theta$ when a new sample $x_n$ arrives\n",
    "\n",
    "Note that, up to normaliation:\n",
    "\n",
    "$$p(\\theta|D^n) \\propto p(x_n|\\theta) p(\\theta|D^{n-1})$$"
   ]
  },
  {
   "cell_type": "markdown",
   "id": "3f919b93",
   "metadata": {},
   "source": [
    "Incremental Update Example\n",
    "===========================\n",
    "\n",
    "Assume we know that $x \\sim {\\cal N}(\\mu)$, where $p(\\mu) = {\\cal N}(1,1)$."
   ]
  },
  {
   "cell_type": "code",
   "execution_count": 184,
   "id": "6006f572",
   "metadata": {
    "collapsed": false
   },
   "outputs": [
    {
     "data": {
      "text/plain": [
       "0.99899944201334256"
      ]
     },
     "execution_count": 184,
     "metadata": {},
     "output_type": "execute_result"
    },
    {
     "data": {
      "image/png": "[encoded data removed]"
     },
     "metadata": {},
     "output_type": "display_data"
    }
   ],
   "source": [
    "xs = linspace(-4,6,1000)\n",
    "C = (amax(xs)-amin(xs))/xs.size\n",
    "pmu0 = norm.pdf(xs,loc=1)\n",
    "plot(xs,pmu0)\n",
    "C*sum(pmu0)"
   ]
  },
  {
   "cell_type": "markdown",
   "id": "e3398333",
   "metadata": {},
   "source": [
    "Now we obtain a training sample $x=2$ and update our estimate."
   ]
  },
  {
   "cell_type": "code",
   "execution_count": 198,
   "id": "11d1444e",
   "metadata": {
    "collapsed": false
   },
   "outputs": [
    {
     "data": {
      "text/plain": [
       "[<matplotlib.lines.Line2D at 0x14e27990>]"
      ]
     },
     "execution_count": 198,
     "metadata": {},
     "output_type": "execute_result"
    },
    {
     "data": {
      "image/png": "[encoded data removed]"
     },
     "metadata": {},
     "output_type": "display_data"
    }
   ],
   "source": [
    "pmu1 = norm.pdf(xs,loc=2.0)*pmu0\n",
    "pmu1 /= C*sum(pmu1)\n",
    "plot(xs,pmu1)"
   ]
  },
  {
   "cell_type": "markdown",
   "id": "1708c6f7",
   "metadata": {},
   "source": [
    "We can also compute the map estimate $\\hat{\\mu}$ for the parameter."
   ]
  },
  {
   "cell_type": "code",
   "execution_count": 199,
   "id": "5a3af00c",
   "metadata": {
    "collapsed": false
   },
   "outputs": [
    {
     "name": "stdout",
     "output_type": "stream",
     "text": [
      "1.4954954955"
     ]
    }
   ],
   "source": [
    "mumap = xs[argmax(pmu1)]\n",
    "print mumap"
   ]
  },
  {
   "cell_type": "markdown",
   "id": "6c258c0e",
   "metadata": {},
   "source": [
    "Let's now compute $p(x|D)$ and compare it with $p(x|\\hat{\\mu})$."
   ]
  },
  {
   "cell_type": "code",
   "execution_count": 196,
   "id": "cae2034e",
   "metadata": {
    "collapsed": false
   },
   "outputs": [
    {
     "data": {
      "text/plain": [
       "[<matplotlib.lines.Line2D at 0x149c7d10>]"
      ]
     },
     "execution_count": 196,
     "metadata": {},
     "output_type": "execute_result"
    },
    {
     "data": {
      "image/png": "[encoded data removed]"
     },
     "metadata": {},
     "output_type": "display_data"
    }
   ],
   "source": [
    "result = zeros(xs.shape)\n",
    "for i,mu in enumerate(xs):\n",
    "    weight = pmu1[i]\n",
    "    result += weight * norm.pdf(xs,loc=mu)\n",
    "result /= C*sum(result)\n",
    "plot(xs,result)\n",
    "plot(xs,norm.pdf(xs,loc=muml))"
   ]
  },
  {
   "cell_type": "markdown",
   "id": "e451185e",
   "metadata": {},
   "source": [
    "Finally, let's compute posteriors using the MAP and Bayesian estimates."
   ]
  },
  {
   "cell_type": "code",
   "execution_count": 200,
   "id": "ca75d195",
   "metadata": {
    "collapsed": false
   },
   "outputs": [
    {
     "data": {
      "text/plain": [
       "[<matplotlib.lines.Line2D at 0x14bfe4d0>]"
      ]
     },
     "execution_count": 200,
     "metadata": {},
     "output_type": "execute_result"
    },
    {
     "data": {
      "image/png": "[encoded data removed]"
     },
     "metadata": {},
     "output_type": "display_data"
    }
   ],
   "source": [
    "p1 = norm.pdf(xs,loc=0)\n",
    "p2map = norm.pdf(xs,loc=mumap)\n",
    "p2b = result\n",
    "plot(xs,p2map/(p1+p2map))\n",
    "plot(xs,p2b/(p1+p2b))"
   ]
  },
  {
   "cell_type": "markdown",
   "id": "e2f93617",
   "metadata": {},
   "source": [
    "As you can see, the MAP-based estimate underestimates the error rate for smaller values of $x$.\n",
    "\n",
    "In addition, it results in different decision boundaries."
   ]
  },
  {
   "cell_type": "code",
   "execution_count": 203,
   "id": "b849a6b6",
   "metadata": {
    "collapsed": false
   },
   "outputs": [
    {
     "name": "stdout",
     "output_type": "stream",
     "text": [
      "0.754754754755 0.844844844845"
     ]
    }
   ],
   "source": [
    "dbmap = xs[find(p2map/(p1+p2map)>0.5)[0]]\n",
    "dbb = xs[find(p2b/(p1+p2b)>0.5)[0]]\n",
    "print dbmap,dbb"
   ]
  },
  {
   "cell_type": "markdown",
   "id": "5070549b",
   "metadata": {},
   "source": [
    "Bayesian vs Maximum Likelihood Example\n",
    "==============================\n",
    "\n",
    "Let's apply this to another, simple example and compare maximum likelihood and bayesian approaches\n",
    "~\n",
    "Assume that the samples $x$ come from a uniform density over the interval $[0,\\theta]$\n",
    "\n",
    "$$p(x|\\theta) = U(x;0,\\theta) = 1/\\theta \\cdot \\lfloor x\\in[0,\\theta]\\rfloor$$\n",
    "\n",
    "We also assume a prior\n",
    "\n",
    "$$p(\\theta) = U(\\theta;0,10)$$\n",
    "\n",
    "That is, $\\theta$ is distributed uniformly over the interval $[0,10]$\n",
    "\n",
    "Let's assume we see a sequence of training examples $D = \\\\{4,7,2\\\\}$"
   ]
  },
  {
   "cell_type": "code",
   "execution_count": 225,
   "id": "55bc5eb9",
   "metadata": {
    "collapsed": false
   },
   "outputs": [
    {
     "data": {
      "text/plain": [
       "[<matplotlib.lines.Line2D at 0x178d9490>]"
      ]
     },
     "execution_count": 225,
     "metadata": {},
     "output_type": "execute_result"
    },
    {
     "data": {
      "image/png": "[encoded data removed]"
     },
     "metadata": {},
     "output_type": "display_data"
    }
   ],
   "source": [
    "xs = linspace(-1,11,1000)\n",
    "mus = xs\n",
    "C = (amax(xs)-amin(xs))/len(xs)\n",
    "def pxt(x,mu): return (xs>=0)*(x<=mu)*1.0/maximum(mu,1e-6)\n",
    "plot(xs,pxt(xs,5.5))\n",
    "pmu = (xs>=0)*(xs<=10)*0.1\n",
    "plot(xs,pt)"
   ]
  },
  {
   "cell_type": "markdown",
   "id": "981d2813",
   "metadata": {},
   "source": [
    "Now assume we draw the sample $x_1=4$.  How should we update our estimate?\n",
    "\n",
    "$$p(\\mu|x) = \\frac{p(x|\\mu) p(\\mu)}{p(x)}$$"
   ]
  },
  {
   "cell_type": "code",
   "execution_count": 228,
   "id": "0e0420d3",
   "metadata": {
    "collapsed": false
   },
   "outputs": [
    {
     "data": {
      "text/plain": [
       "[<matplotlib.lines.Line2D at 0x18290f90>]"
      ]
     },
     "execution_count": 228,
     "metadata": {},
     "output_type": "execute_result"
    },
    {
     "data": {
      "image/png": "[encoded data removed]"
     },
     "metadata": {},
     "output_type": "display_data"
    }
   ],
   "source": [
    "pmu1 = pxt(4,mus)*pmu\n",
    "pmu1 /= C*sum(pmu1)\n",
    "plot(xs,pmu1)"
   ]
  },
  {
   "cell_type": "markdown",
   "id": "e920e136",
   "metadata": {},
   "source": [
    "The maximum likelihood estimate is clearly at $\\mu=4$.  If we now plug this\n",
    "into $p(x|\\mu)$ we get..."
   ]
  },
  {
   "cell_type": "code",
   "execution_count": 229,
   "id": "bf108932",
   "metadata": {
    "collapsed": false
   },
   "outputs": [
    {
     "data": {
      "text/plain": [
       "[<matplotlib.lines.Line2D at 0x1829cd10>]"
      ]
     },
     "execution_count": 229,
     "metadata": {},
     "output_type": "execute_result"
    },
    {
     "data": {
      "image/png": "[encoded data removed]"
     },
     "metadata": {},
     "output_type": "display_data"
    }
   ],
   "source": [
    "ylim(0,1)\n",
    "plot(xs,pxt(xs,4))"
   ]
  },
  {
   "cell_type": "markdown",
   "id": "b1009039",
   "metadata": {},
   "source": [
    "This is odd because it predicts that only values between 0 and 4 can occur.\n",
    "But the training sample $x_1=4$ only excludes that $\\mu\\lt4$; it doesn't \n",
    "exclude any values greater than $4$.\n",
    "\n",
    "What's the Bayesian estimate?\n",
    "\n",
    "$$p(x|D) = \\int p(x|\\theta) p(\\theta|D) d\\theta \\propto \\int_0^{10} 1/\\theta \\cdot \\lfloor x\\in[0,\\theta]\\rfloor \\cdot 1/\\theta \\cdot \\lfloor \\theta\\in[4,10]\\rfloor d\\theta\n",
    "= \\int_{x_1}^{10} 1/\\theta^2 \\cdot \\lfloor x\\in[0,\\theta]\\rfloor d\\theta$$\n",
    "\n",
    "You can either think about it, or we can simply perform this integral numerically."
   ]
  },
  {
   "cell_type": "code",
   "execution_count": 230,
   "id": "fbe97e58",
   "metadata": {
    "collapsed": false
   },
   "outputs": [
    {
     "data": {
      "text/plain": [
       "[<matplotlib.lines.Line2D at 0x183d6c10>]"
      ]
     },
     "execution_count": 230,
     "metadata": {},
     "output_type": "execute_result"
    },
    {
     "data": {
      "image/png": "[encoded data removed]"
     },
     "metadata": {},
     "output_type": "display_data"
    }
   ],
   "source": [
    "result = zeros(xs.shape)\n",
    "for i,mu in enumerate(mus):\n",
    "    weight = pmu1[i]\n",
    "    result += weight * pxt(xs,mu)\n",
    "result /= C*sum(result)\n",
    "plot(xs,result)\n",
    "plot(xs,pxt(xs,4))"
   ]
  },
  {
   "cell_type": "markdown",
   "id": "de5da9aa",
   "metadata": {},
   "source": [
    "Now assume we get another sample, $x_1=7$"
   ]
  },
  {
   "cell_type": "code",
   "execution_count": 236,
   "id": "4440091d",
   "metadata": {
    "collapsed": false
   },
   "outputs": [
    {
     "data": {
      "text/plain": [
       "[<matplotlib.lines.Line2D at 0x19319d50>]"
      ]
     },
     "execution_count": 236,
     "metadata": {},
     "output_type": "execute_result"
    },
    {
     "data": {
      "image/png": "[encoded data removed]"
     },
     "metadata": {},
     "output_type": "display_data"
    }
   ],
   "source": [
    "pmu2 = pxt(7,mus)*pmu1\n",
    "pmu2 /= C*sum(pmu2)\n",
    "plot(xs,pmu2)"
   ]
  },
  {
   "cell_type": "code",
   "execution_count": 237,
   "id": "ae8453e2",
   "metadata": {
    "collapsed": false
   },
   "outputs": [
    {
     "data": {
      "text/plain": [
       "[<matplotlib.lines.Line2D at 0x194731d0>]"
      ]
     },
     "execution_count": 237,
     "metadata": {},
     "output_type": "execute_result"
    },
    {
     "data": {
      "image/png": "[encoded data removed]"
     },
     "metadata": {},
     "output_type": "display_data"
    }
   ],
   "source": [
    "result = zeros(xs.shape)\n",
    "for i,mu in enumerate(mus):\n",
    "    weight = pmu2[i]\n",
    "    result += weight * pxt(xs,mu)\n",
    "result /= C*sum(result)\n",
    "plot(xs,result)\n",
    "plot(xs,pxt(xs,7))\n",
    "plot(xs,pxt(xs,4))"
   ]
  },
  {
   "cell_type": "markdown",
   "id": "05143ede",
   "metadata": {},
   "source": [
    "This is even weirder.  After seeing the first sample, the maximum likelihood\n",
    "estimator predicts only values between 0 and 4 occurring, but after seeing\n",
    "another training sample, it is changing its mind and now predicts that values\n",
    "between 0 and 7 can occur.\n",
    "\n",
    "The Bayesian estimator, in contrast, \"knows\" that the parameter must be greater than 7,\n",
    "so it predicts a uniform distribution for the interval [0...7] and then a tradeoff\n",
    "between the parameter distribution and the uniform distribution of the parameters."
   ]
  },
  {
   "cell_type": "markdown",
   "id": "0ee83d6b",
   "metadata": {},
   "source": [
    "The last sample illustrates this further.\n",
    "\n",
    "A sample of $x_3=2$ doesn't cause any update to the maximum likelihood estimator,\n",
    "but it does cause an update to posterior distribution."
   ]
  },
  {
   "cell_type": "code",
   "execution_count": 238,
   "id": "6847cbc8",
   "metadata": {
    "collapsed": false
   },
   "outputs": [
    {
     "data": {
      "text/plain": [
       "[<matplotlib.lines.Line2D at 0x19300650>]"
      ]
     },
     "execution_count": 238,
     "metadata": {},
     "output_type": "execute_result"
    },
    {
     "data": {
      "image/png": "[encoded data removed]"
     },
     "metadata": {},
     "output_type": "display_data"
    }
   ],
   "source": [
    "pmu3 = pxt(2,mus)*pmu2\n",
    "pmu3 /= C*sum(pmu3)\n",
    "plot(xs,pmu3)\n",
    "plot(xs,pmu2)"
   ]
  },
  {
   "cell_type": "code",
   "execution_count": 239,
   "id": "69d8c79a",
   "metadata": {
    "collapsed": false
   },
   "outputs": [
    {
     "data": {
      "text/plain": [
       "[<matplotlib.lines.Line2D at 0x194884d0>]"
      ]
     },
     "execution_count": 239,
     "metadata": {},
     "output_type": "execute_result"
    },
    {
     "data": {
      "image/png": "[encoded data removed]"
     },
     "metadata": {},
     "output_type": "display_data"
    }
   ],
   "source": [
    "result = zeros(xs.shape)\n",
    "total = 0\n",
    "for i,mu in enumerate(mus):\n",
    "    weight = pmu3[i]\n",
    "    result += weight * pxt(xs,mu)\n",
    "    total += weight\n",
    "result /= total\n",
    "plot(xs,result)\n",
    "plot(xs,pxt(xs,7))"
   ]
  },
  {
   "cell_type": "markdown",
   "id": "e6d04f94",
   "metadata": {},
   "source": [
    "In fact, if we repeat the same process with a lot of samples (in this case\n",
    "the true parameter is 7), we see that the Bayesian parameter estimate\n",
    "becomes an increasingly peaked distribution close to the true value.\n",
    "\n",
    "I.e., if, out of 100 samples, we haven't seen a value greater than 7,\n",
    "then the probability that the mean is significantly greater than 7 must\n",
    "be very small."
   ]
  },
  {
   "cell_type": "code",
   "execution_count": 240,
   "id": "c384513c",
   "metadata": {
    "collapsed": false
   },
   "outputs": [
    {
     "data": {
      "text/plain": [
       "[<matplotlib.lines.Line2D at 0x19c3f0d0>]"
      ]
     },
     "execution_count": 240,
     "metadata": {},
     "output_type": "execute_result"
    },
    {
     "data": {
      "image/png": "[encoded data removed]"
     },
     "metadata": {},
     "output_type": "display_data"
    }
   ],
   "source": [
    "p = pmu.copy()\n",
    "for i in range(100):\n",
    "    p = pxt(rand()*7,mus)*p\n",
    "    p /= C*sum(p)\n",
    "plot(mus,p)"
   ]
  },
  {
   "cell_type": "markdown",
   "id": "31b80947",
   "metadata": {},
   "source": [
    "Loss Functions for Parameter Estimation\n",
    "========================================\n",
    "\n",
    "Consider $p(\\theta|x)$ from the previous example again."
   ]
  },
  {
   "cell_type": "code",
   "execution_count": 241,
   "id": "b7e4afa1",
   "metadata": {
    "collapsed": false
   },
   "outputs": [
    {
     "data": {
      "text/plain": [
       "[<matplotlib.lines.Line2D at 0x19e5a7d0>]"
      ]
     },
     "execution_count": 241,
     "metadata": {},
     "output_type": "execute_result"
    },
    {
     "data": {
      "image/png": "[encoded data removed]"
     },
     "metadata": {},
     "output_type": "display_data"
    }
   ],
   "source": [
    "plot(mus,pmu2)"
   ]
  },
  {
   "cell_type": "markdown",
   "id": "2735a41d",
   "metadata": {},
   "source": [
    "Assume now that we are supposed to return a \"best estimate\" of the parameter.\n",
    "\n",
    "By itself, that isn't sufficient.\n",
    "\n",
    "But now assume that we are given a loss function: if our estimate is with in $\\pm 0.5$ of the true value,\n",
    "we don't need to pay a penalty, otherwise, we need to pay a penalty of 1.  What value should we return?\n",
    "\n",
    "The most likely value is 7, but no values less than 7 can occur.\n",
    "\n",
    "Therefore, it is better to return 7.5.  That way, not only do we have the most likely value, but we also\n",
    "get all the probability mass between 7 and 8 as well and our expected loss is about half of what it would be\n",
    "if we had returned 7.\n",
    "\n",
    "Now assume we are penalized if we are outside the range $\\pm 1$ from the true value.\n",
    "By the same reasoning, our parameter estimate should now be 8.\n",
    "\n",
    "As you can see from this simple example, there is not \"best\" answer to the parameter estimation\n",
    "problem; our answer depends on the loss function.\n",
    "\n",
    "But we can see that for any symmetric loss function, the value 7 (the maximum likelihood estimate)\n",
    "is never the optimal answer."
   ]
  },
  {
   "cell_type": "code",
   "execution_count": null,
   "id": "a2b5a957",
   "metadata": {
    "collapsed": true
   },
   "outputs": [],
   "source": []
  }
 ],
 "metadata": {},
 "nbformat": 4,
 "nbformat_minor": 5
}
