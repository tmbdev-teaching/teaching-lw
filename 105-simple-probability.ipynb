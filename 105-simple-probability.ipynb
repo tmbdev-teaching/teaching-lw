{
 "cells": [
  {
   "cell_type": "markdown",
   "id": "8017a9de",
   "metadata": {},
   "source": [
    "Title: Sampling from Probability Distributions\n",
    "Author: Thomas Breuel\n",
    "Institution: UniKL"
   ]
  },
  {
   "cell_type": "code",
   "execution_count": 1,
   "id": "9941f709",
   "metadata": {
    "collapsed": false
   },
   "outputs": [],
   "source": [
    "\n",
    "from pylab import *"
   ]
  },
  {
   "cell_type": "markdown",
   "id": "868253f1",
   "metadata": {},
   "source": [
    "# Sampling from Distributions"
   ]
  },
  {
   "cell_type": "markdown",
   "id": "11909aaf",
   "metadata": {},
   "source": [
    "We can easily sample for distributions in Python.\n",
    "The basic distributions are `randn` (normal density) and `rand` (uniform density)."
   ]
  },
  {
   "cell_type": "code",
   "execution_count": 4,
   "id": "5de74510",
   "metadata": {
    "collapsed": false
   },
   "outputs": [
    {
     "data": {
      "image/png": "[encoded data removed]"
     },
     "metadata": {},
     "output_type": "display_data"
    }
   ],
   "source": [
    "data = randn(10000)\n",
    "_=hist(data,bins=100)"
   ]
  },
  {
   "cell_type": "markdown",
   "id": "dd4c6194",
   "metadata": {},
   "source": [
    "# Binomial Distributions"
   ]
  },
  {
   "cell_type": "markdown",
   "id": "9b5a6924",
   "metadata": {},
   "source": [
    "If we want a binomial variable with $p=0.1$, we can sample as follows:\n",
    "\n"
   ]
  },
  {
   "cell_type": "code",
   "execution_count": 69,
   "id": "220e4092",
   "metadata": {
    "collapsed": false
   },
   "outputs": [
    {
     "data": {
      "text/plain": [
       "109"
      ]
     },
     "execution_count": 69,
     "metadata": {},
     "output_type": "execute_result"
    }
   ],
   "source": [
    "n = 1000\n",
    "p = 0.1\n",
    "sum(rand(n)<p)"
   ]
  },
  {
   "cell_type": "code",
   "execution_count": 70,
   "id": "ade40810",
   "metadata": {
    "collapsed": false
   },
   "outputs": [
    {
     "data": {
      "image/png": "[encoded data removed]"
     },
     "metadata": {},
     "output_type": "display_data"
    }
   ],
   "source": [
    "p = 0.5\n",
    "dist = array([sum(rand(n)<p) for i in range(10000)])\n",
    "_=hist(dist,bins=20)"
   ]
  },
  {
   "cell_type": "code",
   "execution_count": 68,
   "id": "9361292a",
   "metadata": {
    "collapsed": false
   },
   "outputs": [
    {
     "name": "stdout",
     "output_type": "stream",
     "text": [
      "500.114 246.746804\n"
     ]
    }
   ],
   "source": [
    "print mean(dist),var(dist)"
   ]
  },
  {
   "cell_type": "markdown",
   "id": "cb028baf",
   "metadata": {},
   "source": [
    "Theoretical values are:\n",
    "\n",
    "$$ \\bar{x} = n ~ p $$\n",
    "$$ v = n ~ p ~(1-p) $$"
   ]
  },
  {
   "cell_type": "code",
   "execution_count": 71,
   "id": "3c5bfe30",
   "metadata": {
    "collapsed": false
   },
   "outputs": [
    {
     "name": "stdout",
     "output_type": "stream",
     "text": [
      "500.0\n",
      "250.0\n"
     ]
    }
   ],
   "source": [
    "print n*p\n",
    "print n*p*(1-p)"
   ]
  },
  {
   "cell_type": "markdown",
   "id": "d30f0050",
   "metadata": {},
   "source": [
    "# Parameter Estimation"
   ]
  },
  {
   "cell_type": "markdown",
   "id": "15ed66b6",
   "metadata": {},
   "source": [
    "We often estimate parameters from measurements. Let's do this for a normal density.\n",
    "\n"
   ]
  },
  {
   "cell_type": "code",
   "execution_count": 86,
   "id": "3e3a0917",
   "metadata": {
    "collapsed": false
   },
   "outputs": [
    {
     "name": "stdout",
     "output_type": "stream",
     "text": [
      "0.0317909909166 0.877621361124\n"
     ]
    }
   ],
   "source": [
    "data = randn(1000)\n",
    "print mean(data),var(data)"
   ]
  },
  {
   "cell_type": "markdown",
   "id": "2d178700",
   "metadata": {},
   "source": [
    "Note that our parameter estimates themselves have a distribution of errors.\n",
    "\n"
   ]
  },
  {
   "cell_type": "code",
   "execution_count": 87,
   "id": "14768192",
   "metadata": {
    "collapsed": false
   },
   "outputs": [
    {
     "data": {
      "image/png": "[encoded data removed]"
     },
     "metadata": {},
     "output_type": "display_data"
    }
   ],
   "source": [
    "means = [mean(randn(1000)) for i in range(1000)]\n",
    "_=hist(means,bins=100)"
   ]
  },
  {
   "cell_type": "markdown",
   "id": "32c26f69",
   "metadata": {},
   "source": [
    "# Extreme Value Distributions"
   ]
  },
  {
   "cell_type": "markdown",
   "id": "a9107d39",
   "metadata": {},
   "source": [
    "Another interesting example is extreme value distributions. They matter a great deal in biology and business, where \"the best\" of a population often \"win\" or are measured. They also matter when people tell you statistics like \"90 percent of population X are women/men, therefore there must be bias\".\n",
    "\n"
   ]
  },
  {
   "cell_type": "code",
   "execution_count": 102,
   "id": "d1bc4b0d",
   "metadata": {
    "collapsed": false
   },
   "outputs": [
    {
     "data": {
      "image/png": "[encoded data removed]"
     },
     "metadata": {},
     "output_type": "display_data"
    }
   ],
   "source": [
    "N = 100000\n",
    "maxs = array([amax(randn(N)) for i in range(1000)])\n",
    "_=hist(maxs,bins=100)"
   ]
  },
  {
   "cell_type": "markdown",
   "id": "49a547ff",
   "metadata": {},
   "source": [
    "This kind of bias (around 20 percent of the standard deviation here) leads to a bias in maxima.\n",
    "\n"
   ]
  },
  {
   "cell_type": "code",
   "execution_count": 103,
   "id": "14f264dd",
   "metadata": {
    "collapsed": false
   },
   "outputs": [
    {
     "data": {
      "text/plain": [
       "0.70599999999999996"
      ]
     },
     "execution_count": 103,
     "metadata": {},
     "output_type": "execute_result"
    },
    {
     "data": {
      "image/png": "[encoded data removed]"
     },
     "metadata": {},
     "output_type": "display_data"
    }
   ],
   "source": [
    "max1s = array([amax(randn(N)+0.2) for i in range(1000)])\n",
    "_=hist(maxs,bins=100,alpha=0.7)\n",
    "_=hist(max1s,bins=100,alpha=0.7)\n",
    "sum(max1s>maxs)*1.0/len(maxs)"
   ]
  },
  {
   "cell_type": "markdown",
   "id": "a55ccc58",
   "metadata": {},
   "source": [
    "Interestingly, you can get much greater extreme value differences without any bias at all, simply by having more variance in one population than in another.\n",
    "\n"
   ]
  },
  {
   "cell_type": "code",
   "execution_count": 104,
   "id": "d4d44a1c",
   "metadata": {
    "collapsed": false
   },
   "outputs": [
    {
     "data": {
      "text/plain": [
       "0.82399999999999995"
      ]
     },
     "execution_count": 104,
     "metadata": {},
     "output_type": "execute_result"
    },
    {
     "data": {
      "image/png": "[encoded data removed]"
     },
     "metadata": {},
     "output_type": "display_data"
    }
   ],
   "source": [
    "maxs = array([amax(randn(10000)) for i in range(1000)])\n",
    "max2s = array([amax(1.1*randn(10000)) for i in range(1000)])\n",
    "_=hist(maxs,bins=100,alpha=0.7)\n",
    "_=hist(max2s,bins=100,alpha=0.7)\n",
    "sum(max2s>maxs)*1.0/len(maxs)"
   ]
  },
  {
   "cell_type": "markdown",
   "id": "7de893f1",
   "metadata": {},
   "source": [
    "# Conditional Distributions"
   ]
  },
  {
   "cell_type": "markdown",
   "id": "641f47be",
   "metadata": {},
   "source": [
    "Let's look at another important example from statistics. Consider a population of size $N = 1000000$:\n",
    "\n"
   ]
  },
  {
   "cell_type": "code",
   "execution_count": 105,
   "id": "072924e0",
   "metadata": {
    "collapsed": false
   },
   "outputs": [],
   "source": [
    "N = 1000000"
   ]
  },
  {
   "cell_type": "markdown",
   "id": "994cab7b",
   "metadata": {},
   "source": [
    "Now assume that about 1:1000 of the population are infected with some disease.\n",
    "\n"
   ]
  },
  {
   "cell_type": "code",
   "execution_count": 106,
   "id": "86e52b79",
   "metadata": {
    "collapsed": false
   },
   "outputs": [
    {
     "data": {
      "text/plain": [
       "1045"
      ]
     },
     "execution_count": 106,
     "metadata": {},
     "output_type": "execute_result"
    }
   ],
   "source": [
    "infected = (rand(N)<1e-3)\n",
    "sum(infected)"
   ]
  },
  {
   "cell_type": "markdown",
   "id": "a2d3b004",
   "metadata": {},
   "source": [
    "Also, assume we have a test that is 99 percent accurate. We give the test to the entire population and measure the results.\n",
    "\n"
   ]
  },
  {
   "cell_type": "code",
   "execution_count": 107,
   "id": "79816e05",
   "metadata": {
    "collapsed": false
   },
   "outputs": [
    {
     "data": {
      "text/plain": [
       "11120"
      ]
     },
     "execution_count": 107,
     "metadata": {},
     "output_type": "execute_result"
    }
   ],
   "source": [
    "testresult = where(rand(N)<1e-2,1-infected,infected)\n",
    "sum(testresult)"
   ]
  },
  {
   "cell_type": "markdown",
   "id": "03291ca7",
   "metadata": {},
   "source": [
    "Now, let's look at the population of people whose test result is positive.\n",
    "What fraction of those people are infected?\n",
    "\n"
   ]
  },
  {
   "cell_type": "code",
   "execution_count": 108,
   "id": "371eb20b",
   "metadata": {
    "collapsed": false
   },
   "outputs": [
    {
     "data": {
      "text/plain": [
       "0.092985611510791363"
      ]
     },
     "execution_count": 108,
     "metadata": {},
     "output_type": "execute_result"
    }
   ],
   "source": [
    "sum(infected[testresult==True])*1.0/sum(testresult==True)"
   ]
  },
  {
   "cell_type": "markdown",
   "id": "c201f550",
   "metadata": {},
   "source": [
    "(Implications)\n",
    "\n",
    "That's not good: less than 10 percent of the population that tests positive is actually infected. Ninety percent of those who test positive are _false positives_ even though the test is 99 percent accurate.\n",
    "\n",
    "This is a common issue in medicine, anti-terrorism, and many other problems:\n",
    "\n",
    "- testing everybody for HIV infection\n",
    "- testing everybody for prostate cancer / breast cancer\n",
    "- widespread Internet surveillance for \"terrorism\"\n",
    "\n",
    "All of these end up generating enormous numbers of false positives."
   ]
  },
  {
   "cell_type": "markdown",
   "id": "4b372949",
   "metadata": {},
   "source": [
    "(Bayesian Calculation)\n",
    "\n",
    "Mathematically, we write this in terms of _conditional probabilities_:\n",
    "\n",
    "prior probability: \n",
    "\n",
    "$$P(i)$$\n",
    "\n",
    "probability of test: \n",
    "\n",
    "$$P(t=0|i=0) = 0.99$$\n",
    "$$P(t=1|i=1) = 0.99$$\n",
    "\n",
    "Bayes formula:\n",
    "\n",
    "$$ P(i=1|t=1) = \\frac{P(t=1|i=1) P(i=1)}{P(t=1)} = \\frac{P(t=1|i=1) P(i=1)}{P(t=1|i=0) P(i=0) + P(t=1|i=1) P(i=1) } $$\n",
    "\n",
    "$$ ~~~~~~ = \\frac{0.99 \\cdot 0.001}{ 0.01 \\cdot 0.999 + 0.99 \\cdot 0.001  } \\approx \\frac{0.001}{0.01} = 0.1 $$\n",
    "\n"
   ]
  },
  {
   "cell_type": "markdown",
   "id": "75b760ee",
   "metadata": {},
   "source": [
    "(Derivation of Bayes Formula)\n",
    "\n",
    "Joint density ($c$ and $x$ could be any variables):\n",
    "\n",
    "$$ p(c,x) $$\n",
    "\n",
    "Conditional density:\n",
    "\n",
    "$$ p(c,x) = P(c|x) ~ p(x) $$\n",
    "\n",
    "Bayes formula:\n",
    "\n",
    "$$ P(c|x) ~ p(x) ~ = ~ p(x|c) ~ P(c) $$\n",
    "\n",
    "$$ P(c|x) = \\frac{p(x|c) P(c)}{p(x)} $$"
   ]
  },
  {
   "cell_type": "code",
   "execution_count": null,
   "id": "275dfb26",
   "metadata": {
    "collapsed": false
   },
   "outputs": [],
   "source": []
  }
 ],
 "metadata": {},
 "nbformat": 4,
 "nbformat_minor": 5
}
