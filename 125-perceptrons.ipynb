{
 "cells": [
  {
   "cell_type": "markdown",
   "id": "8c9b35de",
   "metadata": {},
   "source": [
    "Title: Perceptrons\n",
    "Author: Thomas Breuel\n",
    "Institution: UniKL"
   ]
  },
  {
   "cell_type": "code",
   "execution_count": 1,
   "id": "125054ea",
   "metadata": {
    "collapsed": true
   },
   "outputs": [],
   "source": [
    "\n",
    "import scipy,pylab,numpy\n",
    "from numpy import *\n",
    "from scipy import *\n",
    "from pylab import *\n",
    "from urllib import urlopen\n",
    "from gzip import GzipFile\n",
    "from scipy.spatial import distance\n",
    "from scipy.spatial.distance import cdist"
   ]
  },
  {
   "cell_type": "markdown",
   "id": "d3043a99",
   "metadata": {},
   "source": [
    "# Linear Classification Problem"
   ]
  },
  {
   "cell_type": "markdown",
   "id": "15f4a222",
   "metadata": {},
   "source": [
    "Let's start by generating a simple linear classification problem.  That is, a problem in which the optimal decision boundary is known to be linear.  We're also generating a problem in which the samples are perfectly linearly separable.  This is the exception rather than the rule.\n"
   ]
  },
  {
   "cell_type": "code",
   "execution_count": 2,
   "id": "62465467",
   "metadata": {
    "collapsed": false
   },
   "outputs": [
    {
     "data": {
      "text/plain": [
       "53"
      ]
     },
     "execution_count": 2,
     "metadata": {},
     "output_type": "execute_result"
    }
   ],
   "source": [
    "data = random_sample((100,2))\n",
    "labels = (data[:,0]*0.7+data[:,1]*0.4>0.5)\n",
    "sum(labels)"
   ]
  },
  {
   "cell_type": "code",
   "execution_count": 6,
   "id": "bad1ec9e",
   "metadata": {
    "collapsed": false
   },
   "outputs": [
    {
     "name": "stdout",
     "output_type": "stream",
     "text": [
      "47 53\n"
     ]
    },
    {
     "data": {
      "image/png": "[encoded data removed]"
     },
     "metadata": {},
     "output_type": "display_data"
    }
   ],
   "source": [
    "# linear classification problem\n",
    "figsize(5,5)\n",
    "d0 = data[labels==False]\n",
    "d1 = data[labels]\n",
    "plot(d0[:,0],d0[:,1],\"bo\")\n",
    "plot(d1[:,0],d1[:,1],\"ro\")\n",
    "print len(d0),len(d1)"
   ]
  },
  {
   "cell_type": "markdown",
   "id": "7278614f",
   "metadata": {},
   "source": [
    "We can visually read off the equation for the decision boundary.  It should run from (0.15,1.0) to about (0.7,0.0).\n",
    "\n"
   ]
  },
  {
   "cell_type": "code",
   "execution_count": 5,
   "id": "0ccb193d",
   "metadata": {
    "collapsed": false
   },
   "outputs": [
    {
     "name": "stdout",
     "output_type": "stream",
     "text": [
      "47 53\n"
     ]
    },
    {
     "data": {
      "image/png": "[encoded data removed]"
     },
     "metadata": {},
     "output_type": "display_data"
    }
   ],
   "source": [
    "figsize(5,5)\n",
    "d0 = data[labels==False]\n",
    "d1 = data[labels]\n",
    "xlim((0,1)); ylim((0,1))\n",
    "plot(d0[:,0],d0[:,1],\"bo\")\n",
    "plot(d1[:,0],d1[:,1],\"ro\")\n",
    "plot([0.15,0.72],[1.0,0.0],\"g\") # guess\n",
    "print len(d0),len(d1)"
   ]
  },
  {
   "cell_type": "markdown",
   "id": "5e2e649a",
   "metadata": {},
   "source": [
    "Note that these decision boundaries are linear, by construction.  \n",
    "\n",
    "We have seen another problem with linear decision boundaries, namely the decision boundaries in some cases where the class conditional densities are normal and all the covariance matrices are equal.  However, in this case, the class conditional densities aren't normal at all, they are uniform densities over quadrilateral regions.\n",
    "\n",
    "How do we find these decision boundaries automatically?"
   ]
  },
  {
   "cell_type": "markdown",
   "id": "09ec5370",
   "metadata": {},
   "source": [
    "(augmented vectors)\n",
    "\n",
    "To simplify computations, we would like to use homogeneous coordinates.\n",
    "\n",
    "A linear decision boundary is given by a formula of the form:\n",
    "\n",
    "$$a_1 x_1 + ... + a_n x_n = d$$\n",
    "\n",
    "We can write this as\n",
    "\n",
    "$$a \\cdot x = d $$\n",
    "\n",
    "With this, we classify as class 0:\n",
    "\n",
    "$$a \\cdot x \\leq d$$\n",
    "\n",
    "and as class 1:\n",
    "\n",
    "$$a \\cdot x \\gt d$$\n"
   ]
  },
  {
   "cell_type": "markdown",
   "id": "338eff70",
   "metadata": {},
   "source": [
    "(augmented vectors)\n",
    "\n",
    "However, it turns out to be inconvenient to have the $d$ in all our equations; we therefore turn this inhomogeneous problem into a homogeneous one by transforming the vectors.\n",
    "\n",
    "$$ x \\rightarrow (1,x) $$\n",
    "\n",
    "$$ a \\rightarrow (-d,x) $$\n",
    "\n",
    "Now we can write for our decision problem:\n",
    "\n",
    "$$ a \\cdot x \\leq 0$$\n",
    "\n",
    "and\n",
    "\n",
    "$$a \\cdot x \\gt 0$$\n",
    "\n",
    "Therefore, for any inhomogeneous linear decision problem, we can construct an equivalent homogeneous one by simply adding a column of 1's to the data vector"
   ]
  },
  {
   "cell_type": "markdown",
   "id": "6c0a6937",
   "metadata": {},
   "source": [
    "# The Perceptron Learning Algorithm"
   ]
  },
  {
   "cell_type": "markdown",
   "id": "6aa16ce3",
   "metadata": {},
   "source": [
    "(sample correction)\n",
    "\n",
    "We want $a \\cdot x \\gt 1$ for all samples in class 1.  Now, assume that this isn't working for some sample $x$, $a \\cdot x \\leq 0$ even though it should be $\\gt 0$.  How do we fix that?\n",
    "\n",
    "Actuall, the solution is fairly simple:\n",
    "\n",
    "- When $a \\cdot x \\leq 0$ when it should be $\\gt 0$, we add \"a little bit of $x$\" to $a$.  \n",
    "- That is, we update $a \\rightarrow a + \\epsilon x$.  \n",
    "\n",
    "Then, next time, $(a + \\epsilon x) \\cdot x = a \\cdot x + \\epsilon ||x||^2 > a \\cdot x$.\n",
    "\n",
    "- For the other case, we subtract a little bit of $x$."
   ]
  },
  {
   "cell_type": "markdown",
   "id": "e9ce59e1",
   "metadata": {},
   "source": [
    "(flipping class 0 to class 1)\n",
    "\n",
    "Notice that the two cases are symmetrical.\n",
    "\n",
    "Instead of considering two classes, we can simplify the problem further by flipping the sign of $x$ for all the samples in class $0$.  \n",
    "\n",
    "Then, we require for all samples in the transformed problem that $a \\cdot x \\gt 0$.\n",
    "\n",
    "(Remember that we have also augmented the data vector)."
   ]
  },
  {
   "cell_type": "markdown",
   "id": "36da9bd1",
   "metadata": {},
   "source": [
    "(perceptron learning algorithm)\n",
    "\n",
    "So, the perceptron learning algorithm is:\n",
    "\n",
    "- given input samples $\\\\{x_1,...,x_N\\\\} \\subseteq R^n$ and corresponding classifications $\\\\{c_1,...,c_N\\\\} \\subseteq \\\\{0,1\\\\}$\n",
    "- replace all the $x_i$ with augmented vectors $x_i \\rightarrow (1,x_i)$\n",
    "- for every sample for which $c_i=0$, negate the corresponding $x_i$, that is $x_i \\rightarrow -x_i$\n",
    "- pick a random starting vector $a$\n",
    "- repeatedly iterate through the training samples $x_i$\n",
    "  - if $a \\cdot x_i > 0$ then continue\n",
    "  - otherwise update $a$ according to $a \\rightarrow a + \\epsilon x_i$\n",
    "  - stop if there are no more updates\n",
    "\n",
    "Actually, it turns out that we can just use $\\epsilon = 1$."
   ]
  },
  {
   "cell_type": "code",
   "execution_count": 7,
   "id": "6962925d",
   "metadata": {
    "collapsed": true
   },
   "outputs": [],
   "source": [
    "augmented = concatenate([ones((100,1)),data],axis=1)\n",
    "flipped = augmented.copy()\n",
    "flipped[labels==False] = -flipped[labels==False]"
   ]
  },
  {
   "cell_type": "code",
   "execution_count": 8,
   "id": "30f18793",
   "metadata": {
    "collapsed": false
   },
   "outputs": [
    {
     "data": {
      "text/plain": [
       "array([ 0.13934384,  0.75032961,  0.04619536])"
      ]
     },
     "execution_count": 8,
     "metadata": {},
     "output_type": "execute_result"
    }
   ],
   "source": [
    "a = random_sample((3))\n",
    "a"
   ]
  },
  {
   "cell_type": "code",
   "execution_count": 10,
   "id": "c7d9f1ed",
   "metadata": {
    "collapsed": false
   },
   "outputs": [
    {
     "name": "stdout",
     "output_type": "stream",
     "text": [
      "0 0\n"
     ]
    }
   ],
   "source": [
    "for epoch in range(100):\n",
    "    nchanged = 0\n",
    "    for i in range(len(flipped)):\n",
    "        if dot(a,flipped[i])>0: continue\n",
    "        a += flipped[i]\n",
    "        nchanged += 1\n",
    "    print epoch,nchanged\n",
    "    if nchanged==0: break"
   ]
  },
  {
   "cell_type": "code",
   "execution_count": 11,
   "id": "35313c4a",
   "metadata": {
    "collapsed": false
   },
   "outputs": [
    {
     "name": "stdout",
     "output_type": "stream",
     "text": [
      "-4.8606561592 7.22012563323 3.4123797405\n"
     ]
    }
   ],
   "source": [
    "d,a0,a1 = a\n",
    "print d,a0,a1"
   ]
  },
  {
   "cell_type": "markdown",
   "id": "52f2cfbf",
   "metadata": {},
   "source": [
    "The linear equation is now:\n",
    "\n",
    "$$a_0 x + a_1 y + d = 0$$\n",
    "\n",
    "For $x=0$:\n",
    "\n",
    "$$y = -\\frac{d}{a_1}$$\n",
    "\n",
    "For $y=0$:\n",
    "\n",
    "$$x = -\\frac{d}{a_0}$$"
   ]
  },
  {
   "cell_type": "code",
   "execution_count": 12,
   "id": "06e4a623",
   "metadata": {
    "collapsed": false
   },
   "outputs": [
    {
     "name": "stdout",
     "output_type": "stream",
     "text": [
      "47 53\n"
     ]
    },
    {
     "data": {
      "image/png": "[encoded data removed]"
     },
     "metadata": {},
     "output_type": "display_data"
    }
   ],
   "source": [
    "# perceptron result\n",
    "d0 = data[labels==False]\n",
    "d1 = data[labels]\n",
    "xlim((0,1)); ylim((0,1))\n",
    "plot(d0[:,0],d0[:,1],\"bo\")\n",
    "plot(d1[:,0],d1[:,1],\"ro\")\n",
    "plot([0,-d/a0],[-d/a1,0],\"g\")\n",
    "print len(d0),len(d1)"
   ]
  },
  {
   "cell_type": "markdown",
   "id": "18fc1fab",
   "metadata": {},
   "source": [
    "That has worked rather well, but it leaves open a number of questions:\n",
    "\n",
    "- Is the algorithm guaranteed to stop?\n",
    "- How do we deal with more than two classes?\n",
    "- What is the error rate?\n",
    "- How does it relate to the c.c.d. $p(x|c)$?\n",
    "- What happens when the data isn't linearly separable?\n",
    "- It's fairly easy to show that the algorithm converges if the data is linearly separable. "
   ]
  },
  {
   "cell_type": "markdown",
   "id": "e5e9efed",
   "metadata": {},
   "source": [
    "# Discriminative vs Generative Learning Algorithms"
   ]
  },
  {
   "cell_type": "markdown",
   "id": "e8aafc60",
   "metadata": {},
   "source": [
    "We have now seen two fundamentally different kinds of learning algorithms.\n",
    "\n",
    "The Gaussian parametric classifier is a _generative learning algorithm_ because we are trying to estimate the class conditional densities used to generate the samples.\n",
    "\n",
    "Generative learning algorithms attempt to estimate $p(x|c)$.\n",
    "\n",
    "The perceptron learning algorithm is a _discriminative learning algorithm_ because it attempts to optimize parameters in order to achieve the best discrimination of samples in different classes.\n",
    "\n",
    "Discriminative learning algorithms attempt to estimate $P(c|x)$ or discriminant functions $g_c(x)$.\n",
    "\n"
   ]
  },
  {
   "cell_type": "markdown",
   "id": "9e12b255",
   "metadata": {},
   "source": [
    "# The Perceptron Criterion Function"
   ]
  },
  {
   "cell_type": "markdown",
   "id": "e76f0bf1",
   "metadata": {},
   "source": [
    "(criterion functions)\n",
    "\n",
    "In the perceptron learning algorithm, we made a change to the weight vector every time a sample was misclassified.\n",
    "\n",
    "In essence, we have been trying to _minimize the number of misclassified samples_\n",
    "\n",
    "We call the number of misclassified samples $J(w) = \\hbox{\\# misclassified samples}$ a _criterion function_.\n",
    "\n",
    "Discriminative learning algorithms are frequently expressed in terms of optimization of criterion functions."
   ]
  },
  {
   "cell_type": "markdown",
   "id": "ad3b5264",
   "metadata": {},
   "source": [
    "(optimization algorithms)\n",
    "\n",
    "The number of misclassified samples is an inconvenient criterion function because it is piecewise constant (it is a collection of step functions), so its gradient is either zero or infinity.\n",
    "\n",
    "Most numerical optimization algorithms use gradients in some form."
   ]
  },
  {
   "cell_type": "markdown",
   "id": "4c122708",
   "metadata": {},
   "source": [
    "(perceptron criterion function)\n",
    "\n",
    "A better function is to sum up the total amount \n",
    "by which samples on the wrong side of the decision boundary are misclassified.\n",
    "\n",
    "This is zero when the data is separated, but positive if any samples are misclassified.\n",
    "\n",
    "In formulas:\n",
    "\n",
    "$$J_p(w) = \\sum_{i\\in{\\cal E}_w} -w\\cdot x_i$$\n",
    "\n",
    "where\n",
    "\n",
    "$${\\cal E}_w = \\\\{ i | w \\cdot x < 0\\\\}$$"
   ]
  },
  {
   "cell_type": "markdown",
   "id": "5c212cc2",
   "metadata": {},
   "source": [
    "(gradient descent optimization)\n",
    "\n",
    "We can optimize this function by _gradient descent_.\n",
    "That is, we iteratively update the weight vector $w$ by \n",
    "adding a small multiple of the negative of the\n",
    "gradient $\\nabla J_p(w)$ to it.  What is the gradient?\n",
    "\n",
    "$$\\nabla J_p(w) = \\nabla \\sum_{i\\in{\\cal E}_w} -w\\cdot x_i = \\sum_{i\\in{\\cal E}_w} -x_i$$\n",
    "\n",
    "Therefore, our update rule becomes:\n",
    "\n",
    "$$ w \\leftarrow w + \\eta \\sum_{i\\in{\\cal E}_w} x_i$$"
   ]
  },
  {
   "cell_type": "markdown",
   "id": "5ccc3618",
   "metadata": {},
   "source": [
    "(stochastic vs batch gradient descent)\n",
    "\n",
    "This is a _batch update_ rule; that is, we add up all the gradients\n",
    "for each misclassified samples, and only then update the total weight vector.\n",
    "That is inefficient and turns out to be unnecessary in this case anyway.\n",
    "\n",
    "A _stochastic gradient descent_ rule updates after every misclassified sample via\n",
    "\n",
    "$$ w \\leftarrow w + \\eta x_i $$\n",
    "\n",
    "In the case of perceptron learning,\n",
    "this is also called the single sample correction algorithm."
   ]
  },
  {
   "cell_type": "markdown",
   "id": "89a2f6ca",
   "metadata": {},
   "source": [
    "# Optional Notes"
   ]
  },
  {
   "cell_type": "markdown",
   "id": "4a2ad9ce",
   "metadata": {},
   "source": [
    "## Proof of Convergence"
   ]
  },
  {
   "cell_type": "markdown",
   "id": "4a0c9e9d",
   "metadata": {},
   "source": [
    "Let's consider a particularly simple case for the single sample\n",
    "correction perceptron learning algorithm: the case where $\\eta = 1$.  Proving convergence for that case shows that for any separable learning problem, there exists a known sequence of $\\eta$ (namely all 1s) that make perceptron learning converge. \n",
    "\n",
    "We also assume that the training vectors are linearly independent."
   ]
  },
  {
   "cell_type": "markdown",
   "id": "967db1d7",
   "metadata": {},
   "source": [
    "Assume that we're updating the weight vector in a sequence of updates; \n",
    "we number the updates as $\\tau=1,2,...$ (we don't need to worry about \n",
    "the vectors that are classified correctly).\n",
    "Let $\\hat{w}$ be a solution vector.\n",
    "Consider now the distance of $w(\\tau+1)$ from some multiple of the solution vector:\n",
    "\n",
    "$$w(\\tau+1) - \\alpha \\hat{w} = (w(\\tau)-\\alpha \\hat{w}) + x_\\tau$$"
   ]
  },
  {
   "cell_type": "markdown",
   "id": "7f5f060d",
   "metadata": {},
   "source": [
    "Now square both sides:\n",
    "\n",
    "$$||w(\\tau+1) - \\alpha \\hat{w}||^2 = ||(w(\\tau)-\\alpha \\hat{w}) + x_\\tau||^2 = ||w(\\tau)-\\alpha \\hat{w}||^2 - 2(w(\\tau)-\\alpha\\hat{w})\\cdot x_\\tau+||x_\\tau^2||$$\n",
    "\n",
    "$$ = ||w(\\tau)-\\alpha \\hat{w}||^2 - 2 w(\\tau)\\cdot x_\\tau - 2 \\alpha\\hat{w} \\cdot x_\\tau + ||x_\\tau^2||$$\n"
   ]
  },
  {
   "cell_type": "markdown",
   "id": "d604966f",
   "metadata": {},
   "source": [
    "We know that $w(\\tau) \\cdot x_\\tau\\lt0$ because it was misclassified, so\n",
    "\n",
    "$$||w(\\tau+1) - \\alpha \\hat{w}||^2 \\leq ||w(\\tau)-\\alpha \\hat{w}||^2 - 2 \\alpha\\hat{w} \\cdot x_\\tau + ||x_\\tau^2||$$\n",
    "\n",
    "We also know that $\\hat{w}\\cdot x_\\tau>0$ (because $\\hat{w}$) is a solution.\n",
    "So, we can choose some $\\alpha$ such that we get a provable reduction\n",
    "in the distance of the weight vector from the true vector.  To choose that, let...\n",
    "\n",
    "$$ \\beta^2 = \\max_i ||x_i||^2$$\n",
    "\n",
    "$$ \\gamma = \\min \\hat{w} x_i $$\n",
    "\n",
    "(This is greater than zero for all vectors.)"
   ]
  },
  {
   "cell_type": "markdown",
   "id": "16c9e9cb",
   "metadata": {},
   "source": [
    "Now:\n",
    "\n",
    "$$||w(\\tau+1f) - \\alpha \\hat{w}||^2 \\leq ||w(\\tau)-\\alpha \\hat{w}||^2 - 2 \\alpha\\gamma + \\beta^2$$\n",
    "\n",
    "If we choose $\\alpha = \\frac{\\beta^2}{\\gamma}$, then\n",
    "\n",
    "$$||w(\\tau+1) - \\alpha \\hat{w}||^2 \\leq ||w(\\tau)-\\alpha \\hat{w}||^2 - \\beta^2$$"
   ]
  },
  {
   "cell_type": "markdown",
   "id": "460d7e72",
   "metadata": {},
   "source": [
    "\n",
    "\n",
    "This means that after $k$ steps, we have a reduction by $k\\beta^2$ in the error.  Since the distance can't become negative, we have a bound on the number of corrections of:\n",
    "\n",
    "$$\\hat{k} = \\frac{||w(1) - \\alpha \\hat{w}||^2}{\\beta^2}$$\n",
    "\n",
    "Let's pick $w(1)=0$, then we get:\n",
    "\n",
    "$$\\hat{k} = \\frac{\\alpha^2 ||\\hat{w}||^2}{\\beta^2} = \\frac{\\beta^2 ||\\hat{w}||}{\\gamma^2} = \\frac{\\max ||x_i||^2 ||\\hat{w}||^2}{\\min (x_i\\cdot \\hat{w})^2}$$"
   ]
  },
  {
   "cell_type": "markdown",
   "id": "5d066ede",
   "metadata": {},
   "source": [
    "## Non-Separable Case"
   ]
  },
  {
   "cell_type": "markdown",
   "id": "a699f0b3",
   "metadata": {},
   "source": [
    "If classes are not separable, things get more difficult.  In fact, it's not even clear what kind of solution we are looking for in that case.\n",
    "\n",
    "The most obvious solution we might want, the solution that has the minimum number of samples \"on the wrong side\" of the decision boundary is computationally hard to find.\n",
    "\n",
    "There are, however, other kinds of criteria we might apply:\n",
    "\n",
    "- Minimize the perceptron criterion function.\n",
    "- Find a good \"least square approximation\", that is, try to minimize $\\sum_i |a\\cdot x_i - c_i|^2$ (note that we cannot use the sign flip in this case).\n",
    "- Find a good \"least square approximation\", for some other objective function, as in $\\sum_i f(a \\cdot x_i - c_i)$ (note that we cannot use the sign flip in this case).\n",
    "\n"
   ]
  },
  {
   "cell_type": "markdown",
   "id": "f00895cc",
   "metadata": {},
   "source": [
    "## Multi-Class Case"
   ]
  },
  {
   "cell_type": "markdown",
   "id": "58cc0320",
   "metadata": {},
   "source": [
    "There are several different approaches we can take to the multiclass case:\n",
    "\n",
    "- We can transform the classification problem into $n$ 1-vs-rest problems; then, we get $n$ linear functions $g_c(x) = a_c \\cdot x$.  We can treat these functions as discriminant functions and use the decision rule $D(x) = \\arg\\max_c g_c(x) = \\arg\\max_i a_i \\cdot x$.\n",
    "- We can train $n \\choose 2$ different dichotomies for classes.  These dichotomies are not going to be entirely consistent, but we can treat them as a corrupted binary vector of the true dichotomies and perform \"error correction\".\n",
    "- We can encode the the $n \\choose 2$ dichotomies in a single binary classification problem via Kessler's construction.  That is, let $a = (a_1,...,a_M)$.  we write down for each input vector $x_i$ a series of outputs of different classification problems (Kessler's construction.  This is another way of expressing the previous approach.\n",
    "- We can consider the classifier as a map from $R^n \\rightarrow \\{0,1\\}^M$, where the output vectors are binary vectors of the special form $y_i = (\\delta_{1,c_i},...,\\delta_{M,c_i})$ (i.e., all zero except for a 1 in position $c$).  Then, we minimize $e = \\sum_i |A \\cdot x_i - y_i|^2$.\n",
    "- We can consider any sufficiently large and complete collection of binary classifiers on the original data (these might include training, say, {8,9,0} vs the rest); this collection then gives us as output a binary vector of classification results.  Instead of trying to write rules manually for mapping these binary vectors into output classes, we can simply use them as input vectors for another classifier.  This is called stacking of classifiers."
   ]
  },
  {
   "cell_type": "code",
   "execution_count": null,
   "id": "c83dbc78",
   "metadata": {
    "collapsed": false
   },
   "outputs": [],
   "source": []
  }
 ],
 "metadata": {},
 "nbformat": 4,
 "nbformat_minor": 5
}
